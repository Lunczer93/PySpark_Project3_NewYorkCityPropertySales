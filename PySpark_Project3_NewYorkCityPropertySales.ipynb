{
 "cells": [
  {
   "cell_type": "markdown",
   "id": "c751952c",
   "metadata": {},
   "source": [
    "# Starting Spark Session"
   ]
  },
  {
   "cell_type": "code",
   "execution_count": 1,
   "id": "ed3b5b1f",
   "metadata": {},
   "outputs": [],
   "source": [
    "import os\n",
    "import sys\n",
    "import glob\n",
    "os.environ[\"PYARROW_IGNORE_TIMEZONE\"] = \"1\"\n",
    "os.environ['PYSPARK_PYTHON'] = sys.executable\n",
    "os.environ['PYSPARK_DRIVER_PYTHON'] = sys.executable"
   ]
  },
  {
   "cell_type": "code",
   "execution_count": 2,
   "id": "a575de01",
   "metadata": {},
   "outputs": [],
   "source": [
    "from pyspark.sql import SparkSession,functions, Window\n",
    "from pyspark.sql.functions import *\n",
    "from pyspark.sql.types import IntegerType,BooleanType,DateType, LongType,  DoubleType, StringType\n",
    "import pyspark.pandas as ps\n",
    "import pandas as pd"
   ]
  },
  {
   "cell_type": "markdown",
   "id": "7c88c2cf",
   "metadata": {},
   "source": [
    "# Creating a Spark Session called NewYorkCitySalesProperty"
   ]
  },
  {
   "cell_type": "code",
   "execution_count": 3,
   "id": "9e1fea67",
   "metadata": {},
   "outputs": [],
   "source": [
    "spark = SparkSession.builder \\\n",
    "      .master(\"local[1]\") \\\n",
    "      .appName(\"NewYorkCitySalesProperty\") \\\n",
    "      .config(\"spark.some.config.option\", \"config-value\") \\\n",
    "      .enableHiveSupport() \\\n",
    "      .getOrCreate()\n",
    "  "
   ]
  },
  {
   "cell_type": "code",
   "execution_count": 4,
   "id": "32e9460c",
   "metadata": {},
   "outputs": [
    {
     "data": {
      "text/html": [
       "\n",
       "            <div>\n",
       "                <p><b>SparkSession - hive</b></p>\n",
       "                \n",
       "        <div>\n",
       "            <p><b>SparkContext</b></p>\n",
       "\n",
       "            <p><a href=\"http://192.168.0.13:4040\">Spark UI</a></p>\n",
       "\n",
       "            <dl>\n",
       "              <dt>Version</dt>\n",
       "                <dd><code>v3.4.0</code></dd>\n",
       "              <dt>Master</dt>\n",
       "                <dd><code>local[1]</code></dd>\n",
       "              <dt>AppName</dt>\n",
       "                <dd><code>NewYorkCitySalesProperty</code></dd>\n",
       "            </dl>\n",
       "        </div>\n",
       "        \n",
       "            </div>\n",
       "        "
      ],
      "text/plain": [
       "<pyspark.sql.session.SparkSession at 0x1e4fd2599c0>"
      ]
     },
     "execution_count": 4,
     "metadata": {},
     "output_type": "execute_result"
    }
   ],
   "source": [
    "spark"
   ]
  },
  {
   "cell_type": "markdown",
   "id": "af006a78",
   "metadata": {},
   "source": [
    "# Browsing .csv Bronx files "
   ]
  },
  {
   "cell_type": "code",
   "execution_count": 5,
   "id": "58f6ab80",
   "metadata": {
    "scrolled": true
   },
   "outputs": [
    {
     "name": "stdout",
     "output_type": "stream",
     "text": [
      "\n",
      "File names: C:\\My commercial projects\\PySpark\\Project 3 PySpark\\New York City Property Sales\\Bronx\\Bronx\\03_Bronx.csv\n",
      "\n",
      "File names: C:\\My commercial projects\\PySpark\\Project 3 PySpark\\New York City Property Sales\\Bronx\\Bronx\\04_Bronx.csv\n",
      "\n",
      "File names: C:\\My commercial projects\\PySpark\\Project 3 PySpark\\New York City Property Sales\\Bronx\\Bronx\\05_Bronx.csv\n",
      "\n",
      "File names: C:\\My commercial projects\\PySpark\\Project 3 PySpark\\New York City Property Sales\\Bronx\\Bronx\\06_Bronx.csv\n",
      "\n",
      "File names: C:\\My commercial projects\\PySpark\\Project 3 PySpark\\New York City Property Sales\\Bronx\\Bronx\\2007_Bronx.csv\n",
      "\n",
      "File names: C:\\My commercial projects\\PySpark\\Project 3 PySpark\\New York City Property Sales\\Bronx\\Bronx\\2008_Bronx.csv\n",
      "\n",
      "File names: C:\\My commercial projects\\PySpark\\Project 3 PySpark\\New York City Property Sales\\Bronx\\Bronx\\2009_Bronx.csv\n",
      "\n",
      "File names: C:\\My commercial projects\\PySpark\\Project 3 PySpark\\New York City Property Sales\\Bronx\\Bronx\\2010_Bronx.csv\n",
      "\n",
      "File names: C:\\My commercial projects\\PySpark\\Project 3 PySpark\\New York City Property Sales\\Bronx\\Bronx\\2011_Bronx.csv\n",
      "\n",
      "File names: C:\\My commercial projects\\PySpark\\Project 3 PySpark\\New York City Property Sales\\Bronx\\Bronx\\2012_Bronx.csv\n",
      "\n",
      "File names: C:\\My commercial projects\\PySpark\\Project 3 PySpark\\New York City Property Sales\\Bronx\\Bronx\\2013_Bronx.csv\n",
      "\n",
      "File names: C:\\My commercial projects\\PySpark\\Project 3 PySpark\\New York City Property Sales\\Bronx\\Bronx\\2014_Bronx.csv\n",
      "\n",
      "File names: C:\\My commercial projects\\PySpark\\Project 3 PySpark\\New York City Property Sales\\Bronx\\Bronx\\2015_Bronx.csv\n",
      "\n",
      "File names: C:\\My commercial projects\\PySpark\\Project 3 PySpark\\New York City Property Sales\\Bronx\\Bronx\\2016_Bronx.csv\n",
      "\n",
      "File names: C:\\My commercial projects\\PySpark\\Project 3 PySpark\\New York City Property Sales\\Bronx\\Bronx\\2017_Bronx.csv\n",
      "\n",
      "File names: C:\\My commercial projects\\PySpark\\Project 3 PySpark\\New York City Property Sales\\Bronx\\Bronx\\2018_Bronx.csv\n",
      "\n",
      "File names: C:\\My commercial projects\\PySpark\\Project 3 PySpark\\New York City Property Sales\\Bronx\\Bronx\\2019_Bronx.csv\n",
      "\n",
      "File names: C:\\My commercial projects\\PySpark\\Project 3 PySpark\\New York City Property Sales\\Bronx\\Bronx\\Bronx20032019.csv\n"
     ]
    }
   ],
   "source": [
    "path = r'C:\\My commercial projects\\PySpark\\Project 3 PySpark\\New York City Property Sales\\Bronx\\Bronx'\n",
    "\n",
    "filenames = glob.glob(path + '\\*.csv')\n",
    "\n",
    "for file in filenames:\n",
    "    print('\\nFile names:', file)"
   ]
  },
  {
   "cell_type": "markdown",
   "id": "0da513f4",
   "metadata": {},
   "source": [
    "## Save all .csv file into one using pandas"
   ]
  },
  {
   "cell_type": "code",
   "execution_count": 6,
   "id": "c4b24dc0",
   "metadata": {},
   "outputs": [
    {
     "name": "stderr",
     "output_type": "stream",
     "text": [
      "C:\\Users\\dlugo\\AppData\\Local\\Temp\\ipykernel_33636\\3453408857.py:10: DtypeWarning: Columns (7) have mixed types. Specify dtype option on import or set low_memory=False.\n",
      "  df_temp = pd.read_csv(name)\n"
     ]
    }
   ],
   "source": [
    "# Navigate to the folder where your CSV files are \n",
    "os.chdir(r'C:\\My commercial projects\\PySpark\\Project 3 PySpark\\New York City Property Sales\\Bronx\\Bronx')\n",
    "\n",
    "# Create an empty dataframe\n",
    "df = pd.DataFrame([])\n",
    "\n",
    "# Read all CSV files and append them to df\n",
    "for root, dirs, files in os.walk(\".\"):\n",
    "   for name in files:\n",
    "       df_temp = pd.read_csv(name)\n",
    "       df = pd.concat([df,df_temp])\n",
    "\n",
    "# Save df to a CSV file\n",
    "df.to_csv('Bronx20032019.csv')"
   ]
  },
  {
   "cell_type": "markdown",
   "id": "3828bb5d",
   "metadata": {},
   "source": [
    "# Browsing .csv Brooklyn files "
   ]
  },
  {
   "cell_type": "code",
   "execution_count": 7,
   "id": "2f49a5a1",
   "metadata": {
    "scrolled": true
   },
   "outputs": [
    {
     "name": "stdout",
     "output_type": "stream",
     "text": [
      "\n",
      "File names: C:\\My commercial projects\\PySpark\\Project 3 PySpark\\New York City Property Sales\\Brooklyn\\Brooklyn\\03_Brooklyn.csv\n",
      "\n",
      "File names: C:\\My commercial projects\\PySpark\\Project 3 PySpark\\New York City Property Sales\\Brooklyn\\Brooklyn\\04_Brooklyn.csv\n",
      "\n",
      "File names: C:\\My commercial projects\\PySpark\\Project 3 PySpark\\New York City Property Sales\\Brooklyn\\Brooklyn\\05_Brooklyn.csv\n",
      "\n",
      "File names: C:\\My commercial projects\\PySpark\\Project 3 PySpark\\New York City Property Sales\\Brooklyn\\Brooklyn\\06_Brooklyn.csv\n",
      "\n",
      "File names: C:\\My commercial projects\\PySpark\\Project 3 PySpark\\New York City Property Sales\\Brooklyn\\Brooklyn\\2007_Brooklyn.csv\n",
      "\n",
      "File names: C:\\My commercial projects\\PySpark\\Project 3 PySpark\\New York City Property Sales\\Brooklyn\\Brooklyn\\2008_Brooklyn.csv\n",
      "\n",
      "File names: C:\\My commercial projects\\PySpark\\Project 3 PySpark\\New York City Property Sales\\Brooklyn\\Brooklyn\\2009_Brooklyn.csv\n",
      "\n",
      "File names: C:\\My commercial projects\\PySpark\\Project 3 PySpark\\New York City Property Sales\\Brooklyn\\Brooklyn\\2010_Brooklyn.csv\n",
      "\n",
      "File names: C:\\My commercial projects\\PySpark\\Project 3 PySpark\\New York City Property Sales\\Brooklyn\\Brooklyn\\2011_Brooklyn.csv\n",
      "\n",
      "File names: C:\\My commercial projects\\PySpark\\Project 3 PySpark\\New York City Property Sales\\Brooklyn\\Brooklyn\\2012_Brooklyn.csv\n",
      "\n",
      "File names: C:\\My commercial projects\\PySpark\\Project 3 PySpark\\New York City Property Sales\\Brooklyn\\Brooklyn\\2013_Brooklyn.csv\n",
      "\n",
      "File names: C:\\My commercial projects\\PySpark\\Project 3 PySpark\\New York City Property Sales\\Brooklyn\\Brooklyn\\2014_Brooklyn.csv\n",
      "\n",
      "File names: C:\\My commercial projects\\PySpark\\Project 3 PySpark\\New York City Property Sales\\Brooklyn\\Brooklyn\\2015_Brooklyn.csv\n",
      "\n",
      "File names: C:\\My commercial projects\\PySpark\\Project 3 PySpark\\New York City Property Sales\\Brooklyn\\Brooklyn\\2016_Brooklyn.csv\n",
      "\n",
      "File names: C:\\My commercial projects\\PySpark\\Project 3 PySpark\\New York City Property Sales\\Brooklyn\\Brooklyn\\2017_Brooklyn.csv\n",
      "\n",
      "File names: C:\\My commercial projects\\PySpark\\Project 3 PySpark\\New York City Property Sales\\Brooklyn\\Brooklyn\\2018_Brooklyn.csv\n",
      "\n",
      "File names: C:\\My commercial projects\\PySpark\\Project 3 PySpark\\New York City Property Sales\\Brooklyn\\Brooklyn\\2019_Brooklyn.csv\n",
      "\n",
      "File names: C:\\My commercial projects\\PySpark\\Project 3 PySpark\\New York City Property Sales\\Brooklyn\\Brooklyn\\Brooklyn20032019.csv\n"
     ]
    }
   ],
   "source": [
    "path = r'C:\\My commercial projects\\PySpark\\Project 3 PySpark\\New York City Property Sales\\Brooklyn\\Brooklyn'\n",
    "\n",
    "filenames = glob.glob(path + '\\*.csv')\n",
    "\n",
    "for file in filenames:\n",
    "    print('\\nFile names:', file)"
   ]
  },
  {
   "cell_type": "markdown",
   "id": "761888d3",
   "metadata": {},
   "source": [
    "## Save all .csv file into one using pandas"
   ]
  },
  {
   "cell_type": "code",
   "execution_count": 8,
   "id": "464014e8",
   "metadata": {},
   "outputs": [
    {
     "name": "stderr",
     "output_type": "stream",
     "text": [
      "C:\\Users\\dlugo\\AppData\\Local\\Temp\\ipykernel_33636\\3008750746.py:10: DtypeWarning: Columns (7) have mixed types. Specify dtype option on import or set low_memory=False.\n",
      "  df_temp = pd.read_csv(name)\n"
     ]
    }
   ],
   "source": [
    "# Navigate to the folder where your CSV files are \n",
    "os.chdir(r'C:\\My commercial projects\\PySpark\\Project 3 PySpark\\New York City Property Sales\\Brooklyn\\Brooklyn')\n",
    "\n",
    "# Create an empty dataframe\n",
    "df = pd.DataFrame([])\n",
    "\n",
    "# Read all CSV files and append them to df\n",
    "for root, dirs, files in os.walk(\".\"):\n",
    "   for name in files:\n",
    "       df_temp = pd.read_csv(name)\n",
    "       df = pd.concat([df,df_temp])\n",
    "\n",
    "# Save df to a CSV file\n",
    "df.to_csv('Brooklyn20032019.csv')"
   ]
  },
  {
   "cell_type": "markdown",
   "id": "aa987a88",
   "metadata": {},
   "source": [
    "# Browsing .csv Manhattan files \n"
   ]
  },
  {
   "cell_type": "code",
   "execution_count": 9,
   "id": "0a54296c",
   "metadata": {},
   "outputs": [
    {
     "name": "stdout",
     "output_type": "stream",
     "text": [
      "\n",
      "File names: C:\\My commercial projects\\PySpark\\Project 3 PySpark\\New York City Property Sales\\Manhattan\\Manhattan\\03_Manhattan.csv\n",
      "\n",
      "File names: C:\\My commercial projects\\PySpark\\Project 3 PySpark\\New York City Property Sales\\Manhattan\\Manhattan\\04_Manhattan.csv\n",
      "\n",
      "File names: C:\\My commercial projects\\PySpark\\Project 3 PySpark\\New York City Property Sales\\Manhattan\\Manhattan\\05_Manhattan.csv\n",
      "\n",
      "File names: C:\\My commercial projects\\PySpark\\Project 3 PySpark\\New York City Property Sales\\Manhattan\\Manhattan\\06_Manhattan.csv\n",
      "\n",
      "File names: C:\\My commercial projects\\PySpark\\Project 3 PySpark\\New York City Property Sales\\Manhattan\\Manhattan\\2007_Manhattan.csv\n",
      "\n",
      "File names: C:\\My commercial projects\\PySpark\\Project 3 PySpark\\New York City Property Sales\\Manhattan\\Manhattan\\2008_Manhattan.csv\n",
      "\n",
      "File names: C:\\My commercial projects\\PySpark\\Project 3 PySpark\\New York City Property Sales\\Manhattan\\Manhattan\\2009_Manhattan.csv\n",
      "\n",
      "File names: C:\\My commercial projects\\PySpark\\Project 3 PySpark\\New York City Property Sales\\Manhattan\\Manhattan\\2010_Manhattan.csv\n",
      "\n",
      "File names: C:\\My commercial projects\\PySpark\\Project 3 PySpark\\New York City Property Sales\\Manhattan\\Manhattan\\2011_Manhattan.csv\n",
      "\n",
      "File names: C:\\My commercial projects\\PySpark\\Project 3 PySpark\\New York City Property Sales\\Manhattan\\Manhattan\\2012_Manhattan.csv\n",
      "\n",
      "File names: C:\\My commercial projects\\PySpark\\Project 3 PySpark\\New York City Property Sales\\Manhattan\\Manhattan\\2013_Manhattan.csv\n",
      "\n",
      "File names: C:\\My commercial projects\\PySpark\\Project 3 PySpark\\New York City Property Sales\\Manhattan\\Manhattan\\2014_Manhattan.csv\n",
      "\n",
      "File names: C:\\My commercial projects\\PySpark\\Project 3 PySpark\\New York City Property Sales\\Manhattan\\Manhattan\\2015_Manhattan.csv\n",
      "\n",
      "File names: C:\\My commercial projects\\PySpark\\Project 3 PySpark\\New York City Property Sales\\Manhattan\\Manhattan\\2016_Manhattan.csv\n",
      "\n",
      "File names: C:\\My commercial projects\\PySpark\\Project 3 PySpark\\New York City Property Sales\\Manhattan\\Manhattan\\2017_Manhattan.csv\n",
      "\n",
      "File names: C:\\My commercial projects\\PySpark\\Project 3 PySpark\\New York City Property Sales\\Manhattan\\Manhattan\\2018_Manhattan.csv\n",
      "\n",
      "File names: C:\\My commercial projects\\PySpark\\Project 3 PySpark\\New York City Property Sales\\Manhattan\\Manhattan\\2019_Manhattan.csv\n",
      "\n",
      "File names: C:\\My commercial projects\\PySpark\\Project 3 PySpark\\New York City Property Sales\\Manhattan\\Manhattan\\Manhattan20032019.csv\n"
     ]
    }
   ],
   "source": [
    "path = r'C:\\My commercial projects\\PySpark\\Project 3 PySpark\\New York City Property Sales\\Manhattan\\Manhattan'\n",
    "\n",
    "filenames = glob.glob(path + '\\*.csv')\n",
    "\n",
    "for file in filenames:\n",
    "    print('\\nFile names:', file)\n"
   ]
  },
  {
   "cell_type": "markdown",
   "id": "689ee08b",
   "metadata": {},
   "source": [
    "## Save all .csv file into one using pandas"
   ]
  },
  {
   "cell_type": "code",
   "execution_count": 10,
   "id": "07b2ff6e",
   "metadata": {},
   "outputs": [
    {
     "name": "stderr",
     "output_type": "stream",
     "text": [
      "C:\\Users\\dlugo\\AppData\\Local\\Temp\\ipykernel_33636\\486225757.py:10: DtypeWarning: Columns (7) have mixed types. Specify dtype option on import or set low_memory=False.\n",
      "  df_temp = pd.read_csv(name)\n"
     ]
    }
   ],
   "source": [
    "# Navigate to the folder where your CSV files are \n",
    "os.chdir(r'C:\\My commercial projects\\PySpark\\Project 3 PySpark\\New York City Property Sales\\Manhattan\\Manhattan')\n",
    "\n",
    "# Create an empty dataframe\n",
    "df = pd.DataFrame([])\n",
    "\n",
    "# Read all CSV files and append them to df\n",
    "for root, dirs, files in os.walk(\".\"):\n",
    "   for name in files:\n",
    "       df_temp = pd.read_csv(name)\n",
    "       df = pd.concat([df,df_temp])\n",
    "\n",
    "# Save df to a CSV file\n",
    "df.to_csv('Manhattan20032019.csv')"
   ]
  },
  {
   "cell_type": "markdown",
   "id": "884a8c63",
   "metadata": {},
   "source": [
    "# Browsing .csv Queens files \n"
   ]
  },
  {
   "cell_type": "code",
   "execution_count": 11,
   "id": "d68fb4a9",
   "metadata": {},
   "outputs": [
    {
     "name": "stdout",
     "output_type": "stream",
     "text": [
      "\n",
      "File names: C:\\My commercial projects\\PySpark\\Project 3 PySpark\\New York City Property Sales\\Queens\\Queens\\03_Queens.csv\n",
      "\n",
      "File names: C:\\My commercial projects\\PySpark\\Project 3 PySpark\\New York City Property Sales\\Queens\\Queens\\04_Queens.csv\n",
      "\n",
      "File names: C:\\My commercial projects\\PySpark\\Project 3 PySpark\\New York City Property Sales\\Queens\\Queens\\05_Queens.csv\n",
      "\n",
      "File names: C:\\My commercial projects\\PySpark\\Project 3 PySpark\\New York City Property Sales\\Queens\\Queens\\06_Queens.csv\n",
      "\n",
      "File names: C:\\My commercial projects\\PySpark\\Project 3 PySpark\\New York City Property Sales\\Queens\\Queens\\2007_Queens.csv\n",
      "\n",
      "File names: C:\\My commercial projects\\PySpark\\Project 3 PySpark\\New York City Property Sales\\Queens\\Queens\\2008_Queens.csv\n",
      "\n",
      "File names: C:\\My commercial projects\\PySpark\\Project 3 PySpark\\New York City Property Sales\\Queens\\Queens\\2009_Queens.csv\n",
      "\n",
      "File names: C:\\My commercial projects\\PySpark\\Project 3 PySpark\\New York City Property Sales\\Queens\\Queens\\2010_Queens.csv\n",
      "\n",
      "File names: C:\\My commercial projects\\PySpark\\Project 3 PySpark\\New York City Property Sales\\Queens\\Queens\\2011_Queens.csv\n",
      "\n",
      "File names: C:\\My commercial projects\\PySpark\\Project 3 PySpark\\New York City Property Sales\\Queens\\Queens\\2012_Queens.csv\n",
      "\n",
      "File names: C:\\My commercial projects\\PySpark\\Project 3 PySpark\\New York City Property Sales\\Queens\\Queens\\2013_Queens.csv\n",
      "\n",
      "File names: C:\\My commercial projects\\PySpark\\Project 3 PySpark\\New York City Property Sales\\Queens\\Queens\\2014_Queens.csv\n",
      "\n",
      "File names: C:\\My commercial projects\\PySpark\\Project 3 PySpark\\New York City Property Sales\\Queens\\Queens\\2015_Queens.csv\n",
      "\n",
      "File names: C:\\My commercial projects\\PySpark\\Project 3 PySpark\\New York City Property Sales\\Queens\\Queens\\2016_Queens.csv\n",
      "\n",
      "File names: C:\\My commercial projects\\PySpark\\Project 3 PySpark\\New York City Property Sales\\Queens\\Queens\\2017_Queens.csv\n",
      "\n",
      "File names: C:\\My commercial projects\\PySpark\\Project 3 PySpark\\New York City Property Sales\\Queens\\Queens\\2018_Queens.csv\n",
      "\n",
      "File names: C:\\My commercial projects\\PySpark\\Project 3 PySpark\\New York City Property Sales\\Queens\\Queens\\2019_Queens.csv\n",
      "\n",
      "File names: C:\\My commercial projects\\PySpark\\Project 3 PySpark\\New York City Property Sales\\Queens\\Queens\\Queens20032019.csv\n"
     ]
    }
   ],
   "source": [
    "path = r'C:\\My commercial projects\\PySpark\\Project 3 PySpark\\New York City Property Sales\\Queens\\Queens'\n",
    "\n",
    "filenames = glob.glob(path + '\\*.csv')\n",
    "\n",
    "for file in filenames:\n",
    "    print('\\nFile names:', file)"
   ]
  },
  {
   "cell_type": "markdown",
   "id": "2b9fe5ea",
   "metadata": {},
   "source": [
    "## Save all .csv file into one using pandas"
   ]
  },
  {
   "cell_type": "code",
   "execution_count": 12,
   "id": "d4ecc8a7",
   "metadata": {},
   "outputs": [
    {
     "name": "stderr",
     "output_type": "stream",
     "text": [
      "C:\\Users\\dlugo\\AppData\\Local\\Temp\\ipykernel_33636\\2432328090.py:10: DtypeWarning: Columns (7) have mixed types. Specify dtype option on import or set low_memory=False.\n",
      "  df_temp = pd.read_csv(name)\n"
     ]
    }
   ],
   "source": [
    "# Navigate to the folder where your CSV files are \n",
    "os.chdir(r'C:\\My commercial projects\\PySpark\\Project 3 PySpark\\New York City Property Sales\\Queens\\Queens')\n",
    "\n",
    "# Create an empty dataframe\n",
    "df = pd.DataFrame([])\n",
    "\n",
    "# Read all CSV files and append them to df\n",
    "for root, dirs, files in os.walk(\".\"):\n",
    "   for name in files:\n",
    "       df_temp = pd.read_csv(name)\n",
    "       df = pd.concat([df,df_temp])\n",
    "\n",
    "# Save df to a CSV file\n",
    "df.to_csv('Queens20032019.csv')"
   ]
  },
  {
   "cell_type": "markdown",
   "id": "f2424a0b",
   "metadata": {},
   "source": [
    "# Browsing .csv StatensIsland files \n"
   ]
  },
  {
   "cell_type": "code",
   "execution_count": 13,
   "id": "4c27a7cf",
   "metadata": {},
   "outputs": [
    {
     "name": "stdout",
     "output_type": "stream",
     "text": [
      "\n",
      "File names: C:\\My commercial projects\\PySpark\\Project 3 PySpark\\New York City Property Sales\\StatenIsland\\StatenIsland\\03_StatenIsland.csv\n",
      "\n",
      "File names: C:\\My commercial projects\\PySpark\\Project 3 PySpark\\New York City Property Sales\\StatenIsland\\StatenIsland\\04_StatenIsland.csv\n",
      "\n",
      "File names: C:\\My commercial projects\\PySpark\\Project 3 PySpark\\New York City Property Sales\\StatenIsland\\StatenIsland\\05_StatenIsland.csv\n",
      "\n",
      "File names: C:\\My commercial projects\\PySpark\\Project 3 PySpark\\New York City Property Sales\\StatenIsland\\StatenIsland\\06_StatenIsland.csv\n",
      "\n",
      "File names: C:\\My commercial projects\\PySpark\\Project 3 PySpark\\New York City Property Sales\\StatenIsland\\StatenIsland\\2007_StatenIsland.csv\n",
      "\n",
      "File names: C:\\My commercial projects\\PySpark\\Project 3 PySpark\\New York City Property Sales\\StatenIsland\\StatenIsland\\2008_StatenIsland.csv\n",
      "\n",
      "File names: C:\\My commercial projects\\PySpark\\Project 3 PySpark\\New York City Property Sales\\StatenIsland\\StatenIsland\\2009_StatenIsland.csv\n",
      "\n",
      "File names: C:\\My commercial projects\\PySpark\\Project 3 PySpark\\New York City Property Sales\\StatenIsland\\StatenIsland\\2010_StatenIsland.csv\n",
      "\n",
      "File names: C:\\My commercial projects\\PySpark\\Project 3 PySpark\\New York City Property Sales\\StatenIsland\\StatenIsland\\2011_StatenIsland.csv\n",
      "\n",
      "File names: C:\\My commercial projects\\PySpark\\Project 3 PySpark\\New York City Property Sales\\StatenIsland\\StatenIsland\\2012_StatenIsland.csv\n",
      "\n",
      "File names: C:\\My commercial projects\\PySpark\\Project 3 PySpark\\New York City Property Sales\\StatenIsland\\StatenIsland\\2013_StatenIsland.csv\n",
      "\n",
      "File names: C:\\My commercial projects\\PySpark\\Project 3 PySpark\\New York City Property Sales\\StatenIsland\\StatenIsland\\2014_StatenIsland.csv\n",
      "\n",
      "File names: C:\\My commercial projects\\PySpark\\Project 3 PySpark\\New York City Property Sales\\StatenIsland\\StatenIsland\\2015_StatenIsland.csv\n",
      "\n",
      "File names: C:\\My commercial projects\\PySpark\\Project 3 PySpark\\New York City Property Sales\\StatenIsland\\StatenIsland\\2016_StatenIsland.csv\n",
      "\n",
      "File names: C:\\My commercial projects\\PySpark\\Project 3 PySpark\\New York City Property Sales\\StatenIsland\\StatenIsland\\2017_StatenIsland.csv\n",
      "\n",
      "File names: C:\\My commercial projects\\PySpark\\Project 3 PySpark\\New York City Property Sales\\StatenIsland\\StatenIsland\\2018_StatenIsland.csv\n",
      "\n",
      "File names: C:\\My commercial projects\\PySpark\\Project 3 PySpark\\New York City Property Sales\\StatenIsland\\StatenIsland\\2019_StatenIsland.csv\n",
      "\n",
      "File names: C:\\My commercial projects\\PySpark\\Project 3 PySpark\\New York City Property Sales\\StatenIsland\\StatenIsland\\StatenIsland20032019.csv\n"
     ]
    }
   ],
   "source": [
    "path = r'C:\\My commercial projects\\PySpark\\Project 3 PySpark\\New York City Property Sales\\StatenIsland\\StatenIsland'\n",
    "\n",
    "filenames = glob.glob(path + '\\*.csv')\n",
    "\n",
    "for file in filenames:\n",
    "    print('\\nFile names:', file)"
   ]
  },
  {
   "cell_type": "markdown",
   "id": "db7ae174",
   "metadata": {},
   "source": [
    "## Save all .csv file into one using pandas"
   ]
  },
  {
   "cell_type": "code",
   "execution_count": 14,
   "id": "6b61c076",
   "metadata": {},
   "outputs": [
    {
     "name": "stderr",
     "output_type": "stream",
     "text": [
      "C:\\Users\\dlugo\\AppData\\Local\\Temp\\ipykernel_33636\\2995414345.py:10: DtypeWarning: Columns (7) have mixed types. Specify dtype option on import or set low_memory=False.\n",
      "  df_temp = pd.read_csv(name)\n"
     ]
    }
   ],
   "source": [
    "# Navigate to the folder where your CSV files are \n",
    "os.chdir(r'C:\\My commercial projects\\PySpark\\Project 3 PySpark\\New York City Property Sales\\StatenIsland\\StatenIsland')\n",
    "\n",
    "# Create an empty dataframe\n",
    "df = pd.DataFrame([])\n",
    "\n",
    "# Read all CSV files and append them to df\n",
    "for root, dirs, files in os.walk(\".\"):\n",
    "   for name in files:\n",
    "       df_temp = pd.read_csv(name)\n",
    "       df = pd.concat([df,df_temp])\n",
    "\n",
    "# Save df to a CSV file\n",
    "df.to_csv('StatenIsland20032019.csv')"
   ]
  },
  {
   "cell_type": "markdown",
   "id": "ed8f25df",
   "metadata": {},
   "source": [
    "# Opening a  BuildingClassification .csv file\n"
   ]
  },
  {
   "cell_type": "code",
   "execution_count": 15,
   "id": "00a30f54",
   "metadata": {},
   "outputs": [],
   "source": [
    "path = r'C:\\My commercial projects\\PySpark\\Project 3 PySpark\\New York City Property Sales\\BuildingClassification.csv'\n",
    "\n",
    "df = spark.read.options(header='True', inferSchema='True', delimiter=',') \\\n",
    "  .csv(path)"
   ]
  },
  {
   "cell_type": "code",
   "execution_count": 16,
   "id": "39a42009",
   "metadata": {},
   "outputs": [
    {
     "name": "stdout",
     "output_type": "stream",
     "text": [
      "+-------------+------------------------------------------+\n",
      "|Building Code|Description                               |\n",
      "+-------------+------------------------------------------+\n",
      "|A0           |CAPE COD                                  |\n",
      "|A1           |TWO STORIES - DETACHED SM OR MID          |\n",
      "|A2           |ONE STORY - PERMANENT LIVING QUARTER      |\n",
      "|A3           |LARGE SUBURBAN RESIDENCE                  |\n",
      "|A4           |CITY RESIDENCE ONE FAMILY                 |\n",
      "|A5           |ONE FAMILY ATTACHED OR SEMI-DETACHED      |\n",
      "|A6           |SUMMER COTTAGE                            |\n",
      "|A7           |MANSION TYPE OR TOWN HOUSE                |\n",
      "|A8           |BUNGALOW COLONY - COOPERATIVELY OWNED LAND|\n",
      "|A9           |MISCELLANEOUS ONE FAMILY                  |\n",
      "|B1           |TWO FAMILY BRICK                          |\n",
      "|B2           |TWO FAMILY FRAME                          |\n",
      "|B3           |TWO FAMILY CONVERTED FROM ONE FAMILY      |\n",
      "|B9           |MISCELLANEOUS TWO FAMILY                  |\n",
      "|C0           |THREE FAMILIES                            |\n",
      "|C1           |OVER SIX FAMILIES WITHOUT STORES          |\n",
      "|C2           |FIVE TO SIX FAMILIES                      |\n",
      "|C3           |FOUR FAMILIES                             |\n",
      "|C4           |OLD LAW TENEMENT                          |\n",
      "|C5           |CONVERTED DWELLINGS OR ROOMING HOUSE      |\n",
      "+-------------+------------------------------------------+\n",
      "only showing top 20 rows\n",
      "\n"
     ]
    }
   ],
   "source": [
    "df.show(truncate=False)"
   ]
  },
  {
   "cell_type": "markdown",
   "id": "ce2c8faa",
   "metadata": {},
   "source": [
    "# Reading csv files into Spark DataFrame"
   ]
  },
  {
   "cell_type": "code",
   "execution_count": 17,
   "id": "fc3d8deb",
   "metadata": {},
   "outputs": [],
   "source": [
    "PathBronx = r'C:\\My commercial projects\\PySpark\\Project 3 PySpark\\New York City Property Sales\\Bronx\\Bronx\\Bronx20032019.csv'\n",
    "PathBrook = r'C:\\My commercial projects\\PySpark\\Project 3 PySpark\\New York City Property Sales\\Brooklyn\\Brooklyn\\Brooklyn20032019.csv'\n",
    "PathMan = r'C:\\My commercial projects\\PySpark\\Project 3 PySpark\\New York City Property Sales\\Manhattan\\Manhattan\\Manhattan20032019.csv'\n",
    "PathQ = r'C:\\My commercial projects\\PySpark\\Project 3 PySpark\\New York City Property Sales\\Queens\\Queens\\Queens20032019.csv'\n",
    "PathS = r'C:\\My commercial projects\\PySpark\\Project 3 PySpark\\New York City Property Sales\\StatenIsland\\StatenIsland\\StatenIsland20032019.csv'\n",
    "\n",
    "\n"
   ]
  },
  {
   "cell_type": "code",
   "execution_count": 18,
   "id": "ccd331b2",
   "metadata": {},
   "outputs": [],
   "source": [
    "dfBronx20032019 = spark.read.csv(PathBronx, header=True, inferSchema=True)\n",
    "dfBrooklyn20032019 = spark.read.csv(PathBrook, header=True, inferSchema=True)\n",
    "dfManhattan20032019 = spark.read.csv(PathMan, header=True, inferSchema=True)\n",
    "dfQueens20032019 = spark.read.csv(PathQ, header=True, inferSchema=True)\n",
    "dfStatenIsland20032019 = spark.read.csv(PathS, header=True, inferSchema=True)"
   ]
  },
  {
   "cell_type": "code",
   "execution_count": 19,
   "id": "ec304c36",
   "metadata": {},
   "outputs": [
    {
     "name": "stdout",
     "output_type": "stream",
     "text": [
      "+---+-------+--------------------+-----------------------+--------------------+------+-----+---------+-------------------------+--------------------+----------------+--------+-----------------+----------------+-----------+----------------+-----------------+----------+-------------------------+------------------------------+----------+-------------------+------------+----------+\n",
      "|_c0|Borough|        Neighborhood|Building Class Category|Tax Class At Present| Block|  Lot|Ease-Ment|Building Class At Present|             Address|Apartment Number|Zip Code|Residential Units|Commercial Units|Total Units|Land Square Feet|Gross Square Feet|Year Built|Tax Class At Time Of Sale|Building Class At Time Of Sale|Sale Price|          Sale Date|Unnamed: 0.1|Unnamed: 0|\n",
      "+---+-------+--------------------+-----------------------+--------------------+------+-----+---------+-------------------------+--------------------+----------------+--------+-----------------+----------------+-----------+----------------+-----------------+----------+-------------------------+------------------------------+----------+-------------------+------------+----------+\n",
      "|  0|    2.0|BATHGATE         ...|   01  ONE FAMILY HO...|                   1|2917.0| 15.0|         |                       A1|1848 WASHINGTON A...|                | 10457.0|              1.0|             0.0|        1.0|          2943.0|           2128.0|    1920.0|                      1.0|                            A1|  130000.0|2003-05-27 00:00:00|        null|      null|\n",
      "|  1|    2.0|BATHGATE         ...|   01  ONE FAMILY HO...|                   1|3028.0| 25.0|         |                       A5|412 EAST 179 STRE...|                | 10457.0|              1.0|             0.0|        1.0|          1842.0|           2048.0|    1901.0|                      1.0|                            A1|  204000.0|2003-04-07 00:00:00|        null|      null|\n",
      "|  2|    2.0|BATHGATE         ...|   01  ONE FAMILY HO...|                   1|3030.0| 55.0|         |                       A5|410 EAST 182 STRE...|                | 10457.0|              1.0|             0.0|        1.0|          1330.0|           1460.0|    1899.0|                      1.0|                            A1|  235000.0|2003-07-24 00:00:00|        null|      null|\n",
      "|  3|    2.0|BATHGATE         ...|   01  ONE FAMILY HO...|                   1|3035.0|  2.0|         |                       S1|441 EAST 178 STRE...|                | 10457.0|              1.0|             1.0|        2.0|          1287.0|           2378.0|    1899.0|                      1.0|                            S1|  125500.0|2003-05-02 00:00:00|        null|      null|\n",
      "|  4|    2.0|BATHGATE         ...|   01  ONE FAMILY HO...|                   1|3035.0| 52.0|         |                       A1|461 EAST 178 STRE...|                | 10457.0|              1.0|             0.0|        1.0|          1782.0|           1548.0|    1899.0|                      1.0|                            A1|  215000.0|2003-05-14 00:00:00|        null|      null|\n",
      "|  5|    2.0|BATHGATE         ...|   01  ONE FAMILY HO...|                   1|3045.0| 15.0|         |                       A1|2058 BATHGATE AVE...|                | 10457.0|              1.0|             0.0|        1.0|          1173.0|           1516.0|    1910.0|                      1.0|                            A1|       0.0|2003-07-09 00:00:00|        null|      null|\n",
      "|  6|    2.0|BATHGATE         ...|   01  ONE FAMILY HO...|                   1|3048.0| 19.0|         |                       A5|2186 BATHGATE AVE...|                | 10457.0|              1.0|             0.0|        1.0|          1768.0|           1188.0|    1901.0|                      1.0|                            A1|  245000.0|2003-04-15 00:00:00|        null|      null|\n",
      "|  7|    2.0|BATHGATE         ...|   01  ONE FAMILY HO...|                   1|3050.0| 91.0|         |                       A9|503 EAST 182 STRE...|                | 10457.0|              1.0|             0.0|        1.0|          1960.0|           1705.0|    1901.0|                      1.0|                            A9|     500.0|2003-06-02 00:00:00|        null|      null|\n",
      "|  8|    2.0|BATHGATE         ...|   01  ONE FAMILY HO...|                   1|3053.0| 87.0|         |                       S0|2368 WASHINGTON A...|                | 10458.0|              1.0|             2.0|        3.0|          1911.0|           4080.0|    1931.0|                      1.0|                            S0|  375000.0|2003-04-08 00:00:00|        null|      null|\n",
      "|  9|    2.0|BATHGATE         ...|   01  ONE FAMILY HO...|                   1|3053.0|108.0|         |                       A9|2317 BASSFORD AVE...|                | 10458.0|              1.0|             0.0|        1.0|           925.0|           1188.0|    1901.0|                      1.0|                            A9|       0.0|2003-09-10 00:00:00|        null|      null|\n",
      "| 10|    2.0|BATHGATE         ...|   02  TWO FAMILY HO...|                   1|2908.0| 35.0|         |                       B2|1833 WASHINGTON A...|                | 10457.0|              2.0|             0.0|        2.0|          2800.0|           1360.0|    1931.0|                      1.0|                            B2|  300000.0|2003-12-12 00:00:00|        null|      null|\n",
      "| 11|    2.0|BATHGATE         ...|   02  TWO FAMILY HO...|                   1|2912.0|113.0|         |                       B1|1530 WASHINGTON A...|                | 10457.0|              2.0|             0.0|        2.0|          2033.0|           2400.0|    1993.0|                      1.0|                            B1|       0.0|2003-05-29 00:00:00|        null|      null|\n",
      "| 12|    2.0|BATHGATE         ...|   02  TWO FAMILY HO...|                   1|2912.0|114.0|         |                       B1|1532 WASHINGTON A...|                | 10457.0|              2.0|             0.0|        2.0|          2000.0|           2400.0|    1993.0|                      1.0|                            B1|       0.0|2003-03-05 00:00:00|        null|      null|\n",
      "| 13|    2.0|BATHGATE         ...|   02  TWO FAMILY HO...|                   1|2912.0|117.0|         |                       B1|1538 WASHINGTON A...|                | 10457.0|              2.0|             0.0|        2.0|          2000.0|           2400.0|    1993.0|                      1.0|                            B1|  238000.0|2003-07-17 00:00:00|        null|      null|\n",
      "| 14|    2.0|BATHGATE         ...|   02  TWO FAMILY HO...|                   1|2912.0|144.0|         |                       B1|3813 3 AVENUE    ...|                | 10457.0|              2.0|             0.0|        2.0|          2000.0|           2400.0|    1993.0|                      1.0|                            B1|  191400.0|2003-07-23 00:00:00|        null|      null|\n",
      "| 15|    2.0|BATHGATE         ...|   02  TWO FAMILY HO...|                   1|2927.0|129.0|         |                       B1|1469 CROTONA PLAC...|                | 10456.0|              2.0|             0.0|        2.0|          1900.0|           2394.0|    1994.0|                      1.0|                            B1|       0.0|2003-11-14 00:00:00|        null|      null|\n",
      "| 16|    2.0|BATHGATE         ...|   02  TWO FAMILY HO...|                   1|2927.0|130.0|         |                       B1|1467 CROTONA PLAC...|                | 10456.0|              2.0|             0.0|        2.0|          1900.0|           2394.0|    1994.0|                      1.0|                            B1|  161065.0|2003-07-30 00:00:00|        null|      null|\n",
      "| 17|    2.0|BATHGATE         ...|   02  TWO FAMILY HO...|                   1|2929.0|135.0|         |                       B1|545 CLAREMONT PAR...|                | 10457.0|              2.0|             0.0|        2.0|          2332.0|           2394.0|    1995.0|                      1.0|                            B1|  280000.0|2003-02-25 00:00:00|        null|      null|\n",
      "| 18|    2.0|BATHGATE         ...|   02  TWO FAMILY HO...|                   1|3029.0| 33.0|         |                       B2|412 EAST 180 STRE...|                | 10457.0|              2.0|             0.0|        2.0|          2046.0|           2112.0|    1899.0|                      1.0|                            B2|  290000.0|2003-04-02 00:00:00|        null|      null|\n",
      "| 19|    2.0|BATHGATE         ...|   02  TWO FAMILY HO...|                   1|3029.0| 33.0|         |                       B2|412 EAST 180 STRE...|                | 10457.0|              2.0|             0.0|        2.0|          2046.0|           2112.0|    1899.0|                      1.0|                            B2|  150000.0|2003-01-21 00:00:00|        null|      null|\n",
      "+---+-------+--------------------+-----------------------+--------------------+------+-----+---------+-------------------------+--------------------+----------------+--------+-----------------+----------------+-----------+----------------+-----------------+----------+-------------------------+------------------------------+----------+-------------------+------------+----------+\n",
      "only showing top 20 rows\n",
      "\n"
     ]
    }
   ],
   "source": [
    "dfBronx20032019.show()"
   ]
  },
  {
   "cell_type": "code",
   "execution_count": 20,
   "id": "89e8b67f",
   "metadata": {},
   "outputs": [
    {
     "name": "stdout",
     "output_type": "stream",
     "text": [
      "+---+-------+--------------------+-----------------------+--------------------+------+-----+---------+-------------------------+--------------------+----------------+--------+-----------------+----------------+-----------+----------------+-----------------+----------+-------------------------+------------------------------+----------+-------------------+------------+----------+\n",
      "|_c0|Borough|        Neighborhood|Building Class Category|Tax Class At Present| Block|  Lot|Ease-Ment|Building Class At Present|             Address|Apartment Number|Zip Code|Residential Units|Commercial Units|Total Units|Land Square Feet|Gross Square Feet|Year Built|Tax Class At Time Of Sale|Building Class At Time Of Sale|Sale Price|          Sale Date|Unnamed: 0.1|Unnamed: 0|\n",
      "+---+-------+--------------------+-----------------------+--------------------+------+-----+---------+-------------------------+--------------------+----------------+--------+-----------------+----------------+-----------+----------------+-----------------+----------+-------------------------+------------------------------+----------+-------------------+------------+----------+\n",
      "|  0|    3.0|BATH BEACH       ...|   01  ONE FAMILY HO...|                   1|6364.0| 45.0|         |                       S1|1652 86 STREET   ...|                | 11214.0|              1.0|             1.0|        2.0|          1200.0|           1620.0|    1926.0|                      1.0|                            S1|  450000.0|2003-01-24 00:00:00|        null|      null|\n",
      "|  1|    3.0|BATH BEACH       ...|   01  ONE FAMILY HO...|                   1|6365.0| 44.0|         |                       S1|1690 86 STREET   ...|                | 11214.0|              1.0|             1.0|        2.0|          1473.0|           1656.0|    1931.0|                      1.0|                            S1|       0.0|2003-10-08 00:00:00|        null|      null|\n",
      "|  2|    3.0|BATH BEACH       ...|   01  ONE FAMILY HO...|                   1|6365.0| 44.0|         |                       S1|1690 86 STREET   ...|                | 11214.0|              1.0|             1.0|        2.0|          1473.0|           1656.0|    1931.0|                      1.0|                            S1|       0.0|2003-04-02 00:00:00|        null|      null|\n",
      "|  3|    3.0|BATH BEACH       ...|   01  ONE FAMILY HO...|                   1|6365.0|143.0|         |                       S1|1686 86 STREET   ...|                | 11214.0|              1.0|             1.0|        2.0|          1473.0|           1656.0|    1929.0|                      1.0|                            S1|       0.0|2003-04-02 00:00:00|        null|      null|\n",
      "|  4|    3.0|BATH BEACH       ...|   01  ONE FAMILY HO...|                   1|6366.0| 72.0|         |                       A1|8664 BAY 16 STREE...|                | 11214.0|              1.0|             0.0|        1.0|          4833.0|           2300.0|    1925.0|                      1.0|                            A1|       0.0|2003-09-05 00:00:00|        null|      null|\n",
      "|  5|    3.0|BATH BEACH       ...|   01  ONE FAMILY HO...|                   1|6367.0| 24.0|         |                       A9|8645 BAY 16 STREE...|                | 11214.0|              1.0|             0.0|        1.0|          1571.0|           1456.0|    1935.0|                      1.0|                            A9|       0.0|2003-05-12 00:00:00|        null|      null|\n",
      "|  6|    3.0|BATH BEACH       ...|   01  ONE FAMILY HO...|                   1|6371.0| 60.0|         |                       A9|8620 19 AVENUE   ...|                | 11214.0|              1.0|             0.0|        1.0|          2417.0|           2106.0|    1930.0|                      1.0|                            A9|       0.0|2003-04-29 00:00:00|        null|      null|\n",
      "|  7|    3.0|BATH BEACH       ...|   01  ONE FAMILY HO...|                    |6376.0| 53.0|         |                         |20 BAY 26 STREET ...|                | 11214.0|              0.0|             0.0|        0.0|             0.0|              0.0|       0.0|                      1.0|                            A1|  570000.0|2003-01-24 00:00:00|        null|      null|\n",
      "|  8|    3.0|BATH BEACH       ...|   01  ONE FAMILY HO...|                   1|6393.0| 16.0|         |                       A5|145 BAY 8 STREET ...|                | 11228.0|              1.0|             0.0|        1.0|          1716.0|           1554.0|    1920.0|                      1.0|                            A5|  320000.0|2003-02-27 00:00:00|        null|      null|\n",
      "|  9|    3.0|BATH BEACH       ...|   01  ONE FAMILY HO...|                   1|6395.0| 20.0|         |                       A5|135 BAY 10 STREET...|                | 11228.0|              1.0|             0.0|        1.0|          2417.0|           2000.0|    1935.0|                      1.0|                            A5|  427500.0|2003-06-17 00:00:00|        null|      null|\n",
      "| 10|    3.0|BATH BEACH       ...|   01  ONE FAMILY HO...|                   1|6399.0|  2.0|         |                       S1|1669 BATH AVENUE ...|                | 11214.0|              1.0|             1.0|        2.0|          1260.0|           2160.0|    1930.0|                      1.0|                            S1|       0.0|2003-04-05 00:00:00|        null|      null|\n",
      "| 11|    3.0|BATH BEACH       ...|   01  ONE FAMILY HO...|                   1|6399.0|  2.0|         |                       S1|1669 BATH AVENUE ...|                | 11214.0|              1.0|             1.0|        2.0|          1260.0|           2160.0|    1930.0|                      1.0|                            S1|       0.0|2003-04-05 00:00:00|        null|      null|\n",
      "| 12|    3.0|BATH BEACH       ...|   01  ONE FAMILY HO...|                   1|6399.0|  3.0|         |                       S1|1669 BATH AVENUE ...|                | 11214.0|              1.0|             1.0|        2.0|          1260.0|           2160.0|    1930.0|                      1.0|                            S1|       0.0|2003-04-05 00:00:00|        null|      null|\n",
      "| 13|    3.0|BATH BEACH       ...|   01  ONE FAMILY HO...|                   1|6399.0|  3.0|         |                       S1|1669 BATH AVENUE ...|                | 11214.0|              1.0|             1.0|        2.0|          1260.0|           2160.0|    1930.0|                      1.0|                            S1|       0.0|2003-04-05 00:00:00|        null|      null|\n",
      "| 14|    3.0|BATH BEACH       ...|   01  ONE FAMILY HO...|                   1|6399.0|104.0|         |                       S1|1663 BATH AVENUE ...|                | 11214.0|              1.0|             1.0|        2.0|          1260.0|           1908.0|    1930.0|                      1.0|                            S1|  355000.0|2003-07-21 00:00:00|        null|      null|\n",
      "| 15|    3.0|BATH BEACH       ...|   01  ONE FAMILY HO...|                   1|6401.0| 19.0|         |                       A5|8733 BAY 16 STREE...|                | 11214.0|              1.0|             0.0|        1.0|          2417.0|           2244.0|    1925.0|                      1.0|                            A5|       0.0|2003-05-27 00:00:00|        null|      null|\n",
      "| 16|    3.0|BATH BEACH       ...|   01  ONE FAMILY HO...|                   1|6401.0| 19.0|         |                       A5|8733 BAY 16 STREE...|                | 11214.0|              1.0|             0.0|        1.0|          2417.0|           2244.0|    1925.0|                      1.0|                            A5|       0.0|2003-04-14 00:00:00|        null|      null|\n",
      "| 17|    3.0|BATH BEACH       ...|   01  ONE FAMILY HO...|                   1|6402.0|  1.0|         |                       S1|1769 BATH AVENUE ...|                | 11214.0|              1.0|             1.0|        2.0|          1000.0|           1918.0|    1920.0|                      1.0|                            S1| 3307131.0|2003-11-20 00:00:00|        null|      null|\n",
      "| 18|    3.0|BATH BEACH       ...|   01  ONE FAMILY HO...|                   1|6402.0| 24.0|         |                       A5|119 BAY 17 STREET...|                | 11214.0|              1.0|             0.0|        1.0|          1611.0|           1410.0|    1910.0|                      1.0|                            A5|       0.0|2003-11-03 00:00:00|        null|      null|\n",
      "| 19|    3.0|BATH BEACH       ...|   01  ONE FAMILY HO...|                   1|6409.0| 40.0|         |                       A9|106 BAY 25 STREET...|                | 11214.0|              1.0|             0.0|        1.0|          1740.0|           1382.0|    1915.0|                      1.0|                            A9|       0.0|2003-08-29 00:00:00|        null|      null|\n",
      "+---+-------+--------------------+-----------------------+--------------------+------+-----+---------+-------------------------+--------------------+----------------+--------+-----------------+----------------+-----------+----------------+-----------------+----------+-------------------------+------------------------------+----------+-------------------+------------+----------+\n",
      "only showing top 20 rows\n",
      "\n"
     ]
    }
   ],
   "source": [
    "dfBrooklyn20032019.show()"
   ]
  },
  {
   "cell_type": "code",
   "execution_count": 21,
   "id": "2a4fe157",
   "metadata": {},
   "outputs": [
    {
     "name": "stdout",
     "output_type": "stream",
     "text": [
      "+---+-------+--------------------+-----------------------+-------------------------------+-----+---+---------+------------------------------------+--------------------+----------------+--------+-----------------+----------------+-----------+----------------+-----------------+----------+-------------------------+------------------------------+----------+-------------------+------------+----------+\n",
      "|_c0|Borough|        Neighborhood|Building Class Category|Tax Class As Of Final Roll 18/1|Block|Lot|Ease-Ment|Building Class As Of Final Roll 18/1|             Address|Apartment Number|Zip Code|Residential Units|Commercial Units|Total Units|Land Square Feet|Gross Square Feet|Year Built|Tax Class At Time Of Sale|Building Class At Time Of Sale|Sale Price|          Sale Date|Unnamed: 0.1|Unnamed: 0|\n",
      "+---+-------+--------------------+-----------------------+-------------------------------+-----+---+---------+------------------------------------+--------------------+----------------+--------+-----------------+----------------+-----------+----------------+-----------------+----------+-------------------------+------------------------------+----------+-------------------+------------+----------+\n",
      "|  0|      1|ALPHABET CITY    ...|   07  RENTALS - WAL...|                             2A|  372| 31|         |                                  C3|316 EAST 3 STREET...|                |   10009|              4.0|             0.0|        4.0|          5746.0|           2700.0|    1900.0|                        2|                            C3|         0|2003-12-18 00:00:00|        null|      null|\n",
      "|  1|      1|ALPHABET CITY    ...|   07  RENTALS - WAL...|                             2A|  372| 31|         |                                  C3|316 EAST 3 STREET...|                |   10009|              4.0|             0.0|        4.0|          5746.0|           2700.0|    1900.0|                        2|                            C3|         0|2003-12-18 00:00:00|        null|      null|\n",
      "|  2|      1|ALPHABET CITY    ...|   07  RENTALS - WAL...|                             2B|  378| 33|         |                                  C4|125 AVENUE D     ...|                |   10009|              6.0|             1.0|        7.0|          2185.0|           5725.0|    1910.0|                        2|                            C4|    426000|2003-10-23 00:00:00|        null|      null|\n",
      "|  3|      1|ALPHABET CITY    ...|   07  RENTALS - WAL...|                              2|  391| 12|         |                                  C1|610 EAST 9 STREET...|                |   10009|             24.0|             0.0|       24.0|          2543.0|          11568.0|    1910.0|                        2|                            C1|         0|2003-02-28 00:00:00|        null|      null|\n",
      "|  4|      1|ALPHABET CITY    ...|   07  RENTALS - WAL...|                             2A|  392|  5|         |                                  C2|151 AVENUE B     ...|                |   10009|              5.0|             0.0|        5.0|          2139.0|           4416.0|    1900.0|                        2|                            C2|         0|2003-08-28 00:00:00|        null|      null|\n",
      "|  5|      1|ALPHABET CITY    ...|   07  RENTALS - WAL...|                              2|  393| 26|         |                                  D5|636 EAST 11 STREE...|                |   10009|             63.0|             0.0|       63.0|          2369.0|          10355.0|    1880.0|                        2|                            C7|         0|2003-10-21 00:00:00|        null|      null|\n",
      "|  6|      1|ALPHABET CITY    ...|   07  RENTALS - WAL...|                             2B|  393| 27|         |                                  C4|636 EAST 11 STREE...|                |   10009|              9.0|             1.0|       10.0|          2370.0|           6652.0|    1900.0|                        2|                            C4|         0|2003-10-21 00:00:00|        null|      null|\n",
      "|  7|      1|ALPHABET CITY    ...|   07  RENTALS - WAL...|                             2B|  393| 36|         |                                  C7|165 AVENUE C     ...|                |   10009|              8.0|             2.0|       10.0|          1909.0|           7437.0|    1920.0|                        2|                            C7|         3|2003-06-16 00:00:00|        null|      null|\n",
      "|  8|      1|ALPHABET CITY    ...|   07  RENTALS - WAL...|                             2B|  393| 37|         |                                  C7|165 AVENUE C     ...|                |   10009|              8.0|             2.0|       10.0|          1920.0|           7485.0|    1920.0|                        2|                            C7|         3|2003-06-16 00:00:00|        null|      null|\n",
      "|  9|      1|ALPHABET CITY    ...|   07  RENTALS - WAL...|                             2B|  393| 38|         |                                  C7|165 AVENUE C     ...|                |   10009|              8.0|             2.0|       10.0|          1916.0|           7485.0|    1920.0|                        2|                            C7|         3|2003-06-16 00:00:00|        null|      null|\n",
      "| 10|      1|ALPHABET CITY    ...|   07  RENTALS - WAL...|                              2|  397|  6|         |                                  C7|14 AVENUE A      ...|                |   10009|             16.0|             1.0|       17.0|          2377.0|           8722.0|    1900.0|                        2|                            C7|   1600000|2003-09-08 00:00:00|        null|      null|\n",
      "| 11|      1|ALPHABET CITY    ...|   07  RENTALS - WAL...|                             2B|  401| 28|         |                                  C4|536 EAST 6 STREET...|                |   10009|             10.0|             0.0|       10.0|          1957.0|           6200.0|    1920.0|                        2|                            C4|   1060000|2003-04-30 00:00:00|        null|      null|\n",
      "| 12|      1|ALPHABET CITY    ...|   07  RENTALS - WAL...|                             2B|  402| 55|         |                                  C4|521 EAST 6 STREET...|                |   10009|             10.0|             0.0|       10.0|          2271.0|           7229.0|    1900.0|                        2|                            C4|      2500|2003-06-25 00:00:00|        null|      null|\n",
      "| 13|      1|ALPHABET CITY    ...|   07  RENTALS - WAL...|                             2B|  402| 62|         |                                  C4|507 EAST 6 STREET...|                |   10009|              8.0|             1.0|        9.0|          2271.0|           6855.0|    1920.0|                        2|                            C4|         0|2003-08-27 00:00:00|        null|      null|\n",
      "| 14|      1|ALPHABET CITY    ...|   07  RENTALS - WAL...|                              2|  407| 31|         |                                  C7|228 AVENUE B     ...|                |   10009|             20.0|             2.0|       22.0|          2842.0|          12613.0|    1900.0|                        2|                            C7|   3200000|2003-11-18 00:00:00|        null|      null|\n",
      "| 15|      1|ALPHABET CITY    ...|   08  RENTALS - ELE...|                              2|  394| 44|         |                                  D7|181 AVENUE C     ...|                |   10009|             30.0|             4.0|       34.0|          4295.0|          21328.0|    1910.0|                        2|                            D7|   3000000|2003-02-06 00:00:00|        null|      null|\n",
      "| 16|      1|ALPHABET CITY    ...|   09  COOPS - WALKU...|                              2|  373| 46|         |                                  C6|317 EAST 3RD ST, ...|                |   10009|              0.0|             0.0|        0.0|             0.0|              0.0|    1925.0|                        2|                            C6|    190000|2003-11-14 00:00:00|        null|      null|\n",
      "| 17|      1|ALPHABET CITY    ...|   09  COOPS - WALKU...|                              2|  373| 46|         |                                  C6|317 EAST 3 ST APT...|                |   10009|              0.0|             0.0|        0.0|             0.0|              0.0|    1925.0|                        2|                            C6|    270000|2003-12-05 00:00:00|        null|      null|\n",
      "| 18|      1|ALPHABET CITY    ...|   09  COOPS - WALKU...|                              2|  373| 49|         |                                  C6|311 EAST 3RD ST. ...|                |   10011|              0.0|             0.0|        0.0|             0.0|              0.0|    1920.0|                        2|                            C6|    125000|2003-02-10 00:00:00|        null|      null|\n",
      "| 19|      1|ALPHABET CITY    ...|   09  COOPS - WALKU...|                              2|  373| 49|         |                                  C6|311 EAST 3RD STRE...|                |   10009|              0.0|             0.0|        0.0|             0.0|              0.0|    1920.0|                        2|                            C6|    250000|2003-02-13 00:00:00|        null|      null|\n",
      "+---+-------+--------------------+-----------------------+-------------------------------+-----+---+---------+------------------------------------+--------------------+----------------+--------+-----------------+----------------+-----------+----------------+-----------------+----------+-------------------------+------------------------------+----------+-------------------+------------+----------+\n",
      "only showing top 20 rows\n",
      "\n"
     ]
    }
   ],
   "source": [
    "dfManhattan20032019.show()"
   ]
  },
  {
   "cell_type": "code",
   "execution_count": 22,
   "id": "5eff8cb4",
   "metadata": {},
   "outputs": [
    {
     "name": "stdout",
     "output_type": "stream",
     "text": [
      "+---+-------+--------------------+-----------------------+--------------------+-------+------+---------+-------------------------+--------------------+----------------+--------+-----------------+----------------+-----------+----------------+-----------------+----------+-------------------------+------------------------------+----------+-------------------+------------+----------+\n",
      "|_c0|Borough|        Neighborhood|Building Class Category|Tax Class At Present|  Block|   Lot|Ease-Ment|Building Class At Present|             Address|Apartment Number|Zip Code|Residential Units|Commercial Units|Total Units|Land Square Feet|Gross Square Feet|Year Built|Tax Class At Time Of Sale|Building Class At Time Of Sale|Sale Price|          Sale Date|Unnamed: 0.1|Unnamed: 0|\n",
      "+---+-------+--------------------+-----------------------+--------------------+-------+------+---------+-------------------------+--------------------+----------------+--------+-----------------+----------------+-----------+----------------+-----------------+----------+-------------------------+------------------------------+----------+-------------------+------------+----------+\n",
      "|  0|    4.0|AIRPORT LA GUARDI...|   01  ONE FAMILY HO...|                   1|  949.0|  47.0|         |                       A5|1974 81 STREET   ...|                | 11370.0|              1.0|             0.0|        1.0|          1800.0|           1224.0|    1945.0|                      1.0|                            A5|  318000.0|2003-06-17 00:00:00|        null|      null|\n",
      "|  1|    4.0|AIRPORT LA GUARDI...|   01  ONE FAMILY HO...|                   1|  949.0|  47.0|         |                       A5|1974 81 STREET   ...|                | 11370.0|              1.0|             0.0|        1.0|          1800.0|           1224.0|    1945.0|                      1.0|                            A5|     100.0|2003-05-06 00:00:00|        null|      null|\n",
      "|  2|    4.0|AIRPORT LA GUARDI...|   01  ONE FAMILY HO...|                   1|  976.0|  23.0|         |                       A5|2136 81 STREET   ...|                | 11370.0|              1.0|             0.0|        1.0|          1800.0|           1224.0|    1950.0|                      1.0|                            A5|       0.0|2003-07-07 00:00:00|        null|      null|\n",
      "|  3|    4.0|AIRPORT LA GUARDI...|   01  ONE FAMILY HO...|                   1|  976.0|  33.0|         |                       A5|2156 81 STREET   ...|                | 11370.0|              1.0|             0.0|        1.0|          1800.0|           1224.0|    1950.0|                      1.0|                            A5|  370000.0|2003-10-03 00:00:00|        null|      null|\n",
      "|  4|    4.0|AIRPORT LA GUARDI...|   01  ONE FAMILY HO...|                   1|  976.0|  60.0|         |                       A5|2123 80 STREET   ...|                | 11370.0|              1.0|             0.0|        1.0|          1800.0|           1224.0|    1950.0|                      1.0|                            A5|       0.0|2003-12-25 00:00:00|        null|      null|\n",
      "|  5|    4.0|AIRPORT LA GUARDI...|   01  ONE FAMILY HO...|                   1|  976.0|  67.0|         |                       A5|2109 80 STREET   ...|                | 11370.0|              1.0|             0.0|        1.0|          1800.0|           1836.0|    1950.0|                      1.0|                            A5|  450000.0|2003-06-30 00:00:00|        null|      null|\n",
      "|  6|    4.0|AIRPORT LA GUARDI...|   02  TWO FAMILY HO...|                   1|  976.0|   1.0|         |                       B1|2101 80 STREET   ...|                | 11370.0|              2.0|             0.0|        2.0|          2100.0|           2765.0|    1950.0|                      1.0|                            B1|       0.0|2003-12-22 00:00:00|        null|      null|\n",
      "|  7|    4.0|AIRPORT LA GUARDI...|   03  THREE FAMILY ...|                   1|  949.0|  56.0|         |                       C0|1969 80 STREET   ...|                | 11370.0|              3.0|             0.0|        3.0|          2000.0|           2835.0|    1945.0|                      1.0|                            C0|  605000.0|2003-12-30 00:00:00|        null|      null|\n",
      "|  8|    4.0|AIRPORT LA GUARDI...|   03  THREE FAMILY ...|                   1|  949.0|  58.0|         |                       C0|1965 80 STREET   ...|                | 11370.0|              3.0|             0.0|        3.0|          2000.0|           2635.0|    1945.0|                      1.0|                            C0|  510000.0|2003-01-28 00:00:00|        null|      null|\n",
      "|  9|    4.0|AIRPORT LA GUARDI...|   12  CONDOS - WALK...|                   2|  949.0|1006.0|         |                       R2|1939 80 STREET   ...|               2| 11370.0|              1.0|             0.0|        1.0|             0.0|              0.0|       0.0|                      2.0|                            R2|       0.0|2003-02-27 00:00:00|        null|      null|\n",
      "| 10|    4.0|AIRPORT LA GUARDI...|   12  CONDOS - WALK...|                   2|  949.0|1008.0|         |                       R2|1941 80 STREET   ...|               2| 11370.0|              1.0|             0.0|        1.0|             0.0|              0.0|       0.0|                      2.0|                            R2|       0.0|2003-02-27 00:00:00|        null|      null|\n",
      "| 11|    4.0|AIRPORT LA GUARDI...|   12  CONDOS - WALK...|                   2|  949.0|1011.0|         |                       R2|1945 80 STREET   ...|               1| 11370.0|              1.0|             0.0|        1.0|             0.0|              0.0|       0.0|                      2.0|                            R2|  167000.0|2003-12-10 00:00:00|        null|      null|\n",
      "| 12|    4.0|AIRPORT LA GUARDI...|   12  CONDOS - WALK...|                   2|  949.0|1012.0|         |                       R2|1945 80 STREET   ...|               2| 11370.0|              1.0|             0.0|        1.0|             0.0|              0.0|       0.0|                      2.0|                            R2|  136890.0|2003-05-21 00:00:00|        null|      null|\n",
      "| 13|    4.0|AIRPORT LA GUARDI...|   12  CONDOS - WALK...|                   2|  949.0|1013.0|         |                       R2|1941 80 STREET   ...|               1| 11370.0|              1.0|             0.0|        1.0|             0.0|              0.0|       0.0|                      2.0|                            R2|       0.0|2003-02-27 00:00:00|        null|      null|\n",
      "| 14|    4.0|AIRPORT LA GUARDI...|   12  CONDOS - WALK...|                   2|  949.0|1019.0|         |                       R2|1941 80 STREET   ...|               1| 11370.0|              1.0|             0.0|        1.0|             0.0|              0.0|       0.0|                      2.0|                            R2|       0.0|2003-02-27 00:00:00|        null|      null|\n",
      "| 15|    4.0|AIRPORT LA GUARDI...|   12  CONDOS - WALK...|                   2|  949.0|1020.0|         |                       R2|1915 80 STREET   ...|               2| 11370.0|              1.0|             0.0|        1.0|             0.0|              0.0|       0.0|                      2.0|                            R2|       0.0|2003-02-27 00:00:00|        null|      null|\n",
      "| 16|    4.0|AIRPORT LA GUARDI...|   12  CONDOS - WALK...|                   2|  949.0|1030.0|         |                       R2|1915 80 STREET   ...|               2| 11370.0|              1.0|             0.0|        1.0|             0.0|              0.0|       0.0|                      2.0|                            R2|       0.0|2003-02-27 00:00:00|        null|      null|\n",
      "| 17|    4.0|AIRPORT LA GUARDI...|   12  CONDOS - WALK...|                   2|  949.0|1034.0|         |                       R2|1915 80 STREET   ...|               2| 11370.0|              1.0|             0.0|        1.0|             0.0|              0.0|       0.0|                      2.0|                            R2|       0.0|2003-02-27 00:00:00|        null|      null|\n",
      "| 18|    4.0|AIRPORT LA GUARDI...|   12  CONDOS - WALK...|                   2|  949.0|1034.0|         |                       R2|8018 19 AVENUE   ...|               2| 11370.0|              1.0|             0.0|        1.0|             0.0|              0.0|       0.0|                      2.0|                            R2|       0.0|2003-02-13 00:00:00|        null|      null|\n",
      "| 19|    4.0|ARVERNE          ...|   01  ONE FAMILY HO...|                   1|15828.0|  52.0|         |                       A1|305 BEACH 38 STRE...|                | 11691.0|              1.0|             0.0|        1.0|          4127.0|           1200.0|    2002.0|                      1.0|                            A1|  245843.0|2003-10-10 00:00:00|        null|      null|\n",
      "+---+-------+--------------------+-----------------------+--------------------+-------+------+---------+-------------------------+--------------------+----------------+--------+-----------------+----------------+-----------+----------------+-----------------+----------+-------------------------+------------------------------+----------+-------------------+------------+----------+\n",
      "only showing top 20 rows\n",
      "\n"
     ]
    }
   ],
   "source": [
    "dfQueens20032019.show()"
   ]
  },
  {
   "cell_type": "code",
   "execution_count": 23,
   "id": "784c602c",
   "metadata": {},
   "outputs": [
    {
     "name": "stdout",
     "output_type": "stream",
     "text": [
      "+---+-------+--------------------+-----------------------+-------------------------------+------+----+---------+------------------------------------+--------------------+----------------+--------+-----------------+----------------+-----------+----------------+-----------------+----------+-------------------------+------------------------------+----------+-------------------+------------+----------+\n",
      "|_c0|Borough|        Neighborhood|Building Class Category|Tax Class As Of Final Roll 18/1| Block| Lot|Ease-Ment|Building Class As Of Final Roll 18/1|             Address|Apartment Number|Zip Code|Residential Units|Commercial Units|Total Units|Land Square Feet|Gross Square Feet|Year Built|Tax Class At Time Of Sale|Building Class At Time Of Sale|Sale Price|          Sale Date|Unnamed: 0.1|Unnamed: 0|\n",
      "+---+-------+--------------------+-----------------------+-------------------------------+------+----+---------+------------------------------------+--------------------+----------------+--------+-----------------+----------------+-----------+----------------+-----------------+----------+-------------------------+------------------------------+----------+-------------------+------------+----------+\n",
      "|  0|    5.0|ANNADALE         ...|   01  ONE FAMILY HO...|                              1|5391.0| 8.0|         |                                  A5|4730 AMBOY ROAD  ...|                | 10312.0|              1.0|             0.0|        1.0|          3149.0|           1110.0|    2002.0|                      1.0|                            A5|  353886.0|2003-01-13 00:00:00|        null|      null|\n",
      "|  1|    5.0|ANNADALE         ...|   01  ONE FAMILY HO...|                              1|5391.0|12.0|         |                                  A5|4718 AMBOY ROAD  ...|                | 10312.0|              1.0|             0.0|        1.0|          1746.0|           1110.0|    2002.0|                      1.0|                            A5|  310000.0|2003-07-25 00:00:00|        null|      null|\n",
      "|  2|    5.0|ANNADALE         ...|   01  ONE FAMILY HO...|                              1|5391.0|13.0|         |                                  A5|4716 AMBOY ROAD  ...|                | 10312.0|              1.0|             0.0|        1.0|          1871.0|           1110.0|    2002.0|                      1.0|                            A5|  299130.0|2003-09-05 00:00:00|        null|      null|\n",
      "|  3|    5.0|ANNADALE         ...|   01  ONE FAMILY HO...|                              1|5391.0|15.0|         |                                  A5|4714 AMBOY ROAD  ...|                | 10312.0|              1.0|             0.0|        1.0|          4678.0|           1110.0|    2002.0|                      1.0|                            A5|  304099.0|2003-09-19 00:00:00|        null|      null|\n",
      "|  4|    5.0|ANNADALE         ...|   01  ONE FAMILY HO...|                              1|5395.0|15.0|         |                                  A1|10 EDWIN STREET  ...|                | 10312.0|              1.0|             0.0|        1.0|          7000.0|           2200.0|    1980.0|                      1.0|                            A1|       0.0|2003-09-17 00:00:00|        null|      null|\n",
      "|  5|    5.0|ANNADALE         ...|   01  ONE FAMILY HO...|                              1|5400.0|20.0|         |                                  A1|5 JANSEN STREET  ...|                | 10312.0|              1.0|             0.0|        1.0|         10000.0|           3344.0|    1980.0|                      1.0|                            A1|  795000.0|2003-05-13 00:00:00|        null|      null|\n",
      "|  6|    5.0|ANNADALE         ...|   01  ONE FAMILY HO...|                              1|5403.0|33.0|         |                                  A1|91 NOEL STREET   ...|                | 10312.0|              1.0|             0.0|        1.0|          7500.0|           6500.0|    2002.0|                      1.0|                            A1|       0.0|2003-01-06 00:00:00|        null|      null|\n",
      "|  7|    5.0|ANNADALE         ...|   01  ONE FAMILY HO...|                              1|5404.0|18.0|         |                                  A2|1610 LENZIE STREE...|                | 10312.0|              1.0|             0.0|        1.0|          7500.0|           2128.0|    1970.0|                      1.0|                            A2|  625000.0|2003-02-07 00:00:00|        null|      null|\n",
      "|  8|    5.0|ANNADALE         ...|   01  ONE FAMILY HO...|                              1|5406.0|35.0|         |                                  A1|103 ELMBANK STREE...|                | 10312.0|              1.0|             0.0|        1.0|          2500.0|           1700.0|    1999.0|                      1.0|                            A1|       0.0|2003-09-19 00:00:00|        null|      null|\n",
      "|  9|    5.0|ANNADALE         ...|   01  ONE FAMILY HO...|                              1|5407.0|36.0|         |                                  A1|183 BATHGATE STRE...|                | 10312.0|              1.0|             0.0|        1.0|          3700.0|           4400.0|    2004.0|                      1.0|                            A1|  352000.0|2003-01-22 00:00:00|        null|      null|\n",
      "| 10|    5.0|ANNADALE         ...|   01  ONE FAMILY HO...|                              1|5407.0|36.0|         |                                  A1|183 BATHGATE STRE...|                | 10312.0|              1.0|             0.0|        1.0|          3700.0|           4400.0|    2004.0|                      1.0|                            A1|  352000.0|2003-01-22 00:00:00|        null|      null|\n",
      "| 11|    5.0|ANNADALE         ...|   01  ONE FAMILY HO...|                              1|5426.0|14.0|         |                                  A1|17 OCEAN DRIVEWAY...|                | 10312.0|              1.0|             0.0|        1.0|          7500.0|           2556.0|    1920.0|                      1.0|                            A1|  550000.0|2003-03-24 00:00:00|        null|      null|\n",
      "| 12|    5.0|ANNADALE         ...|   01  ONE FAMILY HO...|                              1|5426.0|37.0|         |                                  A2|19 OCEAN DRIVEWAY...|                | 10312.0|              1.0|             0.0|        1.0|          2500.0|           1180.0|    1910.0|                      1.0|                            A2|   50000.0|2003-03-24 00:00:00|        null|      null|\n",
      "| 13|    5.0|ANNADALE         ...|   01  ONE FAMILY HO...|                              1|6205.0|37.0|         |                                  A5|51 EAGAN AVENUE  ...|                | 10312.0|              1.0|             0.0|        1.0|          1589.0|           1579.0|    1986.0|                      1.0|                            A5|  273000.0|2003-08-12 00:00:00|        null|      null|\n",
      "| 14|    5.0|ANNADALE         ...|   01  ONE FAMILY HO...|                              1|6205.0|58.0|         |                                  A5|32 SEGUINE PLACE ...|                | 10312.0|              1.0|             0.0|        1.0|          1471.0|           1068.0|    1986.0|                      1.0|                            A5|  260000.0|2003-09-11 00:00:00|        null|      null|\n",
      "| 15|    5.0|ANNADALE         ...|   01  ONE FAMILY HO...|                              1|6205.0|61.0|         |                                  A5|28 SEGUINE PLACE ...|                | 10312.0|              1.0|             0.0|        1.0|          1755.0|           1320.0|    1986.0|                      1.0|                            A5|  280000.0|2003-05-13 00:00:00|        null|      null|\n",
      "| 16|    5.0|ANNADALE         ...|   01  ONE FAMILY HO...|                              1|6205.0|77.0|         |                                  A5|8 SEGUINE PLACE  ...|                | 10312.0|              1.0|             0.0|        1.0|          1471.0|           1555.0|    1986.0|                      1.0|                            A5|   19200.0|2003-02-12 00:00:00|        null|      null|\n",
      "| 17|    5.0|ANNADALE         ...|   01  ONE FAMILY HO...|                              1|6211.0|14.0|         |                                  A5|19 EAGAN AVENUE  ...|                | 10312.0|              1.0|             0.0|        1.0|          1508.0|           1521.0|    1986.0|                      1.0|                            A5|       0.0|2003-06-18 00:00:00|        null|      null|\n",
      "| 18|    5.0|ANNADALE         ...|   01  ONE FAMILY HO...|                              1|6211.0|23.0|         |                                  A5|3 EAGAN AVENUE   ...|                | 10312.0|              1.0|             0.0|        1.0|          1508.0|           1521.0|    1986.0|                      1.0|                            A5|  247400.0|2003-02-06 00:00:00|        null|      null|\n",
      "| 19|    5.0|ANNADALE         ...|   01  ONE FAMILY HO...|                              1|6212.0|46.0|         |                                  A5|                  44|                | 10312.0|              1.0|             0.0|        1.0|          2700.0|           2200.0|    2000.0|                      1.0|                            A5|  365000.0|2003-07-23 00:00:00|        null|      null|\n",
      "+---+-------+--------------------+-----------------------+-------------------------------+------+----+---------+------------------------------------+--------------------+----------------+--------+-----------------+----------------+-----------+----------------+-----------------+----------+-------------------------+------------------------------+----------+-------------------+------------+----------+\n",
      "only showing top 20 rows\n",
      "\n"
     ]
    }
   ],
   "source": [
    "dfStatenIsland20032019.show()"
   ]
  },
  {
   "cell_type": "code",
   "execution_count": null,
   "id": "9bb70f68",
   "metadata": {},
   "outputs": [],
   "source": []
  },
  {
   "cell_type": "code",
   "execution_count": 24,
   "id": "01a312ef",
   "metadata": {},
   "outputs": [],
   "source": [
    "## selecting columns using index and find important ones\n",
    "# using inspirations to run this project from .doc files "
   ]
  }
 ],
 "metadata": {
  "kernelspec": {
   "display_name": "Python 3 (ipykernel)",
   "language": "python",
   "name": "python3"
  },
  "language_info": {
   "codemirror_mode": {
    "name": "ipython",
    "version": 3
   },
   "file_extension": ".py",
   "mimetype": "text/x-python",
   "name": "python",
   "nbconvert_exporter": "python",
   "pygments_lexer": "ipython3",
   "version": "3.10.9"
  }
 },
 "nbformat": 4,
 "nbformat_minor": 5
}
