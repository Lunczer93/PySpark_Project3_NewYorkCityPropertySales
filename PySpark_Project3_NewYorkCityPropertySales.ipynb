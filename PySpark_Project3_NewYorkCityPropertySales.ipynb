{
 "cells": [
  {
   "cell_type": "markdown",
   "id": "c751952c",
   "metadata": {},
   "source": [
    "# Starting Spark Session"
   ]
  },
  {
   "cell_type": "code",
   "execution_count": 1,
   "id": "ed3b5b1f",
   "metadata": {},
   "outputs": [],
   "source": [
    "import os\n",
    "import sys\n",
    "import glob\n",
    "os.environ[\"PYARROW_IGNORE_TIMEZONE\"] = \"1\"\n",
    "os.environ['PYSPARK_PYTHON'] = sys.executable\n",
    "os.environ['PYSPARK_DRIVER_PYTHON'] = sys.executable"
   ]
  },
  {
   "cell_type": "code",
   "execution_count": 2,
   "id": "a575de01",
   "metadata": {},
   "outputs": [],
   "source": [
    "from pyspark.sql import SparkSession,functions, Window\n",
    "from pyspark.sql.functions import *\n",
    "from pyspark.sql.types import IntegerType,BooleanType,DateType, LongType,  DoubleType, StringType\n",
    "import pyspark.pandas as ps\n",
    "import pandas as pd"
   ]
  },
  {
   "cell_type": "markdown",
   "id": "7c88c2cf",
   "metadata": {},
   "source": [
    "# Creating a Spark Session called NewYorkCitySalesProperty"
   ]
  },
  {
   "cell_type": "code",
   "execution_count": 3,
   "id": "9e1fea67",
   "metadata": {},
   "outputs": [],
   "source": [
    "spark = SparkSession.builder \\\n",
    "      .master(\"local[1]\") \\\n",
    "      .appName(\"NewYorkCitySalesProperty\") \\\n",
    "      .config(\"spark.some.config.option\", \"config-value\") \\\n",
    "      .enableHiveSupport() \\\n",
    "      .getOrCreate()\n",
    "  "
   ]
  },
  {
   "cell_type": "code",
   "execution_count": 4,
   "id": "32e9460c",
   "metadata": {},
   "outputs": [
    {
     "data": {
      "text/html": [
       "\n",
       "            <div>\n",
       "                <p><b>SparkSession - hive</b></p>\n",
       "                \n",
       "        <div>\n",
       "            <p><b>SparkContext</b></p>\n",
       "\n",
       "            <p><a href=\"http://POL-8625NG3.SIIPOLSKA.PL:4040\">Spark UI</a></p>\n",
       "\n",
       "            <dl>\n",
       "              <dt>Version</dt>\n",
       "                <dd><code>v3.4.0</code></dd>\n",
       "              <dt>Master</dt>\n",
       "                <dd><code>local[1]</code></dd>\n",
       "              <dt>AppName</dt>\n",
       "                <dd><code>NewYorkCitySalesProperty</code></dd>\n",
       "            </dl>\n",
       "        </div>\n",
       "        \n",
       "            </div>\n",
       "        "
      ],
      "text/plain": [
       "<pyspark.sql.session.SparkSession at 0x24d90d1f6a0>"
      ]
     },
     "execution_count": 4,
     "metadata": {},
     "output_type": "execute_result"
    }
   ],
   "source": [
    "spark"
   ]
  },
  {
   "cell_type": "markdown",
   "id": "af006a78",
   "metadata": {},
   "source": [
    "# Browsing .csv Bronx files "
   ]
  },
  {
   "cell_type": "code",
   "execution_count": 5,
   "id": "58f6ab80",
   "metadata": {
    "scrolled": true
   },
   "outputs": [
    {
     "name": "stdout",
     "output_type": "stream",
     "text": [
      "\n",
      "File names: D:\\My commercial projects\\PySpark\\Project 3 PySpark\\New York City Property Sales\\Bronx\\Bronx\\03_Bronx.csv\n",
      "\n",
      "File names: D:\\My commercial projects\\PySpark\\Project 3 PySpark\\New York City Property Sales\\Bronx\\Bronx\\04_Bronx.csv\n",
      "\n",
      "File names: D:\\My commercial projects\\PySpark\\Project 3 PySpark\\New York City Property Sales\\Bronx\\Bronx\\05_Bronx.csv\n",
      "\n",
      "File names: D:\\My commercial projects\\PySpark\\Project 3 PySpark\\New York City Property Sales\\Bronx\\Bronx\\06_Bronx.csv\n",
      "\n",
      "File names: D:\\My commercial projects\\PySpark\\Project 3 PySpark\\New York City Property Sales\\Bronx\\Bronx\\2007_Bronx.csv\n",
      "\n",
      "File names: D:\\My commercial projects\\PySpark\\Project 3 PySpark\\New York City Property Sales\\Bronx\\Bronx\\2008_Bronx.csv\n",
      "\n",
      "File names: D:\\My commercial projects\\PySpark\\Project 3 PySpark\\New York City Property Sales\\Bronx\\Bronx\\2009_Bronx.csv\n",
      "\n",
      "File names: D:\\My commercial projects\\PySpark\\Project 3 PySpark\\New York City Property Sales\\Bronx\\Bronx\\2010_Bronx.csv\n",
      "\n",
      "File names: D:\\My commercial projects\\PySpark\\Project 3 PySpark\\New York City Property Sales\\Bronx\\Bronx\\2011_Bronx.csv\n",
      "\n",
      "File names: D:\\My commercial projects\\PySpark\\Project 3 PySpark\\New York City Property Sales\\Bronx\\Bronx\\2012_Bronx.csv\n",
      "\n",
      "File names: D:\\My commercial projects\\PySpark\\Project 3 PySpark\\New York City Property Sales\\Bronx\\Bronx\\2013_Bronx.csv\n",
      "\n",
      "File names: D:\\My commercial projects\\PySpark\\Project 3 PySpark\\New York City Property Sales\\Bronx\\Bronx\\2014_Bronx.csv\n",
      "\n",
      "File names: D:\\My commercial projects\\PySpark\\Project 3 PySpark\\New York City Property Sales\\Bronx\\Bronx\\2015_Bronx.csv\n",
      "\n",
      "File names: D:\\My commercial projects\\PySpark\\Project 3 PySpark\\New York City Property Sales\\Bronx\\Bronx\\2016_Bronx.csv\n",
      "\n",
      "File names: D:\\My commercial projects\\PySpark\\Project 3 PySpark\\New York City Property Sales\\Bronx\\Bronx\\2017_Bronx.csv\n",
      "\n",
      "File names: D:\\My commercial projects\\PySpark\\Project 3 PySpark\\New York City Property Sales\\Bronx\\Bronx\\2018_Bronx.csv\n",
      "\n",
      "File names: D:\\My commercial projects\\PySpark\\Project 3 PySpark\\New York City Property Sales\\Bronx\\Bronx\\2019_Bronx.csv\n",
      "\n",
      "File names: D:\\My commercial projects\\PySpark\\Project 3 PySpark\\New York City Property Sales\\Bronx\\Bronx\\Bronx20032019.csv\n"
     ]
    }
   ],
   "source": [
    "path = r'D:\\My commercial projects\\PySpark\\Project 3 PySpark\\New York City Property Sales\\Bronx\\Bronx'\n",
    "\n",
    "filenames = glob.glob(path + '\\*.csv')\n",
    "\n",
    "for file in filenames:\n",
    "    print('\\nFile names:', file)"
   ]
  },
  {
   "cell_type": "markdown",
   "id": "0da513f4",
   "metadata": {},
   "source": [
    "## Save all .csv file into one using pandas"
   ]
  },
  {
   "cell_type": "code",
   "execution_count": 6,
   "id": "c4b24dc0",
   "metadata": {},
   "outputs": [
    {
     "name": "stderr",
     "output_type": "stream",
     "text": [
      "C:\\ProgramData\\Anaconda3\\lib\\site-packages\\IPython\\core\\interactiveshell.py:3444: DtypeWarning: Columns (2,3,4,7,8,9,10,19,21) have mixed types.Specify dtype option on import or set low_memory=False.\n",
      "  exec(code_obj, self.user_global_ns, self.user_ns)\n"
     ]
    }
   ],
   "source": [
    "# Navigate to the folder where your CSV files are \n",
    "os.chdir(r'D:\\My commercial projects\\PySpark\\Project 3 PySpark\\New York City Property Sales\\Bronx\\Bronx')\n",
    "\n",
    "# Create an empty dataframe\n",
    "df = pd.DataFrame([])\n",
    "\n",
    "# Read all CSV files and append them to df\n",
    "for root, dirs, files in os.walk(\".\"):\n",
    "   for name in files:\n",
    "       df_temp = pd.read_csv(name)\n",
    "       df = pd.concat([df,df_temp])\n",
    "\n",
    "# Save df to a CSV file\n",
    "df.to_csv('Bronx20032019.csv')"
   ]
  },
  {
   "cell_type": "markdown",
   "id": "3828bb5d",
   "metadata": {},
   "source": [
    "# Browsing .csv Brooklyn files "
   ]
  },
  {
   "cell_type": "code",
   "execution_count": 7,
   "id": "2f49a5a1",
   "metadata": {
    "scrolled": true
   },
   "outputs": [
    {
     "name": "stdout",
     "output_type": "stream",
     "text": [
      "\n",
      "File names: D:\\My commercial projects\\PySpark\\Project 3 PySpark\\New York City Property Sales\\Brooklyn\\Brooklyn\\03_Brooklyn.csv\n",
      "\n",
      "File names: D:\\My commercial projects\\PySpark\\Project 3 PySpark\\New York City Property Sales\\Brooklyn\\Brooklyn\\04_Brooklyn.csv\n",
      "\n",
      "File names: D:\\My commercial projects\\PySpark\\Project 3 PySpark\\New York City Property Sales\\Brooklyn\\Brooklyn\\05_Brooklyn.csv\n",
      "\n",
      "File names: D:\\My commercial projects\\PySpark\\Project 3 PySpark\\New York City Property Sales\\Brooklyn\\Brooklyn\\06_Brooklyn.csv\n",
      "\n",
      "File names: D:\\My commercial projects\\PySpark\\Project 3 PySpark\\New York City Property Sales\\Brooklyn\\Brooklyn\\2007_Brooklyn.csv\n",
      "\n",
      "File names: D:\\My commercial projects\\PySpark\\Project 3 PySpark\\New York City Property Sales\\Brooklyn\\Brooklyn\\2008_Brooklyn.csv\n",
      "\n",
      "File names: D:\\My commercial projects\\PySpark\\Project 3 PySpark\\New York City Property Sales\\Brooklyn\\Brooklyn\\2009_Brooklyn.csv\n",
      "\n",
      "File names: D:\\My commercial projects\\PySpark\\Project 3 PySpark\\New York City Property Sales\\Brooklyn\\Brooklyn\\2010_Brooklyn.csv\n",
      "\n",
      "File names: D:\\My commercial projects\\PySpark\\Project 3 PySpark\\New York City Property Sales\\Brooklyn\\Brooklyn\\2011_Brooklyn.csv\n",
      "\n",
      "File names: D:\\My commercial projects\\PySpark\\Project 3 PySpark\\New York City Property Sales\\Brooklyn\\Brooklyn\\2012_Brooklyn.csv\n",
      "\n",
      "File names: D:\\My commercial projects\\PySpark\\Project 3 PySpark\\New York City Property Sales\\Brooklyn\\Brooklyn\\2013_Brooklyn.csv\n",
      "\n",
      "File names: D:\\My commercial projects\\PySpark\\Project 3 PySpark\\New York City Property Sales\\Brooklyn\\Brooklyn\\2014_Brooklyn.csv\n",
      "\n",
      "File names: D:\\My commercial projects\\PySpark\\Project 3 PySpark\\New York City Property Sales\\Brooklyn\\Brooklyn\\2015_Brooklyn.csv\n",
      "\n",
      "File names: D:\\My commercial projects\\PySpark\\Project 3 PySpark\\New York City Property Sales\\Brooklyn\\Brooklyn\\2016_Brooklyn.csv\n",
      "\n",
      "File names: D:\\My commercial projects\\PySpark\\Project 3 PySpark\\New York City Property Sales\\Brooklyn\\Brooklyn\\2017_Brooklyn.csv\n",
      "\n",
      "File names: D:\\My commercial projects\\PySpark\\Project 3 PySpark\\New York City Property Sales\\Brooklyn\\Brooklyn\\2018_Brooklyn.csv\n",
      "\n",
      "File names: D:\\My commercial projects\\PySpark\\Project 3 PySpark\\New York City Property Sales\\Brooklyn\\Brooklyn\\2019_Brooklyn.csv\n",
      "\n",
      "File names: D:\\My commercial projects\\PySpark\\Project 3 PySpark\\New York City Property Sales\\Brooklyn\\Brooklyn\\Brooklyn20032019.csv\n"
     ]
    }
   ],
   "source": [
    "path = r'D:\\My commercial projects\\PySpark\\Project 3 PySpark\\New York City Property Sales\\Brooklyn\\Brooklyn'\n",
    "\n",
    "filenames = glob.glob(path + '\\*.csv')\n",
    "\n",
    "for file in filenames:\n",
    "    print('\\nFile names:', file)"
   ]
  },
  {
   "cell_type": "markdown",
   "id": "761888d3",
   "metadata": {},
   "source": [
    "## Save all .csv file into one using pandas"
   ]
  },
  {
   "cell_type": "code",
   "execution_count": 8,
   "id": "464014e8",
   "metadata": {},
   "outputs": [
    {
     "name": "stderr",
     "output_type": "stream",
     "text": [
      "C:\\ProgramData\\Anaconda3\\lib\\site-packages\\IPython\\core\\interactiveshell.py:3444: DtypeWarning: Columns (7) have mixed types.Specify dtype option on import or set low_memory=False.\n",
      "  exec(code_obj, self.user_global_ns, self.user_ns)\n"
     ]
    }
   ],
   "source": [
    "# Navigate to the folder where your CSV files are \n",
    "os.chdir(r'D:\\My commercial projects\\PySpark\\Project 3 PySpark\\New York City Property Sales\\Brooklyn\\Brooklyn')\n",
    "\n",
    "# Create an empty dataframe\n",
    "df = pd.DataFrame([])\n",
    "\n",
    "# Read all CSV files and append them to df\n",
    "for root, dirs, files in os.walk(\".\"):\n",
    "   for name in files:\n",
    "       df_temp = pd.read_csv(name)\n",
    "       df = pd.concat([df,df_temp])\n",
    "\n",
    "# Save df to a CSV file\n",
    "df.to_csv('Brooklyn20032019.csv')"
   ]
  },
  {
   "cell_type": "markdown",
   "id": "aa987a88",
   "metadata": {},
   "source": [
    "# Browsing .csv Manhattan files \n"
   ]
  },
  {
   "cell_type": "code",
   "execution_count": 9,
   "id": "0a54296c",
   "metadata": {},
   "outputs": [
    {
     "name": "stdout",
     "output_type": "stream",
     "text": [
      "\n",
      "File names: D:\\My commercial projects\\PySpark\\Project 3 PySpark\\New York City Property Sales\\Manhattan\\Manhattan\\03_Manhattan.csv\n",
      "\n",
      "File names: D:\\My commercial projects\\PySpark\\Project 3 PySpark\\New York City Property Sales\\Manhattan\\Manhattan\\04_Manhattan.csv\n",
      "\n",
      "File names: D:\\My commercial projects\\PySpark\\Project 3 PySpark\\New York City Property Sales\\Manhattan\\Manhattan\\05_Manhattan.csv\n",
      "\n",
      "File names: D:\\My commercial projects\\PySpark\\Project 3 PySpark\\New York City Property Sales\\Manhattan\\Manhattan\\06_Manhattan.csv\n",
      "\n",
      "File names: D:\\My commercial projects\\PySpark\\Project 3 PySpark\\New York City Property Sales\\Manhattan\\Manhattan\\2007_Manhattan.csv\n",
      "\n",
      "File names: D:\\My commercial projects\\PySpark\\Project 3 PySpark\\New York City Property Sales\\Manhattan\\Manhattan\\2008_Manhattan.csv\n",
      "\n",
      "File names: D:\\My commercial projects\\PySpark\\Project 3 PySpark\\New York City Property Sales\\Manhattan\\Manhattan\\2009_Manhattan.csv\n",
      "\n",
      "File names: D:\\My commercial projects\\PySpark\\Project 3 PySpark\\New York City Property Sales\\Manhattan\\Manhattan\\2010_Manhattan.csv\n",
      "\n",
      "File names: D:\\My commercial projects\\PySpark\\Project 3 PySpark\\New York City Property Sales\\Manhattan\\Manhattan\\2011_Manhattan.csv\n",
      "\n",
      "File names: D:\\My commercial projects\\PySpark\\Project 3 PySpark\\New York City Property Sales\\Manhattan\\Manhattan\\2012_Manhattan.csv\n",
      "\n",
      "File names: D:\\My commercial projects\\PySpark\\Project 3 PySpark\\New York City Property Sales\\Manhattan\\Manhattan\\2013_Manhattan.csv\n",
      "\n",
      "File names: D:\\My commercial projects\\PySpark\\Project 3 PySpark\\New York City Property Sales\\Manhattan\\Manhattan\\2014_Manhattan.csv\n",
      "\n",
      "File names: D:\\My commercial projects\\PySpark\\Project 3 PySpark\\New York City Property Sales\\Manhattan\\Manhattan\\2015_Manhattan.csv\n",
      "\n",
      "File names: D:\\My commercial projects\\PySpark\\Project 3 PySpark\\New York City Property Sales\\Manhattan\\Manhattan\\2016_Manhattan.csv\n",
      "\n",
      "File names: D:\\My commercial projects\\PySpark\\Project 3 PySpark\\New York City Property Sales\\Manhattan\\Manhattan\\2017_Manhattan.csv\n",
      "\n",
      "File names: D:\\My commercial projects\\PySpark\\Project 3 PySpark\\New York City Property Sales\\Manhattan\\Manhattan\\2018_Manhattan.csv\n",
      "\n",
      "File names: D:\\My commercial projects\\PySpark\\Project 3 PySpark\\New York City Property Sales\\Manhattan\\Manhattan\\2019_Manhattan.csv\n",
      "\n",
      "File names: D:\\My commercial projects\\PySpark\\Project 3 PySpark\\New York City Property Sales\\Manhattan\\Manhattan\\Manhattan20032019.csv\n"
     ]
    }
   ],
   "source": [
    "path = r'D:\\My commercial projects\\PySpark\\Project 3 PySpark\\New York City Property Sales\\Manhattan\\Manhattan'\n",
    "\n",
    "filenames = glob.glob(path + '\\*.csv')\n",
    "\n",
    "for file in filenames:\n",
    "    print('\\nFile names:', file)\n"
   ]
  },
  {
   "cell_type": "markdown",
   "id": "689ee08b",
   "metadata": {},
   "source": [
    "## Save all .csv file into one using pandas"
   ]
  },
  {
   "cell_type": "code",
   "execution_count": 10,
   "id": "07b2ff6e",
   "metadata": {},
   "outputs": [],
   "source": [
    "# Navigate to the folder where your CSV files are \n",
    "os.chdir(r'D:\\My commercial projects\\PySpark\\Project 3 PySpark\\New York City Property Sales\\Manhattan\\Manhattan')\n",
    "\n",
    "# Create an empty dataframe\n",
    "df = pd.DataFrame([])\n",
    "\n",
    "# Read all CSV files and append them to df\n",
    "for root, dirs, files in os.walk(\".\"):\n",
    "   for name in files:\n",
    "       df_temp = pd.read_csv(name)\n",
    "       df = pd.concat([df,df_temp])\n",
    "\n",
    "# Save df to a CSV file\n",
    "df.to_csv('Manhattan20032019.csv')"
   ]
  },
  {
   "cell_type": "markdown",
   "id": "884a8c63",
   "metadata": {},
   "source": [
    "# Browsing .csv Queens files \n"
   ]
  },
  {
   "cell_type": "code",
   "execution_count": 11,
   "id": "d68fb4a9",
   "metadata": {},
   "outputs": [
    {
     "name": "stdout",
     "output_type": "stream",
     "text": [
      "\n",
      "File names: D:\\My commercial projects\\PySpark\\Project 3 PySpark\\New York City Property Sales\\Queens\\Queens\\03_Queens.csv\n",
      "\n",
      "File names: D:\\My commercial projects\\PySpark\\Project 3 PySpark\\New York City Property Sales\\Queens\\Queens\\04_Queens.csv\n",
      "\n",
      "File names: D:\\My commercial projects\\PySpark\\Project 3 PySpark\\New York City Property Sales\\Queens\\Queens\\05_Queens.csv\n",
      "\n",
      "File names: D:\\My commercial projects\\PySpark\\Project 3 PySpark\\New York City Property Sales\\Queens\\Queens\\06_Queens.csv\n",
      "\n",
      "File names: D:\\My commercial projects\\PySpark\\Project 3 PySpark\\New York City Property Sales\\Queens\\Queens\\2007_Queens.csv\n",
      "\n",
      "File names: D:\\My commercial projects\\PySpark\\Project 3 PySpark\\New York City Property Sales\\Queens\\Queens\\2008_Queens.csv\n",
      "\n",
      "File names: D:\\My commercial projects\\PySpark\\Project 3 PySpark\\New York City Property Sales\\Queens\\Queens\\2009_Queens.csv\n",
      "\n",
      "File names: D:\\My commercial projects\\PySpark\\Project 3 PySpark\\New York City Property Sales\\Queens\\Queens\\2010_Queens.csv\n",
      "\n",
      "File names: D:\\My commercial projects\\PySpark\\Project 3 PySpark\\New York City Property Sales\\Queens\\Queens\\2011_Queens.csv\n",
      "\n",
      "File names: D:\\My commercial projects\\PySpark\\Project 3 PySpark\\New York City Property Sales\\Queens\\Queens\\2012_Queens.csv\n",
      "\n",
      "File names: D:\\My commercial projects\\PySpark\\Project 3 PySpark\\New York City Property Sales\\Queens\\Queens\\2013_Queens.csv\n",
      "\n",
      "File names: D:\\My commercial projects\\PySpark\\Project 3 PySpark\\New York City Property Sales\\Queens\\Queens\\2014_Queens.csv\n",
      "\n",
      "File names: D:\\My commercial projects\\PySpark\\Project 3 PySpark\\New York City Property Sales\\Queens\\Queens\\2015_Queens.csv\n",
      "\n",
      "File names: D:\\My commercial projects\\PySpark\\Project 3 PySpark\\New York City Property Sales\\Queens\\Queens\\2016_Queens.csv\n",
      "\n",
      "File names: D:\\My commercial projects\\PySpark\\Project 3 PySpark\\New York City Property Sales\\Queens\\Queens\\2017_Queens.csv\n",
      "\n",
      "File names: D:\\My commercial projects\\PySpark\\Project 3 PySpark\\New York City Property Sales\\Queens\\Queens\\2018_Queens.csv\n",
      "\n",
      "File names: D:\\My commercial projects\\PySpark\\Project 3 PySpark\\New York City Property Sales\\Queens\\Queens\\2019_Queens.csv\n",
      "\n",
      "File names: D:\\My commercial projects\\PySpark\\Project 3 PySpark\\New York City Property Sales\\Queens\\Queens\\Queens20032019.csv\n"
     ]
    }
   ],
   "source": [
    "path = r'D:\\My commercial projects\\PySpark\\Project 3 PySpark\\New York City Property Sales\\Queens\\Queens'\n",
    "\n",
    "filenames = glob.glob(path + '\\*.csv')\n",
    "\n",
    "for file in filenames:\n",
    "    print('\\nFile names:', file)"
   ]
  },
  {
   "cell_type": "markdown",
   "id": "2b9fe5ea",
   "metadata": {},
   "source": [
    "## Save all .csv file into one using pandas"
   ]
  },
  {
   "cell_type": "code",
   "execution_count": 12,
   "id": "d4ecc8a7",
   "metadata": {},
   "outputs": [],
   "source": [
    "# Navigate to the folder where your CSV files are \n",
    "os.chdir(r'D:\\My commercial projects\\PySpark\\Project 3 PySpark\\New York City Property Sales\\Queens\\Queens')\n",
    "\n",
    "# Create an empty dataframe\n",
    "df = pd.DataFrame([])\n",
    "\n",
    "# Read all CSV files and append them to df\n",
    "for root, dirs, files in os.walk(\".\"):\n",
    "   for name in files:\n",
    "       df_temp = pd.read_csv(name)\n",
    "       df = pd.concat([df,df_temp])\n",
    "\n",
    "# Save df to a CSV file\n",
    "df.to_csv('Queens20032019.csv')"
   ]
  },
  {
   "cell_type": "markdown",
   "id": "f2424a0b",
   "metadata": {},
   "source": [
    "# Browsing .csv StatensIsland files \n"
   ]
  },
  {
   "cell_type": "code",
   "execution_count": 13,
   "id": "4c27a7cf",
   "metadata": {},
   "outputs": [
    {
     "name": "stdout",
     "output_type": "stream",
     "text": [
      "\n",
      "File names: D:\\My commercial projects\\PySpark\\Project 3 PySpark\\New York City Property Sales\\StatenIsland\\StatenIsland\\03_StatenIsland.csv\n",
      "\n",
      "File names: D:\\My commercial projects\\PySpark\\Project 3 PySpark\\New York City Property Sales\\StatenIsland\\StatenIsland\\04_StatenIsland.csv\n",
      "\n",
      "File names: D:\\My commercial projects\\PySpark\\Project 3 PySpark\\New York City Property Sales\\StatenIsland\\StatenIsland\\05_StatenIsland.csv\n",
      "\n",
      "File names: D:\\My commercial projects\\PySpark\\Project 3 PySpark\\New York City Property Sales\\StatenIsland\\StatenIsland\\06_StatenIsland.csv\n",
      "\n",
      "File names: D:\\My commercial projects\\PySpark\\Project 3 PySpark\\New York City Property Sales\\StatenIsland\\StatenIsland\\2007_StatenIsland.csv\n",
      "\n",
      "File names: D:\\My commercial projects\\PySpark\\Project 3 PySpark\\New York City Property Sales\\StatenIsland\\StatenIsland\\2008_StatenIsland.csv\n",
      "\n",
      "File names: D:\\My commercial projects\\PySpark\\Project 3 PySpark\\New York City Property Sales\\StatenIsland\\StatenIsland\\2009_StatenIsland.csv\n",
      "\n",
      "File names: D:\\My commercial projects\\PySpark\\Project 3 PySpark\\New York City Property Sales\\StatenIsland\\StatenIsland\\2010_StatenIsland.csv\n",
      "\n",
      "File names: D:\\My commercial projects\\PySpark\\Project 3 PySpark\\New York City Property Sales\\StatenIsland\\StatenIsland\\2011_StatenIsland.csv\n",
      "\n",
      "File names: D:\\My commercial projects\\PySpark\\Project 3 PySpark\\New York City Property Sales\\StatenIsland\\StatenIsland\\2012_StatenIsland.csv\n",
      "\n",
      "File names: D:\\My commercial projects\\PySpark\\Project 3 PySpark\\New York City Property Sales\\StatenIsland\\StatenIsland\\2013_StatenIsland.csv\n",
      "\n",
      "File names: D:\\My commercial projects\\PySpark\\Project 3 PySpark\\New York City Property Sales\\StatenIsland\\StatenIsland\\2014_StatenIsland.csv\n",
      "\n",
      "File names: D:\\My commercial projects\\PySpark\\Project 3 PySpark\\New York City Property Sales\\StatenIsland\\StatenIsland\\2015_StatenIsland.csv\n",
      "\n",
      "File names: D:\\My commercial projects\\PySpark\\Project 3 PySpark\\New York City Property Sales\\StatenIsland\\StatenIsland\\2016_StatenIsland.csv\n",
      "\n",
      "File names: D:\\My commercial projects\\PySpark\\Project 3 PySpark\\New York City Property Sales\\StatenIsland\\StatenIsland\\2017_StatenIsland.csv\n",
      "\n",
      "File names: D:\\My commercial projects\\PySpark\\Project 3 PySpark\\New York City Property Sales\\StatenIsland\\StatenIsland\\2018_StatenIsland.csv\n",
      "\n",
      "File names: D:\\My commercial projects\\PySpark\\Project 3 PySpark\\New York City Property Sales\\StatenIsland\\StatenIsland\\2019_StatenIsland.csv\n",
      "\n",
      "File names: D:\\My commercial projects\\PySpark\\Project 3 PySpark\\New York City Property Sales\\StatenIsland\\StatenIsland\\StatenIsland20032019.csv\n"
     ]
    }
   ],
   "source": [
    "path = r'D:\\My commercial projects\\PySpark\\Project 3 PySpark\\New York City Property Sales\\StatenIsland\\StatenIsland'\n",
    "\n",
    "filenames = glob.glob(path + '\\*.csv')\n",
    "\n",
    "for file in filenames:\n",
    "    print('\\nFile names:', file)"
   ]
  },
  {
   "cell_type": "markdown",
   "id": "db7ae174",
   "metadata": {},
   "source": [
    "## Save all .csv file into one using pandas"
   ]
  },
  {
   "cell_type": "code",
   "execution_count": 14,
   "id": "6b61c076",
   "metadata": {},
   "outputs": [],
   "source": [
    "# Navigate to the folder where your CSV files are \n",
    "os.chdir(r'D:\\My commercial projects\\PySpark\\Project 3 PySpark\\New York City Property Sales\\StatenIsland\\StatenIsland')\n",
    "\n",
    "# Create an empty dataframe\n",
    "df = pd.DataFrame([])\n",
    "\n",
    "# Read all CSV files and append them to df\n",
    "for root, dirs, files in os.walk(\".\"):\n",
    "   for name in files:\n",
    "       df_temp = pd.read_csv(name)\n",
    "       df = pd.concat([df,df_temp])\n",
    "\n",
    "# Save df to a CSV file\n",
    "df.to_csv('StatenIsland20032019.csv')"
   ]
  },
  {
   "cell_type": "markdown",
   "id": "ed8f25df",
   "metadata": {},
   "source": [
    "# Opening a  BuildingClassification .csv file\n"
   ]
  },
  {
   "cell_type": "code",
   "execution_count": 15,
   "id": "00a30f54",
   "metadata": {},
   "outputs": [],
   "source": [
    "path = r'D:\\My commercial projects\\PySpark\\Project 3 PySpark\\New York City Property Sales\\BuildingClassification.csv'\n",
    "\n",
    "BuildingClassification = spark.read.options(header='True', inferSchema='True', delimiter=',') \\\n",
    "  .csv(path)"
   ]
  },
  {
   "cell_type": "code",
   "execution_count": 16,
   "id": "39a42009",
   "metadata": {},
   "outputs": [
    {
     "name": "stdout",
     "output_type": "stream",
     "text": [
      "+-------------+------------------------------------------+\n",
      "|Building Code|Description                               |\n",
      "+-------------+------------------------------------------+\n",
      "|A0           |CAPE COD                                  |\n",
      "|A1           |TWO STORIES - DETACHED SM OR MID          |\n",
      "|A2           |ONE STORY - PERMANENT LIVING QUARTER      |\n",
      "|A3           |LARGE SUBURBAN RESIDENCE                  |\n",
      "|A4           |CITY RESIDENCE ONE FAMILY                 |\n",
      "|A5           |ONE FAMILY ATTACHED OR SEMI-DETACHED      |\n",
      "|A6           |SUMMER COTTAGE                            |\n",
      "|A7           |MANSION TYPE OR TOWN HOUSE                |\n",
      "|A8           |BUNGALOW COLONY - COOPERATIVELY OWNED LAND|\n",
      "|A9           |MISCELLANEOUS ONE FAMILY                  |\n",
      "|B1           |TWO FAMILY BRICK                          |\n",
      "|B2           |TWO FAMILY FRAME                          |\n",
      "|B3           |TWO FAMILY CONVERTED FROM ONE FAMILY      |\n",
      "|B9           |MISCELLANEOUS TWO FAMILY                  |\n",
      "|C0           |THREE FAMILIES                            |\n",
      "|C1           |OVER SIX FAMILIES WITHOUT STORES          |\n",
      "|C2           |FIVE TO SIX FAMILIES                      |\n",
      "|C3           |FOUR FAMILIES                             |\n",
      "|C4           |OLD LAW TENEMENT                          |\n",
      "|C5           |CONVERTED DWELLINGS OR ROOMING HOUSE      |\n",
      "+-------------+------------------------------------------+\n",
      "only showing top 20 rows\n",
      "\n"
     ]
    }
   ],
   "source": [
    "BuildingClassification.show(truncate=False)"
   ]
  },
  {
   "cell_type": "markdown",
   "id": "ce2c8faa",
   "metadata": {},
   "source": [
    "# Reading csv files into Spark DataFrame"
   ]
  },
  {
   "cell_type": "code",
   "execution_count": 17,
   "id": "fc3d8deb",
   "metadata": {},
   "outputs": [],
   "source": [
    "PathBronx = r'D:\\My commercial projects\\PySpark\\Project 3 PySpark\\New York City Property Sales\\Bronx\\Bronx\\Bronx20032019.csv'\n",
    "PathBrook = r'D:\\My commercial projects\\PySpark\\Project 3 PySpark\\New York City Property Sales\\Brooklyn\\Brooklyn\\Brooklyn20032019.csv'\n",
    "PathMan = r'D:\\My commercial projects\\PySpark\\Project 3 PySpark\\New York City Property Sales\\Manhattan\\Manhattan\\Manhattan20032019.csv'\n",
    "PathQ = r'D:\\My commercial projects\\PySpark\\Project 3 PySpark\\New York City Property Sales\\Queens\\Queens\\Queens20032019.csv'\n",
    "PathS = r'D:\\My commercial projects\\PySpark\\Project 3 PySpark\\New York City Property Sales\\StatenIsland\\StatenIsland\\StatenIsland20032019.csv'\n",
    "\n",
    "\n"
   ]
  },
  {
   "cell_type": "code",
   "execution_count": 18,
   "id": "ccd331b2",
   "metadata": {},
   "outputs": [],
   "source": [
    "dfBronx20032019 = spark.read.csv(PathBronx, header=True, inferSchema=True)\n",
    "dfBrooklyn20032019 = spark.read.csv(PathBrook, header=True, inferSchema=True)\n",
    "dfManhattan20032019 = spark.read.csv(PathMan, header=True, inferSchema=True)\n",
    "dfQueens20032019 = spark.read.csv(PathQ, header=True, inferSchema=True)\n",
    "dfStatenIsland20032019 = spark.read.csv(PathS, header=True, inferSchema=True)"
   ]
  },
  {
   "cell_type": "markdown",
   "id": "d8f04d77",
   "metadata": {},
   "source": [
    "# Browsing DataFrames and selecting columns"
   ]
  },
  {
   "cell_type": "markdown",
   "id": "7fc9e98d",
   "metadata": {},
   "source": [
    "## dfBronx20032019"
   ]
  },
  {
   "cell_type": "code",
   "execution_count": 19,
   "id": "ec304c36",
   "metadata": {},
   "outputs": [
    {
     "name": "stdout",
     "output_type": "stream",
     "text": [
      "+---+-------+------------+-----------------------+--------------------+------+-----+---------+-------------------------+----------+----------------+--------+-----------------+----------------+-----------+----------------+-----------------+----------+-------------------------+------------------------------+----------+----------+----------+------------+--------------+----------------+------------------+--------------------+----------------------+------------------------+--------------------------+----------------------------+------------------------------+\n",
      "|_c0|Borough|Neighborhood|Building Class Category|Tax Class At Present| Block|  Lot|Ease-Ment|Building Class At Present|   Address|Apartment Number|Zip Code|Residential Units|Commercial Units|Total Units|Land Square Feet|Gross Square Feet|Year Built|Tax Class At Time Of Sale|Building Class At Time Of Sale|Sale Price| Sale Date|Unnamed: 0|Unnamed: 0.1|Unnamed: 0.1.1|Unnamed: 0.1.1.1|Unnamed: 0.1.1.1.1|Unnamed: 0.1.1.1.1.1|Unnamed: 0.1.1.1.1.1.1|Unnamed: 0.1.1.1.1.1.1.1|Unnamed: 0.1.1.1.1.1.1.1.1|Unnamed: 0.1.1.1.1.1.1.1.1.1|Unnamed: 0.1.1.1.1.1.1.1.1.1.1|\n",
      "+---+-------+------------+-----------------------+--------------------+------+-----+---------+-------------------------+----------+----------------+--------+-----------------+----------------+-----------+----------------+-----------------+----------+-------------------------+------------------------------+----------+----------+----------+------------+--------------+----------------+------------------+--------------------+----------------------+------------------------+--------------------------+----------------------------+------------------------------+\n",
      "|  0|    2.0|  BATHGAT...|             01  ONE...|                   1|2917.0| 15.0|         |                       A1|1848 WA...|             ...| 10457.0|              1.0|             0.0|        1.0|          2943.0|           2128.0|    1920.0|                      1.0|                            A1|  130000.0|2003-05...|      null|        null|          null|            null|              null|                null|                  null|                    null|                      null|                        null|                          null|\n",
      "|  1|    2.0|  BATHGAT...|             01  ONE...|                   1|3028.0| 25.0|         |                       A5|412 EAS...|             ...| 10457.0|              1.0|             0.0|        1.0|          1842.0|           2048.0|    1901.0|                      1.0|                            A1|  204000.0|2003-04...|      null|        null|          null|            null|              null|                null|                  null|                    null|                      null|                        null|                          null|\n",
      "|  2|    2.0|  BATHGAT...|             01  ONE...|                   1|3030.0| 55.0|         |                       A5|410 EAS...|             ...| 10457.0|              1.0|             0.0|        1.0|          1330.0|           1460.0|    1899.0|                      1.0|                            A1|  235000.0|2003-07...|      null|        null|          null|            null|              null|                null|                  null|                    null|                      null|                        null|                          null|\n",
      "|  3|    2.0|  BATHGAT...|             01  ONE...|                   1|3035.0|  2.0|         |                       S1|441 EAS...|             ...| 10457.0|              1.0|             1.0|        2.0|          1287.0|           2378.0|    1899.0|                      1.0|                            S1|  125500.0|2003-05...|      null|        null|          null|            null|              null|                null|                  null|                    null|                      null|                        null|                          null|\n",
      "|  4|    2.0|  BATHGAT...|             01  ONE...|                   1|3035.0| 52.0|         |                       A1|461 EAS...|             ...| 10457.0|              1.0|             0.0|        1.0|          1782.0|           1548.0|    1899.0|                      1.0|                            A1|  215000.0|2003-05...|      null|        null|          null|            null|              null|                null|                  null|                    null|                      null|                        null|                          null|\n",
      "|  5|    2.0|  BATHGAT...|             01  ONE...|                   1|3045.0| 15.0|         |                       A1|2058 BA...|             ...| 10457.0|              1.0|             0.0|        1.0|          1173.0|           1516.0|    1910.0|                      1.0|                            A1|       0.0|2003-07...|      null|        null|          null|            null|              null|                null|                  null|                    null|                      null|                        null|                          null|\n",
      "|  6|    2.0|  BATHGAT...|             01  ONE...|                   1|3048.0| 19.0|         |                       A5|2186 BA...|             ...| 10457.0|              1.0|             0.0|        1.0|          1768.0|           1188.0|    1901.0|                      1.0|                            A1|  245000.0|2003-04...|      null|        null|          null|            null|              null|                null|                  null|                    null|                      null|                        null|                          null|\n",
      "|  7|    2.0|  BATHGAT...|             01  ONE...|                   1|3050.0| 91.0|         |                       A9|503 EAS...|             ...| 10457.0|              1.0|             0.0|        1.0|          1960.0|           1705.0|    1901.0|                      1.0|                            A9|     500.0|2003-06...|      null|        null|          null|            null|              null|                null|                  null|                    null|                      null|                        null|                          null|\n",
      "|  8|    2.0|  BATHGAT...|             01  ONE...|                   1|3053.0| 87.0|         |                       S0|2368 WA...|             ...| 10458.0|              1.0|             2.0|        3.0|          1911.0|           4080.0|    1931.0|                      1.0|                            S0|  375000.0|2003-04...|      null|        null|          null|            null|              null|                null|                  null|                    null|                      null|                        null|                          null|\n",
      "|  9|    2.0|  BATHGAT...|             01  ONE...|                   1|3053.0|108.0|         |                       A9|2317 BA...|             ...| 10458.0|              1.0|             0.0|        1.0|           925.0|           1188.0|    1901.0|                      1.0|                            A9|       0.0|2003-09...|      null|        null|          null|            null|              null|                null|                  null|                    null|                      null|                        null|                          null|\n",
      "+---+-------+------------+-----------------------+--------------------+------+-----+---------+-------------------------+----------+----------------+--------+-----------------+----------------+-----------+----------------+-----------------+----------+-------------------------+------------------------------+----------+----------+----------+------------+--------------+----------------+------------------+--------------------+----------------------+------------------------+--------------------------+----------------------------+------------------------------+\n",
      "only showing top 10 rows\n",
      "\n"
     ]
    }
   ],
   "source": [
    "dfBronx20032019.show(10,10)"
   ]
  },
  {
   "cell_type": "code",
   "execution_count": 20,
   "id": "20004278",
   "metadata": {
    "scrolled": true
   },
   "outputs": [],
   "source": [
    "dfBronx20032019 = dfBronx20032019.select('Borough',\n",
    " 'Neighborhood',\n",
    " 'Building Class Category',\n",
    " 'Tax Class At Present',\n",
    " 'Block',\n",
    " 'Lot',\n",
    "'Building Class At Present',\n",
    "'Address',\n",
    " 'Residential Units',\n",
    " 'Commercial Units',\n",
    " 'Total Units',                      \n",
    " 'Land Square Feet',\n",
    " 'Gross Square Feet',\n",
    " 'Year Built',                      \n",
    " 'Sale Price',\n",
    " 'Sale Date' )"
   ]
  },
  {
   "cell_type": "code",
   "execution_count": 21,
   "id": "3e605969",
   "metadata": {},
   "outputs": [
    {
     "name": "stdout",
     "output_type": "stream",
     "text": [
      "+-------+------------+-----------------------+--------------------+------+-----+-------------------------+----------+-----------------+----------------+-----------+----------------+-----------------+----------+----------+----------+\n",
      "|Borough|Neighborhood|Building Class Category|Tax Class At Present| Block|  Lot|Building Class At Present|   Address|Residential Units|Commercial Units|Total Units|Land Square Feet|Gross Square Feet|Year Built|Sale Price| Sale Date|\n",
      "+-------+------------+-----------------------+--------------------+------+-----+-------------------------+----------+-----------------+----------------+-----------+----------------+-----------------+----------+----------+----------+\n",
      "|    2.0|  BATHGAT...|             01  ONE...|                   1|2917.0| 15.0|                       A1|1848 WA...|              1.0|             0.0|        1.0|          2943.0|           2128.0|    1920.0|  130000.0|2003-05...|\n",
      "|    2.0|  BATHGAT...|             01  ONE...|                   1|3028.0| 25.0|                       A5|412 EAS...|              1.0|             0.0|        1.0|          1842.0|           2048.0|    1901.0|  204000.0|2003-04...|\n",
      "|    2.0|  BATHGAT...|             01  ONE...|                   1|3030.0| 55.0|                       A5|410 EAS...|              1.0|             0.0|        1.0|          1330.0|           1460.0|    1899.0|  235000.0|2003-07...|\n",
      "|    2.0|  BATHGAT...|             01  ONE...|                   1|3035.0|  2.0|                       S1|441 EAS...|              1.0|             1.0|        2.0|          1287.0|           2378.0|    1899.0|  125500.0|2003-05...|\n",
      "|    2.0|  BATHGAT...|             01  ONE...|                   1|3035.0| 52.0|                       A1|461 EAS...|              1.0|             0.0|        1.0|          1782.0|           1548.0|    1899.0|  215000.0|2003-05...|\n",
      "|    2.0|  BATHGAT...|             01  ONE...|                   1|3045.0| 15.0|                       A1|2058 BA...|              1.0|             0.0|        1.0|          1173.0|           1516.0|    1910.0|       0.0|2003-07...|\n",
      "|    2.0|  BATHGAT...|             01  ONE...|                   1|3048.0| 19.0|                       A5|2186 BA...|              1.0|             0.0|        1.0|          1768.0|           1188.0|    1901.0|  245000.0|2003-04...|\n",
      "|    2.0|  BATHGAT...|             01  ONE...|                   1|3050.0| 91.0|                       A9|503 EAS...|              1.0|             0.0|        1.0|          1960.0|           1705.0|    1901.0|     500.0|2003-06...|\n",
      "|    2.0|  BATHGAT...|             01  ONE...|                   1|3053.0| 87.0|                       S0|2368 WA...|              1.0|             2.0|        3.0|          1911.0|           4080.0|    1931.0|  375000.0|2003-04...|\n",
      "|    2.0|  BATHGAT...|             01  ONE...|                   1|3053.0|108.0|                       A9|2317 BA...|              1.0|             0.0|        1.0|           925.0|           1188.0|    1901.0|       0.0|2003-09...|\n",
      "+-------+------------+-----------------------+--------------------+------+-----+-------------------------+----------+-----------------+----------------+-----------+----------------+-----------------+----------+----------+----------+\n",
      "only showing top 10 rows\n",
      "\n"
     ]
    }
   ],
   "source": [
    "dfBronx20032019.show(10,10)"
   ]
  },
  {
   "cell_type": "markdown",
   "id": "e96234f1",
   "metadata": {},
   "source": [
    "## dfBrooklyn20032019"
   ]
  },
  {
   "cell_type": "code",
   "execution_count": 22,
   "id": "89e8b67f",
   "metadata": {
    "scrolled": true
   },
   "outputs": [
    {
     "name": "stdout",
     "output_type": "stream",
     "text": [
      "+---+-------+------------+-----------------------+--------------------+------+-----+---------+-------------------------+----------+----------------+--------+-----------------+----------------+-----------+----------------+-----------------+----------+-------------------------+------------------------------+----------+----------+----------+------------+--------------+----------------+------------------+--------------------+----------------------+------------------------+--------------------------+----------------------------+\n",
      "|_c0|Borough|Neighborhood|Building Class Category|Tax Class At Present| Block|  Lot|Ease-Ment|Building Class At Present|   Address|Apartment Number|Zip Code|Residential Units|Commercial Units|Total Units|Land Square Feet|Gross Square Feet|Year Built|Tax Class At Time Of Sale|Building Class At Time Of Sale|Sale Price| Sale Date|Unnamed: 0|Unnamed: 0.1|Unnamed: 0.1.1|Unnamed: 0.1.1.1|Unnamed: 0.1.1.1.1|Unnamed: 0.1.1.1.1.1|Unnamed: 0.1.1.1.1.1.1|Unnamed: 0.1.1.1.1.1.1.1|Unnamed: 0.1.1.1.1.1.1.1.1|Unnamed: 0.1.1.1.1.1.1.1.1.1|\n",
      "+---+-------+------------+-----------------------+--------------------+------+-----+---------+-------------------------+----------+----------------+--------+-----------------+----------------+-----------+----------------+-----------------+----------+-------------------------+------------------------------+----------+----------+----------+------------+--------------+----------------+------------------+--------------------+----------------------+------------------------+--------------------------+----------------------------+\n",
      "|  0|    3.0|  BATH BE...|             01  ONE...|                   1|6364.0| 45.0|         |                       S1|1652 86...|             ...| 11214.0|              1.0|             1.0|        2.0|          1200.0|           1620.0|    1926.0|                      1.0|                            S1|  450000.0|2003-01...|      null|        null|          null|            null|              null|                null|                  null|                    null|                      null|                        null|\n",
      "|  1|    3.0|  BATH BE...|             01  ONE...|                   1|6365.0| 44.0|         |                       S1|1690 86...|             ...| 11214.0|              1.0|             1.0|        2.0|          1473.0|           1656.0|    1931.0|                      1.0|                            S1|       0.0|2003-10...|      null|        null|          null|            null|              null|                null|                  null|                    null|                      null|                        null|\n",
      "|  2|    3.0|  BATH BE...|             01  ONE...|                   1|6365.0| 44.0|         |                       S1|1690 86...|             ...| 11214.0|              1.0|             1.0|        2.0|          1473.0|           1656.0|    1931.0|                      1.0|                            S1|       0.0|2003-04...|      null|        null|          null|            null|              null|                null|                  null|                    null|                      null|                        null|\n",
      "|  3|    3.0|  BATH BE...|             01  ONE...|                   1|6365.0|143.0|         |                       S1|1686 86...|             ...| 11214.0|              1.0|             1.0|        2.0|          1473.0|           1656.0|    1929.0|                      1.0|                            S1|       0.0|2003-04...|      null|        null|          null|            null|              null|                null|                  null|                    null|                      null|                        null|\n",
      "|  4|    3.0|  BATH BE...|             01  ONE...|                   1|6366.0| 72.0|         |                       A1|8664 BA...|             ...| 11214.0|              1.0|             0.0|        1.0|          4833.0|           2300.0|    1925.0|                      1.0|                            A1|       0.0|2003-09...|      null|        null|          null|            null|              null|                null|                  null|                    null|                      null|                        null|\n",
      "|  5|    3.0|  BATH BE...|             01  ONE...|                   1|6367.0| 24.0|         |                       A9|8645 BA...|             ...| 11214.0|              1.0|             0.0|        1.0|          1571.0|           1456.0|    1935.0|                      1.0|                            A9|       0.0|2003-05...|      null|        null|          null|            null|              null|                null|                  null|                    null|                      null|                        null|\n",
      "|  6|    3.0|  BATH BE...|             01  ONE...|                   1|6371.0| 60.0|         |                       A9|8620 19...|             ...| 11214.0|              1.0|             0.0|        1.0|          2417.0|           2106.0|    1930.0|                      1.0|                            A9|       0.0|2003-04...|      null|        null|          null|            null|              null|                null|                  null|                    null|                      null|                        null|\n",
      "|  7|    3.0|  BATH BE...|             01  ONE...|                    |6376.0| 53.0|         |                         |20 BAY ...|             ...| 11214.0|              0.0|             0.0|        0.0|             0.0|              0.0|       0.0|                      1.0|                            A1|  570000.0|2003-01...|      null|        null|          null|            null|              null|                null|                  null|                    null|                      null|                        null|\n",
      "|  8|    3.0|  BATH BE...|             01  ONE...|                   1|6393.0| 16.0|         |                       A5|145 BAY...|             ...| 11228.0|              1.0|             0.0|        1.0|          1716.0|           1554.0|    1920.0|                      1.0|                            A5|  320000.0|2003-02...|      null|        null|          null|            null|              null|                null|                  null|                    null|                      null|                        null|\n",
      "|  9|    3.0|  BATH BE...|             01  ONE...|                   1|6395.0| 20.0|         |                       A5|135 BAY...|             ...| 11228.0|              1.0|             0.0|        1.0|          2417.0|           2000.0|    1935.0|                      1.0|                            A5|  427500.0|2003-06...|      null|        null|          null|            null|              null|                null|                  null|                    null|                      null|                        null|\n",
      "+---+-------+------------+-----------------------+--------------------+------+-----+---------+-------------------------+----------+----------------+--------+-----------------+----------------+-----------+----------------+-----------------+----------+-------------------------+------------------------------+----------+----------+----------+------------+--------------+----------------+------------------+--------------------+----------------------+------------------------+--------------------------+----------------------------+\n",
      "only showing top 10 rows\n",
      "\n"
     ]
    }
   ],
   "source": [
    "dfBrooklyn20032019.show(10,10)"
   ]
  },
  {
   "cell_type": "code",
   "execution_count": 23,
   "id": "b61e38a0",
   "metadata": {},
   "outputs": [],
   "source": [
    "dfBrooklyn20032019 = dfBrooklyn20032019.select('Borough',\n",
    " 'Neighborhood',\n",
    " 'Building Class Category',\n",
    " 'Tax Class At Present',\n",
    " 'Block',\n",
    " 'Lot',\n",
    "'Building Class At Present',\n",
    "'Address',\n",
    " 'Residential Units',\n",
    " 'Commercial Units',\n",
    " 'Total Units',                      \n",
    " 'Land Square Feet',\n",
    " 'Gross Square Feet',\n",
    " 'Year Built',                      \n",
    " 'Sale Price',\n",
    " 'Sale Date' )"
   ]
  },
  {
   "cell_type": "code",
   "execution_count": 24,
   "id": "2f6576fc",
   "metadata": {},
   "outputs": [
    {
     "name": "stdout",
     "output_type": "stream",
     "text": [
      "+-------+------------+-----------------------+--------------------+------+-----+-------------------------+----------+-----------------+----------------+-----------+----------------+-----------------+----------+----------+----------+\n",
      "|Borough|Neighborhood|Building Class Category|Tax Class At Present| Block|  Lot|Building Class At Present|   Address|Residential Units|Commercial Units|Total Units|Land Square Feet|Gross Square Feet|Year Built|Sale Price| Sale Date|\n",
      "+-------+------------+-----------------------+--------------------+------+-----+-------------------------+----------+-----------------+----------------+-----------+----------------+-----------------+----------+----------+----------+\n",
      "|    3.0|  BATH BE...|             01  ONE...|                   1|6364.0| 45.0|                       S1|1652 86...|              1.0|             1.0|        2.0|          1200.0|           1620.0|    1926.0|  450000.0|2003-01...|\n",
      "|    3.0|  BATH BE...|             01  ONE...|                   1|6365.0| 44.0|                       S1|1690 86...|              1.0|             1.0|        2.0|          1473.0|           1656.0|    1931.0|       0.0|2003-10...|\n",
      "|    3.0|  BATH BE...|             01  ONE...|                   1|6365.0| 44.0|                       S1|1690 86...|              1.0|             1.0|        2.0|          1473.0|           1656.0|    1931.0|       0.0|2003-04...|\n",
      "|    3.0|  BATH BE...|             01  ONE...|                   1|6365.0|143.0|                       S1|1686 86...|              1.0|             1.0|        2.0|          1473.0|           1656.0|    1929.0|       0.0|2003-04...|\n",
      "|    3.0|  BATH BE...|             01  ONE...|                   1|6366.0| 72.0|                       A1|8664 BA...|              1.0|             0.0|        1.0|          4833.0|           2300.0|    1925.0|       0.0|2003-09...|\n",
      "|    3.0|  BATH BE...|             01  ONE...|                   1|6367.0| 24.0|                       A9|8645 BA...|              1.0|             0.0|        1.0|          1571.0|           1456.0|    1935.0|       0.0|2003-05...|\n",
      "|    3.0|  BATH BE...|             01  ONE...|                   1|6371.0| 60.0|                       A9|8620 19...|              1.0|             0.0|        1.0|          2417.0|           2106.0|    1930.0|       0.0|2003-04...|\n",
      "|    3.0|  BATH BE...|             01  ONE...|                    |6376.0| 53.0|                         |20 BAY ...|              0.0|             0.0|        0.0|             0.0|              0.0|       0.0|  570000.0|2003-01...|\n",
      "|    3.0|  BATH BE...|             01  ONE...|                   1|6393.0| 16.0|                       A5|145 BAY...|              1.0|             0.0|        1.0|          1716.0|           1554.0|    1920.0|  320000.0|2003-02...|\n",
      "|    3.0|  BATH BE...|             01  ONE...|                   1|6395.0| 20.0|                       A5|135 BAY...|              1.0|             0.0|        1.0|          2417.0|           2000.0|    1935.0|  427500.0|2003-06...|\n",
      "+-------+------------+-----------------------+--------------------+------+-----+-------------------------+----------+-----------------+----------------+-----------+----------------+-----------------+----------+----------+----------+\n",
      "only showing top 10 rows\n",
      "\n"
     ]
    }
   ],
   "source": [
    "dfBrooklyn20032019.show(10,10)"
   ]
  },
  {
   "cell_type": "markdown",
   "id": "e87acc83",
   "metadata": {},
   "source": [
    "## dfManhattan20032019"
   ]
  },
  {
   "cell_type": "code",
   "execution_count": 25,
   "id": "2a4fe157",
   "metadata": {},
   "outputs": [
    {
     "name": "stdout",
     "output_type": "stream",
     "text": [
      "+---+-------+------------+-----------------------+-------------------------------+-----+---+---------+------------------------------------+----------+----------------+--------+-----------------+----------------+-----------+----------------+-----------------+----------+-------------------------+------------------------------+----------+----------+----------+------------+--------------+----------------+------------------+--------------------+----------------------+------------------------+--------------------------+----------------------------+\n",
      "|_c0|Borough|Neighborhood|Building Class Category|Tax Class As Of Final Roll 18/1|Block|Lot|Ease-Ment|Building Class As Of Final Roll 18/1|   Address|Apartment Number|Zip Code|Residential Units|Commercial Units|Total Units|Land Square Feet|Gross Square Feet|Year Built|Tax Class At Time Of Sale|Building Class At Time Of Sale|Sale Price| Sale Date|Unnamed: 0|Unnamed: 0.1|Unnamed: 0.1.1|Unnamed: 0.1.1.1|Unnamed: 0.1.1.1.1|Unnamed: 0.1.1.1.1.1|Unnamed: 0.1.1.1.1.1.1|Unnamed: 0.1.1.1.1.1.1.1|Unnamed: 0.1.1.1.1.1.1.1.1|Unnamed: 0.1.1.1.1.1.1.1.1.1|\n",
      "+---+-------+------------+-----------------------+-------------------------------+-----+---+---------+------------------------------------+----------+----------------+--------+-----------------+----------------+-----------+----------------+-----------------+----------+-------------------------+------------------------------+----------+----------+----------+------------+--------------+----------------+------------------+--------------------+----------------------+------------------------+--------------------------+----------------------------+\n",
      "|  0|      1|  ALPHABE...|             07  REN...|                             2A|  372| 31|         |                                  C3|316 EAS...|             ...|   10009|              4.0|             0.0|        4.0|          5746.0|           2700.0|    1900.0|                        2|                            C3|         0|2003-12...|      null|        null|          null|            null|              null|                null|                  null|                    null|                      null|                        null|\n",
      "|  1|      1|  ALPHABE...|             07  REN...|                             2A|  372| 31|         |                                  C3|316 EAS...|             ...|   10009|              4.0|             0.0|        4.0|          5746.0|           2700.0|    1900.0|                        2|                            C3|         0|2003-12...|      null|        null|          null|            null|              null|                null|                  null|                    null|                      null|                        null|\n",
      "|  2|      1|  ALPHABE...|             07  REN...|                             2B|  378| 33|         |                                  C4|125 AVE...|             ...|   10009|              6.0|             1.0|        7.0|          2185.0|           5725.0|    1910.0|                        2|                            C4|    426000|2003-10...|      null|        null|          null|            null|              null|                null|                  null|                    null|                      null|                        null|\n",
      "|  3|      1|  ALPHABE...|             07  REN...|                              2|  391| 12|         |                                  C1|610 EAS...|             ...|   10009|             24.0|             0.0|       24.0|          2543.0|          11568.0|    1910.0|                        2|                            C1|         0|2003-02...|      null|        null|          null|            null|              null|                null|                  null|                    null|                      null|                        null|\n",
      "|  4|      1|  ALPHABE...|             07  REN...|                             2A|  392|  5|         |                                  C2|151 AVE...|             ...|   10009|              5.0|             0.0|        5.0|          2139.0|           4416.0|    1900.0|                        2|                            C2|         0|2003-08...|      null|        null|          null|            null|              null|                null|                  null|                    null|                      null|                        null|\n",
      "|  5|      1|  ALPHABE...|             07  REN...|                              2|  393| 26|         |                                  D5|636 EAS...|             ...|   10009|             63.0|             0.0|       63.0|          2369.0|          10355.0|    1880.0|                        2|                            C7|         0|2003-10...|      null|        null|          null|            null|              null|                null|                  null|                    null|                      null|                        null|\n",
      "|  6|      1|  ALPHABE...|             07  REN...|                             2B|  393| 27|         |                                  C4|636 EAS...|             ...|   10009|              9.0|             1.0|       10.0|          2370.0|           6652.0|    1900.0|                        2|                            C4|         0|2003-10...|      null|        null|          null|            null|              null|                null|                  null|                    null|                      null|                        null|\n",
      "|  7|      1|  ALPHABE...|             07  REN...|                             2B|  393| 36|         |                                  C7|165 AVE...|             ...|   10009|              8.0|             2.0|       10.0|          1909.0|           7437.0|    1920.0|                        2|                            C7|         3|2003-06...|      null|        null|          null|            null|              null|                null|                  null|                    null|                      null|                        null|\n",
      "|  8|      1|  ALPHABE...|             07  REN...|                             2B|  393| 37|         |                                  C7|165 AVE...|             ...|   10009|              8.0|             2.0|       10.0|          1920.0|           7485.0|    1920.0|                        2|                            C7|         3|2003-06...|      null|        null|          null|            null|              null|                null|                  null|                    null|                      null|                        null|\n",
      "|  9|      1|  ALPHABE...|             07  REN...|                             2B|  393| 38|         |                                  C7|165 AVE...|             ...|   10009|              8.0|             2.0|       10.0|          1916.0|           7485.0|    1920.0|                        2|                            C7|         3|2003-06...|      null|        null|          null|            null|              null|                null|                  null|                    null|                      null|                        null|\n",
      "+---+-------+------------+-----------------------+-------------------------------+-----+---+---------+------------------------------------+----------+----------------+--------+-----------------+----------------+-----------+----------------+-----------------+----------+-------------------------+------------------------------+----------+----------+----------+------------+--------------+----------------+------------------+--------------------+----------------------+------------------------+--------------------------+----------------------------+\n",
      "only showing top 10 rows\n",
      "\n"
     ]
    }
   ],
   "source": [
    "dfManhattan20032019.show(10,10)"
   ]
  },
  {
   "cell_type": "code",
   "execution_count": 26,
   "id": "b6d17bba",
   "metadata": {},
   "outputs": [],
   "source": [
    "dfManhattan20032019 = dfManhattan20032019.select('Borough',\n",
    " 'Neighborhood',\n",
    " 'Building Class Category',\n",
    " 'Block',\n",
    " 'Lot',\n",
    "col('Building Class As Of Final Roll 18/1').alias(\"Building Class At Present\"),\n",
    "col('Tax Class As Of Final Roll 18/1').alias(\"Tax Class At Present\"),\n",
    "'Address',\n",
    " 'Residential Units',\n",
    " 'Commercial Units',\n",
    " 'Total Units',                      \n",
    " 'Land Square Feet',\n",
    " 'Gross Square Feet',\n",
    " 'Year Built',                      \n",
    " 'Sale Price',\n",
    " 'Sale Date' )"
   ]
  },
  {
   "cell_type": "code",
   "execution_count": 27,
   "id": "9a9da676",
   "metadata": {},
   "outputs": [
    {
     "name": "stdout",
     "output_type": "stream",
     "text": [
      "+-------+------------+-----------------------+-----+---+-------------------------+--------------------+----------+-----------------+----------------+-----------+----------------+-----------------+----------+----------+----------+\n",
      "|Borough|Neighborhood|Building Class Category|Block|Lot|Building Class At Present|Tax Class At Present|   Address|Residential Units|Commercial Units|Total Units|Land Square Feet|Gross Square Feet|Year Built|Sale Price| Sale Date|\n",
      "+-------+------------+-----------------------+-----+---+-------------------------+--------------------+----------+-----------------+----------------+-----------+----------------+-----------------+----------+----------+----------+\n",
      "|      1|  ALPHABE...|             07  REN...|  372| 31|                       C3|                  2A|316 EAS...|              4.0|             0.0|        4.0|          5746.0|           2700.0|    1900.0|         0|2003-12...|\n",
      "|      1|  ALPHABE...|             07  REN...|  372| 31|                       C3|                  2A|316 EAS...|              4.0|             0.0|        4.0|          5746.0|           2700.0|    1900.0|         0|2003-12...|\n",
      "|      1|  ALPHABE...|             07  REN...|  378| 33|                       C4|                  2B|125 AVE...|              6.0|             1.0|        7.0|          2185.0|           5725.0|    1910.0|    426000|2003-10...|\n",
      "|      1|  ALPHABE...|             07  REN...|  391| 12|                       C1|                   2|610 EAS...|             24.0|             0.0|       24.0|          2543.0|          11568.0|    1910.0|         0|2003-02...|\n",
      "|      1|  ALPHABE...|             07  REN...|  392|  5|                       C2|                  2A|151 AVE...|              5.0|             0.0|        5.0|          2139.0|           4416.0|    1900.0|         0|2003-08...|\n",
      "|      1|  ALPHABE...|             07  REN...|  393| 26|                       D5|                   2|636 EAS...|             63.0|             0.0|       63.0|          2369.0|          10355.0|    1880.0|         0|2003-10...|\n",
      "|      1|  ALPHABE...|             07  REN...|  393| 27|                       C4|                  2B|636 EAS...|              9.0|             1.0|       10.0|          2370.0|           6652.0|    1900.0|         0|2003-10...|\n",
      "|      1|  ALPHABE...|             07  REN...|  393| 36|                       C7|                  2B|165 AVE...|              8.0|             2.0|       10.0|          1909.0|           7437.0|    1920.0|         3|2003-06...|\n",
      "|      1|  ALPHABE...|             07  REN...|  393| 37|                       C7|                  2B|165 AVE...|              8.0|             2.0|       10.0|          1920.0|           7485.0|    1920.0|         3|2003-06...|\n",
      "|      1|  ALPHABE...|             07  REN...|  393| 38|                       C7|                  2B|165 AVE...|              8.0|             2.0|       10.0|          1916.0|           7485.0|    1920.0|         3|2003-06...|\n",
      "+-------+------------+-----------------------+-----+---+-------------------------+--------------------+----------+-----------------+----------------+-----------+----------------+-----------------+----------+----------+----------+\n",
      "only showing top 10 rows\n",
      "\n"
     ]
    }
   ],
   "source": [
    "dfManhattan20032019.show(10,10)"
   ]
  },
  {
   "cell_type": "markdown",
   "id": "cd6811d1",
   "metadata": {},
   "source": [
    "## dfQueens20032019"
   ]
  },
  {
   "cell_type": "code",
   "execution_count": 28,
   "id": "5eff8cb4",
   "metadata": {},
   "outputs": [
    {
     "name": "stdout",
     "output_type": "stream",
     "text": [
      "+---+-------+------------+-----------------------+--------------------+-----+------+---------+-------------------------+----------+----------------+--------+-----------------+----------------+-----------+----------------+-----------------+----------+-------------------------+------------------------------+----------+----------+----------+------------+--------------+----------------+------------------+--------------------+----------------------+------------------------+--------------------------+----------------------------+\n",
      "|_c0|Borough|Neighborhood|Building Class Category|Tax Class At Present|Block|   Lot|Ease-Ment|Building Class At Present|   Address|Apartment Number|Zip Code|Residential Units|Commercial Units|Total Units|Land Square Feet|Gross Square Feet|Year Built|Tax Class At Time Of Sale|Building Class At Time Of Sale|Sale Price| Sale Date|Unnamed: 0|Unnamed: 0.1|Unnamed: 0.1.1|Unnamed: 0.1.1.1|Unnamed: 0.1.1.1.1|Unnamed: 0.1.1.1.1.1|Unnamed: 0.1.1.1.1.1.1|Unnamed: 0.1.1.1.1.1.1.1|Unnamed: 0.1.1.1.1.1.1.1.1|Unnamed: 0.1.1.1.1.1.1.1.1.1|\n",
      "+---+-------+------------+-----------------------+--------------------+-----+------+---------+-------------------------+----------+----------------+--------+-----------------+----------------+-----------+----------------+-----------------+----------+-------------------------+------------------------------+----------+----------+----------+------------+--------------+----------------+------------------+--------------------+----------------------+------------------------+--------------------------+----------------------------+\n",
      "|  0|    4.0|  AIRPORT...|             01  ONE...|                   1|949.0|  47.0|         |                       A5|1974 81...|             ...| 11370.0|              1.0|             0.0|        1.0|          1800.0|           1224.0|    1945.0|                      1.0|                            A5|  318000.0|2003-06...|      null|        null|          null|            null|              null|                null|                  null|                    null|                      null|                        null|\n",
      "|  1|    4.0|  AIRPORT...|             01  ONE...|                   1|949.0|  47.0|         |                       A5|1974 81...|             ...| 11370.0|              1.0|             0.0|        1.0|          1800.0|           1224.0|    1945.0|                      1.0|                            A5|     100.0|2003-05...|      null|        null|          null|            null|              null|                null|                  null|                    null|                      null|                        null|\n",
      "|  2|    4.0|  AIRPORT...|             01  ONE...|                   1|976.0|  23.0|         |                       A5|2136 81...|             ...| 11370.0|              1.0|             0.0|        1.0|          1800.0|           1224.0|    1950.0|                      1.0|                            A5|       0.0|2003-07...|      null|        null|          null|            null|              null|                null|                  null|                    null|                      null|                        null|\n",
      "|  3|    4.0|  AIRPORT...|             01  ONE...|                   1|976.0|  33.0|         |                       A5|2156 81...|             ...| 11370.0|              1.0|             0.0|        1.0|          1800.0|           1224.0|    1950.0|                      1.0|                            A5|  370000.0|2003-10...|      null|        null|          null|            null|              null|                null|                  null|                    null|                      null|                        null|\n",
      "|  4|    4.0|  AIRPORT...|             01  ONE...|                   1|976.0|  60.0|         |                       A5|2123 80...|             ...| 11370.0|              1.0|             0.0|        1.0|          1800.0|           1224.0|    1950.0|                      1.0|                            A5|       0.0|2003-12...|      null|        null|          null|            null|              null|                null|                  null|                    null|                      null|                        null|\n",
      "|  5|    4.0|  AIRPORT...|             01  ONE...|                   1|976.0|  67.0|         |                       A5|2109 80...|             ...| 11370.0|              1.0|             0.0|        1.0|          1800.0|           1836.0|    1950.0|                      1.0|                            A5|  450000.0|2003-06...|      null|        null|          null|            null|              null|                null|                  null|                    null|                      null|                        null|\n",
      "|  6|    4.0|  AIRPORT...|             02  TWO...|                   1|976.0|   1.0|         |                       B1|2101 80...|             ...| 11370.0|              2.0|             0.0|        2.0|          2100.0|           2765.0|    1950.0|                      1.0|                            B1|       0.0|2003-12...|      null|        null|          null|            null|              null|                null|                  null|                    null|                      null|                        null|\n",
      "|  7|    4.0|  AIRPORT...|             03  THR...|                   1|949.0|  56.0|         |                       C0|1969 80...|             ...| 11370.0|              3.0|             0.0|        3.0|          2000.0|           2835.0|    1945.0|                      1.0|                            C0|  605000.0|2003-12...|      null|        null|          null|            null|              null|                null|                  null|                    null|                      null|                        null|\n",
      "|  8|    4.0|  AIRPORT...|             03  THR...|                   1|949.0|  58.0|         |                       C0|1965 80...|             ...| 11370.0|              3.0|             0.0|        3.0|          2000.0|           2635.0|    1945.0|                      1.0|                            C0|  510000.0|2003-01...|      null|        null|          null|            null|              null|                null|                  null|                    null|                      null|                        null|\n",
      "|  9|    4.0|  AIRPORT...|             12  CON...|                   2|949.0|1006.0|         |                       R2|1939 80...|               2| 11370.0|              1.0|             0.0|        1.0|             0.0|              0.0|       0.0|                      2.0|                            R2|       0.0|2003-02...|      null|        null|          null|            null|              null|                null|                  null|                    null|                      null|                        null|\n",
      "+---+-------+------------+-----------------------+--------------------+-----+------+---------+-------------------------+----------+----------------+--------+-----------------+----------------+-----------+----------------+-----------------+----------+-------------------------+------------------------------+----------+----------+----------+------------+--------------+----------------+------------------+--------------------+----------------------+------------------------+--------------------------+----------------------------+\n",
      "only showing top 10 rows\n",
      "\n"
     ]
    }
   ],
   "source": [
    "dfQueens20032019.show(10,10)"
   ]
  },
  {
   "cell_type": "code",
   "execution_count": 29,
   "id": "53ef27ed",
   "metadata": {},
   "outputs": [],
   "source": [
    "dfQueens20032019 = dfQueens20032019.select('Borough',\n",
    " 'Neighborhood',\n",
    " 'Building Class Category',\n",
    " 'Tax Class At Present',\n",
    " 'Block',\n",
    " 'Lot',\n",
    "'Building Class At Present',\n",
    "'Address',\n",
    " 'Residential Units',\n",
    " 'Commercial Units',\n",
    " 'Total Units',                      \n",
    " 'Land Square Feet',\n",
    " 'Gross Square Feet',\n",
    " 'Year Built',                      \n",
    " 'Sale Price',\n",
    " 'Sale Date' )"
   ]
  },
  {
   "cell_type": "code",
   "execution_count": 30,
   "id": "6b8ff853",
   "metadata": {},
   "outputs": [
    {
     "name": "stdout",
     "output_type": "stream",
     "text": [
      "+-------+------------+-----------------------+--------------------+-----+------+-------------------------+----------+-----------------+----------------+-----------+----------------+-----------------+----------+----------+----------+\n",
      "|Borough|Neighborhood|Building Class Category|Tax Class At Present|Block|   Lot|Building Class At Present|   Address|Residential Units|Commercial Units|Total Units|Land Square Feet|Gross Square Feet|Year Built|Sale Price| Sale Date|\n",
      "+-------+------------+-----------------------+--------------------+-----+------+-------------------------+----------+-----------------+----------------+-----------+----------------+-----------------+----------+----------+----------+\n",
      "|    4.0|  AIRPORT...|             01  ONE...|                   1|949.0|  47.0|                       A5|1974 81...|              1.0|             0.0|        1.0|          1800.0|           1224.0|    1945.0|  318000.0|2003-06...|\n",
      "|    4.0|  AIRPORT...|             01  ONE...|                   1|949.0|  47.0|                       A5|1974 81...|              1.0|             0.0|        1.0|          1800.0|           1224.0|    1945.0|     100.0|2003-05...|\n",
      "|    4.0|  AIRPORT...|             01  ONE...|                   1|976.0|  23.0|                       A5|2136 81...|              1.0|             0.0|        1.0|          1800.0|           1224.0|    1950.0|       0.0|2003-07...|\n",
      "|    4.0|  AIRPORT...|             01  ONE...|                   1|976.0|  33.0|                       A5|2156 81...|              1.0|             0.0|        1.0|          1800.0|           1224.0|    1950.0|  370000.0|2003-10...|\n",
      "|    4.0|  AIRPORT...|             01  ONE...|                   1|976.0|  60.0|                       A5|2123 80...|              1.0|             0.0|        1.0|          1800.0|           1224.0|    1950.0|       0.0|2003-12...|\n",
      "|    4.0|  AIRPORT...|             01  ONE...|                   1|976.0|  67.0|                       A5|2109 80...|              1.0|             0.0|        1.0|          1800.0|           1836.0|    1950.0|  450000.0|2003-06...|\n",
      "|    4.0|  AIRPORT...|             02  TWO...|                   1|976.0|   1.0|                       B1|2101 80...|              2.0|             0.0|        2.0|          2100.0|           2765.0|    1950.0|       0.0|2003-12...|\n",
      "|    4.0|  AIRPORT...|             03  THR...|                   1|949.0|  56.0|                       C0|1969 80...|              3.0|             0.0|        3.0|          2000.0|           2835.0|    1945.0|  605000.0|2003-12...|\n",
      "|    4.0|  AIRPORT...|             03  THR...|                   1|949.0|  58.0|                       C0|1965 80...|              3.0|             0.0|        3.0|          2000.0|           2635.0|    1945.0|  510000.0|2003-01...|\n",
      "|    4.0|  AIRPORT...|             12  CON...|                   2|949.0|1006.0|                       R2|1939 80...|              1.0|             0.0|        1.0|             0.0|              0.0|       0.0|       0.0|2003-02...|\n",
      "+-------+------------+-----------------------+--------------------+-----+------+-------------------------+----------+-----------------+----------------+-----------+----------------+-----------------+----------+----------+----------+\n",
      "only showing top 10 rows\n",
      "\n"
     ]
    }
   ],
   "source": [
    "dfQueens20032019.show(10,10)"
   ]
  },
  {
   "cell_type": "markdown",
   "id": "6512da4a",
   "metadata": {},
   "source": [
    "## dfStatenIsland20032019"
   ]
  },
  {
   "cell_type": "code",
   "execution_count": 31,
   "id": "784c602c",
   "metadata": {},
   "outputs": [
    {
     "name": "stdout",
     "output_type": "stream",
     "text": [
      "+---+-------+------------+-----------------------+-------------------------------+------+----+---------+------------------------------------+----------+----------------+--------+-----------------+----------------+-----------+----------------+-----------------+----------+-------------------------+------------------------------+----------+----------+----------+------------+--------------+----------------+------------------+--------------------+----------------------+------------------------+--------------------------+----------------------------+\n",
      "|_c0|Borough|Neighborhood|Building Class Category|Tax Class As Of Final Roll 18/1| Block| Lot|Ease-Ment|Building Class As Of Final Roll 18/1|   Address|Apartment Number|Zip Code|Residential Units|Commercial Units|Total Units|Land Square Feet|Gross Square Feet|Year Built|Tax Class At Time Of Sale|Building Class At Time Of Sale|Sale Price| Sale Date|Unnamed: 0|Unnamed: 0.1|Unnamed: 0.1.1|Unnamed: 0.1.1.1|Unnamed: 0.1.1.1.1|Unnamed: 0.1.1.1.1.1|Unnamed: 0.1.1.1.1.1.1|Unnamed: 0.1.1.1.1.1.1.1|Unnamed: 0.1.1.1.1.1.1.1.1|Unnamed: 0.1.1.1.1.1.1.1.1.1|\n",
      "+---+-------+------------+-----------------------+-------------------------------+------+----+---------+------------------------------------+----------+----------------+--------+-----------------+----------------+-----------+----------------+-----------------+----------+-------------------------+------------------------------+----------+----------+----------+------------+--------------+----------------+------------------+--------------------+----------------------+------------------------+--------------------------+----------------------------+\n",
      "|  0|    5.0|  ANNADAL...|             01  ONE...|                              1|5391.0| 8.0|         |                                  A5|4730 AM...|             ...| 10312.0|              1.0|             0.0|        1.0|          3149.0|           1110.0|    2002.0|                      1.0|                            A5|  353886.0|2003-01...|      null|        null|          null|            null|              null|                null|                  null|                    null|                      null|                        null|\n",
      "|  1|    5.0|  ANNADAL...|             01  ONE...|                              1|5391.0|12.0|         |                                  A5|4718 AM...|             ...| 10312.0|              1.0|             0.0|        1.0|          1746.0|           1110.0|    2002.0|                      1.0|                            A5|  310000.0|2003-07...|      null|        null|          null|            null|              null|                null|                  null|                    null|                      null|                        null|\n",
      "|  2|    5.0|  ANNADAL...|             01  ONE...|                              1|5391.0|13.0|         |                                  A5|4716 AM...|             ...| 10312.0|              1.0|             0.0|        1.0|          1871.0|           1110.0|    2002.0|                      1.0|                            A5|  299130.0|2003-09...|      null|        null|          null|            null|              null|                null|                  null|                    null|                      null|                        null|\n",
      "|  3|    5.0|  ANNADAL...|             01  ONE...|                              1|5391.0|15.0|         |                                  A5|4714 AM...|             ...| 10312.0|              1.0|             0.0|        1.0|          4678.0|           1110.0|    2002.0|                      1.0|                            A5|  304099.0|2003-09...|      null|        null|          null|            null|              null|                null|                  null|                    null|                      null|                        null|\n",
      "|  4|    5.0|  ANNADAL...|             01  ONE...|                              1|5395.0|15.0|         |                                  A1|10 EDWI...|             ...| 10312.0|              1.0|             0.0|        1.0|          7000.0|           2200.0|    1980.0|                      1.0|                            A1|       0.0|2003-09...|      null|        null|          null|            null|              null|                null|                  null|                    null|                      null|                        null|\n",
      "|  5|    5.0|  ANNADAL...|             01  ONE...|                              1|5400.0|20.0|         |                                  A1|5 JANSE...|             ...| 10312.0|              1.0|             0.0|        1.0|         10000.0|           3344.0|    1980.0|                      1.0|                            A1|  795000.0|2003-05...|      null|        null|          null|            null|              null|                null|                  null|                    null|                      null|                        null|\n",
      "|  6|    5.0|  ANNADAL...|             01  ONE...|                              1|5403.0|33.0|         |                                  A1|91 NOEL...|             ...| 10312.0|              1.0|             0.0|        1.0|          7500.0|           6500.0|    2002.0|                      1.0|                            A1|       0.0|2003-01...|      null|        null|          null|            null|              null|                null|                  null|                    null|                      null|                        null|\n",
      "|  7|    5.0|  ANNADAL...|             01  ONE...|                              1|5404.0|18.0|         |                                  A2|1610 LE...|             ...| 10312.0|              1.0|             0.0|        1.0|          7500.0|           2128.0|    1970.0|                      1.0|                            A2|  625000.0|2003-02...|      null|        null|          null|            null|              null|                null|                  null|                    null|                      null|                        null|\n",
      "|  8|    5.0|  ANNADAL...|             01  ONE...|                              1|5406.0|35.0|         |                                  A1|103 ELM...|             ...| 10312.0|              1.0|             0.0|        1.0|          2500.0|           1700.0|    1999.0|                      1.0|                            A1|       0.0|2003-09...|      null|        null|          null|            null|              null|                null|                  null|                    null|                      null|                        null|\n",
      "|  9|    5.0|  ANNADAL...|             01  ONE...|                              1|5407.0|36.0|         |                                  A1|183 BAT...|             ...| 10312.0|              1.0|             0.0|        1.0|          3700.0|           4400.0|    2004.0|                      1.0|                            A1|  352000.0|2003-01...|      null|        null|          null|            null|              null|                null|                  null|                    null|                      null|                        null|\n",
      "+---+-------+------------+-----------------------+-------------------------------+------+----+---------+------------------------------------+----------+----------------+--------+-----------------+----------------+-----------+----------------+-----------------+----------+-------------------------+------------------------------+----------+----------+----------+------------+--------------+----------------+------------------+--------------------+----------------------+------------------------+--------------------------+----------------------------+\n",
      "only showing top 10 rows\n",
      "\n"
     ]
    }
   ],
   "source": [
    "dfStatenIsland20032019.show(10,10)"
   ]
  },
  {
   "cell_type": "code",
   "execution_count": 32,
   "id": "9bb70f68",
   "metadata": {},
   "outputs": [],
   "source": [
    "dfStatenIsland20032019 = dfStatenIsland20032019.select('Borough',\n",
    " 'Neighborhood',\n",
    " 'Building Class Category',\n",
    "col('Tax Class As Of Final Roll 18/1').alias(\"Tax Class At Present\"),\n",
    " 'Block',\n",
    " 'Lot',\n",
    "col('Building Class As Of Final Roll 18/1').alias(\"Building Class At Present\"),\n",
    "'Address',\n",
    " 'Residential Units',\n",
    " 'Commercial Units',\n",
    " 'Total Units',                      \n",
    " 'Land Square Feet',\n",
    " 'Gross Square Feet',\n",
    " 'Year Built',                      \n",
    " 'Sale Price',\n",
    " 'Sale Date' )\n",
    "\n",
    "\n"
   ]
  },
  {
   "cell_type": "code",
   "execution_count": 33,
   "id": "a6d99223",
   "metadata": {},
   "outputs": [
    {
     "name": "stdout",
     "output_type": "stream",
     "text": [
      "+-------+------------+-----------------------+--------------------+------+----+-------------------------+----------+-----------------+----------------+-----------+----------------+-----------------+----------+----------+----------+\n",
      "|Borough|Neighborhood|Building Class Category|Tax Class At Present| Block| Lot|Building Class At Present|   Address|Residential Units|Commercial Units|Total Units|Land Square Feet|Gross Square Feet|Year Built|Sale Price| Sale Date|\n",
      "+-------+------------+-----------------------+--------------------+------+----+-------------------------+----------+-----------------+----------------+-----------+----------------+-----------------+----------+----------+----------+\n",
      "|    5.0|  ANNADAL...|             01  ONE...|                   1|5391.0| 8.0|                       A5|4730 AM...|              1.0|             0.0|        1.0|          3149.0|           1110.0|    2002.0|  353886.0|2003-01...|\n",
      "|    5.0|  ANNADAL...|             01  ONE...|                   1|5391.0|12.0|                       A5|4718 AM...|              1.0|             0.0|        1.0|          1746.0|           1110.0|    2002.0|  310000.0|2003-07...|\n",
      "|    5.0|  ANNADAL...|             01  ONE...|                   1|5391.0|13.0|                       A5|4716 AM...|              1.0|             0.0|        1.0|          1871.0|           1110.0|    2002.0|  299130.0|2003-09...|\n",
      "|    5.0|  ANNADAL...|             01  ONE...|                   1|5391.0|15.0|                       A5|4714 AM...|              1.0|             0.0|        1.0|          4678.0|           1110.0|    2002.0|  304099.0|2003-09...|\n",
      "|    5.0|  ANNADAL...|             01  ONE...|                   1|5395.0|15.0|                       A1|10 EDWI...|              1.0|             0.0|        1.0|          7000.0|           2200.0|    1980.0|       0.0|2003-09...|\n",
      "|    5.0|  ANNADAL...|             01  ONE...|                   1|5400.0|20.0|                       A1|5 JANSE...|              1.0|             0.0|        1.0|         10000.0|           3344.0|    1980.0|  795000.0|2003-05...|\n",
      "|    5.0|  ANNADAL...|             01  ONE...|                   1|5403.0|33.0|                       A1|91 NOEL...|              1.0|             0.0|        1.0|          7500.0|           6500.0|    2002.0|       0.0|2003-01...|\n",
      "|    5.0|  ANNADAL...|             01  ONE...|                   1|5404.0|18.0|                       A2|1610 LE...|              1.0|             0.0|        1.0|          7500.0|           2128.0|    1970.0|  625000.0|2003-02...|\n",
      "|    5.0|  ANNADAL...|             01  ONE...|                   1|5406.0|35.0|                       A1|103 ELM...|              1.0|             0.0|        1.0|          2500.0|           1700.0|    1999.0|       0.0|2003-09...|\n",
      "|    5.0|  ANNADAL...|             01  ONE...|                   1|5407.0|36.0|                       A1|183 BAT...|              1.0|             0.0|        1.0|          3700.0|           4400.0|    2004.0|  352000.0|2003-01...|\n",
      "+-------+------------+-----------------------+--------------------+------+----+-------------------------+----------+-----------------+----------------+-----------+----------------+-----------------+----------+----------+----------+\n",
      "only showing top 10 rows\n",
      "\n"
     ]
    }
   ],
   "source": [
    "dfStatenIsland20032019.show(10,10)"
   ]
  },
  {
   "cell_type": "markdown",
   "id": "21a95e7d",
   "metadata": {},
   "source": [
    "# Exploratory Data Analysis PySpark DataFrame"
   ]
  },
  {
   "cell_type": "markdown",
   "id": "8bcbc940",
   "metadata": {},
   "source": [
    "## Data Cleaning"
   ]
  },
  {
   "cell_type": "markdown",
   "id": "20af753f",
   "metadata": {},
   "source": [
    "### dfBronx20032019"
   ]
  },
  {
   "cell_type": "markdown",
   "id": "3fb28f9e",
   "metadata": {},
   "source": [
    "#### Looking for null values"
   ]
  },
  {
   "cell_type": "code",
   "execution_count": 34,
   "id": "6c409790",
   "metadata": {
    "scrolled": true
   },
   "outputs": [],
   "source": [
    "dfBronx20032019null = dfBronx20032019.select('Borough',\n",
    " 'Neighborhood',\n",
    " 'Building Class Category',\n",
    " 'Tax Class At Present',\n",
    " 'Block',\n",
    " 'Lot',\n",
    " 'Building Class At Present',\n",
    " 'Address',\n",
    " 'Residential Units',\n",
    " 'Commercial Units',\n",
    " 'Total Units',\n",
    " 'Land Square Feet',\n",
    " 'Gross Square Feet',\n",
    " 'Year Built',\n",
    " 'Sale Price')"
   ]
  },
  {
   "cell_type": "code",
   "execution_count": 35,
   "id": "3b8f9a3e",
   "metadata": {},
   "outputs": [
    {
     "name": "stdout",
     "output_type": "stream",
     "text": [
      "+-------+------------+-----------------------+--------------------+------+------+-------------------------+-------+-----------------+----------------+-----------+----------------+-----------------+----------+----------+\n",
      "|Borough|Neighborhood|Building Class Category|Tax Class At Present| Block|   Lot|Building Class At Present|Address|Residential Units|Commercial Units|Total Units|Land Square Feet|Gross Square Feet|Year Built|Sale Price|\n",
      "+-------+------------+-----------------------+--------------------+------+------+-------------------------+-------+-----------------+----------------+-----------+----------------+-----------------+----------+----------+\n",
      "| 163308|      163308|                 163308|              163308|163308|163308|                   163308| 163308|           183972|          183972|     183972|          183984|           183972|    172464|    163308|\n",
      "+-------+------------+-----------------------+--------------------+------+------+-------------------------+-------+-----------------+----------------+-----------+----------------+-----------------+----------+----------+\n",
      "\n"
     ]
    }
   ],
   "source": [
    "dfBronx20032019null.select([count(when(isnan(c) | col(c).isNull(), c)).alias(c) for c in dfBronx20032019null.columns]).show()"
   ]
  },
  {
   "cell_type": "markdown",
   "id": "207b6273",
   "metadata": {},
   "source": [
    "#### Dropping null values "
   ]
  },
  {
   "cell_type": "code",
   "execution_count": 36,
   "id": "0c7d8ba6",
   "metadata": {},
   "outputs": [],
   "source": [
    "dfBronx20032019 = dfBronx20032019.na.drop()"
   ]
  },
  {
   "cell_type": "markdown",
   "id": "d7b5b8ef",
   "metadata": {},
   "source": [
    "#### Checking once again:"
   ]
  },
  {
   "cell_type": "code",
   "execution_count": 37,
   "id": "79f25516",
   "metadata": {},
   "outputs": [],
   "source": [
    "dfBronx20032019null = dfBronx20032019.select('Borough',\n",
    " 'Neighborhood',\n",
    " 'Building Class Category',\n",
    " 'Tax Class At Present',\n",
    " 'Block',\n",
    " 'Lot',\n",
    " 'Building Class At Present',\n",
    " 'Address',\n",
    " 'Residential Units',\n",
    " 'Commercial Units',\n",
    " 'Total Units',\n",
    " 'Land Square Feet',\n",
    " 'Gross Square Feet',\n",
    " 'Year Built',\n",
    " 'Sale Price')"
   ]
  },
  {
   "cell_type": "code",
   "execution_count": 38,
   "id": "0b60107d",
   "metadata": {},
   "outputs": [
    {
     "name": "stdout",
     "output_type": "stream",
     "text": [
      "+-------+------------+-----------------------+--------------------+-----+---+-------------------------+-------+-----------------+----------------+-----------+----------------+-----------------+----------+----------+\n",
      "|Borough|Neighborhood|Building Class Category|Tax Class At Present|Block|Lot|Building Class At Present|Address|Residential Units|Commercial Units|Total Units|Land Square Feet|Gross Square Feet|Year Built|Sale Price|\n",
      "+-------+------------+-----------------------+--------------------+-----+---+-------------------------+-------+-----------------+----------------+-----------+----------------+-----------------+----------+----------+\n",
      "|      0|           0|                      0|                   0|    0|  0|                        0|      0|                0|               0|          0|               0|                0|         0|         0|\n",
      "+-------+------------+-----------------------+--------------------+-----+---+-------------------------+-------+-----------------+----------------+-----------+----------------+-----------------+----------+----------+\n",
      "\n"
     ]
    }
   ],
   "source": [
    "dfBronx20032019null.select([count(when(isnan(c) | col(c).isNull(), c)).alias(c) for c in dfBronx20032019null.columns]).show()"
   ]
  },
  {
   "cell_type": "markdown",
   "id": "5998c899",
   "metadata": {},
   "source": [
    "#### Dealing with duplicates"
   ]
  },
  {
   "cell_type": "code",
   "execution_count": 39,
   "id": "e7371147",
   "metadata": {},
   "outputs": [
    {
     "name": "stdout",
     "output_type": "stream",
     "text": [
      "Counting rows 1546092\n"
     ]
    }
   ],
   "source": [
    "print(\"Counting rows {}\".format(dfBronx20032019.count()))"
   ]
  },
  {
   "cell_type": "code",
   "execution_count": 40,
   "id": "6f58249c",
   "metadata": {},
   "outputs": [
    {
     "name": "stdout",
     "output_type": "stream",
     "text": [
      "Counting distinct rows 127401\n"
     ]
    }
   ],
   "source": [
    "print(\"Counting distinct rows {}\".format(dfBronx20032019.distinct().count()))"
   ]
  },
  {
   "cell_type": "code",
   "execution_count": 41,
   "id": "254b58a3",
   "metadata": {},
   "outputs": [],
   "source": [
    "dfBronx20032019 = dfBronx20032019.dropDuplicates()"
   ]
  },
  {
   "cell_type": "code",
   "execution_count": 42,
   "id": "19c7cbaf",
   "metadata": {},
   "outputs": [
    {
     "name": "stdout",
     "output_type": "stream",
     "text": [
      "There are 127401 rows after removing duplicates\n"
     ]
    }
   ],
   "source": [
    "print(\"There are {} rows after removing duplicates\".format(dfBronx20032019.count()))"
   ]
  },
  {
   "cell_type": "markdown",
   "id": "3d3d842b",
   "metadata": {},
   "source": [
    "#### Columns"
   ]
  },
  {
   "cell_type": "code",
   "execution_count": 43,
   "id": "3cf24c8f",
   "metadata": {},
   "outputs": [
    {
     "name": "stdout",
     "output_type": "stream",
     "text": [
      "There are 16 columns in the DataFrame and their names are\n",
      " ['Borough', 'Neighborhood', 'Building Class Category', 'Tax Class At Present', 'Block', 'Lot', 'Building Class At Present', 'Address', 'Residential Units', 'Commercial Units', 'Total Units', 'Land Square Feet', 'Gross Square Feet', 'Year Built', 'Sale Price', 'Sale Date']\n"
     ]
    }
   ],
   "source": [
    "print(\"There are {} columns in the DataFrame and their names are\\n {}\".format(len(dfBronx20032019.columns),\n",
    "                                                                              dfBronx20032019.columns))"
   ]
  },
  {
   "cell_type": "markdown",
   "id": "86f51a11",
   "metadata": {},
   "source": [
    "#### Changing datatypes"
   ]
  },
  {
   "cell_type": "code",
   "execution_count": 44,
   "id": "d4ca8266",
   "metadata": {},
   "outputs": [
    {
     "name": "stdout",
     "output_type": "stream",
     "text": [
      "root\n",
      " |-- Borough: double (nullable = true)\n",
      " |-- Neighborhood: string (nullable = true)\n",
      " |-- Building Class Category: string (nullable = true)\n",
      " |-- Tax Class At Present: string (nullable = true)\n",
      " |-- Block: double (nullable = true)\n",
      " |-- Lot: double (nullable = true)\n",
      " |-- Building Class At Present: string (nullable = true)\n",
      " |-- Address: string (nullable = true)\n",
      " |-- Residential Units: double (nullable = true)\n",
      " |-- Commercial Units: double (nullable = true)\n",
      " |-- Total Units: double (nullable = true)\n",
      " |-- Land Square Feet: double (nullable = true)\n",
      " |-- Gross Square Feet: double (nullable = true)\n",
      " |-- Year Built: double (nullable = true)\n",
      " |-- Sale Price: double (nullable = true)\n",
      " |-- Sale Date: timestamp (nullable = true)\n",
      "\n"
     ]
    }
   ],
   "source": [
    "dfBronx20032019.printSchema()"
   ]
  },
  {
   "cell_type": "code",
   "execution_count": 45,
   "id": "3f8d6337",
   "metadata": {},
   "outputs": [],
   "source": [
    "dfBronx20032019 = dfBronx20032019.withColumn(\"Borough\", col(\"Borough\").cast(\"int\")) \\\n",
    "                 .withColumn(\"Block\" , col(\"Block\").cast(\"int\")) \\\n",
    "                 .withColumn(\"Lot\" , col(\"Lot\").cast(\"int\")) \\\n",
    "                 .withColumn(\"Lot\" , col(\"Borough\").cast(\"int\")) \\\n",
    "                 .withColumn(\"Residential Units\" , col(\"Residential Units\").cast(\"int\")) \\\n",
    "                 .withColumn(\"Commercial Units\" , col(\"Commercial Units\").cast(\"int\")) \\\n",
    "                 .withColumn(\"Total Units\" , col(\"Total Units\").cast(\"int\")) \\\n",
    "                 .withColumn(\"Land Square Feet\" , col(\"Land Square Feet\").cast(\"int\")) \\\n",
    "                 .withColumn(\"Gross Square Feet\" , col(\"Gross Square Feet\").cast(\"int\")) \\\n",
    "                 .withColumn(\"Year Built\" , col(\"Year Built\").cast(\"int\")) \\\n",
    "                 .withColumn(\"Sale Price\" , col(\"Sale Price\").cast(\"int\")) \\\n",
    "                 .withColumn(\"Sale Date\" , col(\"Sale Date\").cast(DateType()))"
   ]
  },
  {
   "cell_type": "code",
   "execution_count": 46,
   "id": "c27509a1",
   "metadata": {},
   "outputs": [
    {
     "name": "stdout",
     "output_type": "stream",
     "text": [
      "root\n",
      " |-- Borough: integer (nullable = true)\n",
      " |-- Neighborhood: string (nullable = true)\n",
      " |-- Building Class Category: string (nullable = true)\n",
      " |-- Tax Class At Present: string (nullable = true)\n",
      " |-- Block: integer (nullable = true)\n",
      " |-- Lot: integer (nullable = true)\n",
      " |-- Building Class At Present: string (nullable = true)\n",
      " |-- Address: string (nullable = true)\n",
      " |-- Residential Units: integer (nullable = true)\n",
      " |-- Commercial Units: integer (nullable = true)\n",
      " |-- Total Units: integer (nullable = true)\n",
      " |-- Land Square Feet: integer (nullable = true)\n",
      " |-- Gross Square Feet: integer (nullable = true)\n",
      " |-- Year Built: integer (nullable = true)\n",
      " |-- Sale Price: integer (nullable = true)\n",
      " |-- Sale Date: date (nullable = true)\n",
      "\n"
     ]
    }
   ],
   "source": [
    "dfBronx20032019.printSchema()"
   ]
  },
  {
   "cell_type": "markdown",
   "id": "107a47ad",
   "metadata": {},
   "source": [
    "#### Changing numeric values Borough to a name"
   ]
  },
  {
   "cell_type": "code",
   "execution_count": 47,
   "id": "9d89134f",
   "metadata": {},
   "outputs": [],
   "source": [
    "dfBronx20032019 = dfBronx20032019.withColumn(\"Borough\", when(col(\"Borough\") == 2,lit(\"Bronx\")).otherwise(lit(\"Bronx\")))"
   ]
  },
  {
   "cell_type": "code",
   "execution_count": 48,
   "id": "41229e02",
   "metadata": {},
   "outputs": [
    {
     "name": "stdout",
     "output_type": "stream",
     "text": [
      "+-------+\n",
      "|Borough|\n",
      "+-------+\n",
      "|  Bronx|\n",
      "+-------+\n",
      "\n"
     ]
    }
   ],
   "source": [
    "dfBronx20032019.select(\"Borough\").distinct().show()"
   ]
  },
  {
   "cell_type": "markdown",
   "id": "2e62be5a",
   "metadata": {},
   "source": [
    "#### Summary"
   ]
  },
  {
   "cell_type": "code",
   "execution_count": 49,
   "id": "876d0f73",
   "metadata": {},
   "outputs": [
    {
     "name": "stdout",
     "output_type": "stream",
     "text": [
      "+-------+------------------+\n",
      "|summary|             Block|\n",
      "+-------+------------------+\n",
      "|  count|            127401|\n",
      "|   mean|   4148.3136239119|\n",
      "| stddev|1048.0006613883152|\n",
      "|    min|              2260|\n",
      "|    max|              5958|\n",
      "+-------+------------------+\n",
      "\n"
     ]
    }
   ],
   "source": [
    "dfBronx20032019.describe(\"Block\").show()"
   ]
  },
  {
   "cell_type": "code",
   "execution_count": 50,
   "id": "e1a0cd91",
   "metadata": {},
   "outputs": [
    {
     "name": "stdout",
     "output_type": "stream",
     "text": [
      "+-------+------+\n",
      "|summary|   Lot|\n",
      "+-------+------+\n",
      "|  count|127401|\n",
      "|   mean|   2.0|\n",
      "| stddev|   0.0|\n",
      "|    min|     2|\n",
      "|    max|     2|\n",
      "+-------+------+\n",
      "\n"
     ]
    }
   ],
   "source": [
    "dfBronx20032019.describe(\"Lot\").show()"
   ]
  },
  {
   "cell_type": "code",
   "execution_count": 51,
   "id": "77954239",
   "metadata": {},
   "outputs": [
    {
     "name": "stdout",
     "output_type": "stream",
     "text": [
      "+-------+-----------------+\n",
      "|summary|Residential Units|\n",
      "+-------+-----------------+\n",
      "|  count|           127401|\n",
      "|   mean| 4.03886939662954|\n",
      "| stddev|47.51316957967174|\n",
      "|    min|                0|\n",
      "|    max|            13480|\n",
      "+-------+-----------------+\n",
      "\n"
     ]
    }
   ],
   "source": [
    "dfBronx20032019.describe(\"Residential Units\").show()"
   ]
  },
  {
   "cell_type": "code",
   "execution_count": 52,
   "id": "8b78fa8b",
   "metadata": {},
   "outputs": [
    {
     "name": "stdout",
     "output_type": "stream",
     "text": [
      "+-------+-------------------+\n",
      "|summary|   Commercial Units|\n",
      "+-------+-------------------+\n",
      "|  count|             127401|\n",
      "|   mean|0.22007676548849694|\n",
      "| stddev| 3.3270636207226616|\n",
      "|    min|                  0|\n",
      "|    max|                252|\n",
      "+-------+-------------------+\n",
      "\n"
     ]
    }
   ],
   "source": [
    "dfBronx20032019.describe(\"Commercial Units\").show()\n"
   ]
  },
  {
   "cell_type": "code",
   "execution_count": 53,
   "id": "0a1ee0e5",
   "metadata": {},
   "outputs": [
    {
     "name": "stdout",
     "output_type": "stream",
     "text": [
      "+-------+-----------------+\n",
      "|summary|      Total Units|\n",
      "+-------+-----------------+\n",
      "|  count|           127401|\n",
      "|   mean|4.261104700905016|\n",
      "| stddev|47.70597787054591|\n",
      "|    min|                0|\n",
      "|    max|            13495|\n",
      "+-------+-----------------+\n",
      "\n"
     ]
    }
   ],
   "source": [
    "dfBronx20032019.describe(\"Total Units\").show()\n"
   ]
  },
  {
   "cell_type": "code",
   "execution_count": 54,
   "id": "5f7fd791",
   "metadata": {},
   "outputs": [
    {
     "name": "stdout",
     "output_type": "stream",
     "text": [
      "+-------+-----------------+\n",
      "|summary| Land Square Feet|\n",
      "+-------+-----------------+\n",
      "|  count|           127401|\n",
      "|   mean|5075.459093727679|\n",
      "| stddev|99866.84182361943|\n",
      "|    min|                0|\n",
      "|    max|         19850400|\n",
      "+-------+-----------------+\n",
      "\n"
     ]
    }
   ],
   "source": [
    "dfBronx20032019.describe(\"Land Square Feet\").show()\n"
   ]
  },
  {
   "cell_type": "code",
   "execution_count": 55,
   "id": "7c3474df",
   "metadata": {},
   "outputs": [
    {
     "name": "stdout",
     "output_type": "stream",
     "text": [
      "+-------+-----------------+\n",
      "|summary|Gross Square Feet|\n",
      "+-------+-----------------+\n",
      "|  count|           127401|\n",
      "|   mean|5012.748369322062|\n",
      "| stddev|28193.71056863976|\n",
      "|    min|                0|\n",
      "|    max|          1743584|\n",
      "+-------+-----------------+\n",
      "\n"
     ]
    }
   ],
   "source": [
    "dfBronx20032019.describe(\"Gross Square Feet\").show()\n"
   ]
  },
  {
   "cell_type": "code",
   "execution_count": 56,
   "id": "bd59d05b",
   "metadata": {},
   "outputs": [
    {
     "name": "stdout",
     "output_type": "stream",
     "text": [
      "+-------+-----------------+\n",
      "|summary|      Total Units|\n",
      "+-------+-----------------+\n",
      "|  count|           127401|\n",
      "|   mean|4.261104700905016|\n",
      "| stddev|47.70597787054591|\n",
      "|    min|                0|\n",
      "|    max|            13495|\n",
      "+-------+-----------------+\n",
      "\n"
     ]
    }
   ],
   "source": [
    "dfBronx20032019.describe(\"Total Units\").show()\n"
   ]
  },
  {
   "cell_type": "code",
   "execution_count": 57,
   "id": "ad976dda",
   "metadata": {},
   "outputs": [
    {
     "name": "stdout",
     "output_type": "stream",
     "text": [
      "+-------+-----------------+\n",
      "|summary|       Sale Price|\n",
      "+-------+-----------------+\n",
      "|  count|           127401|\n",
      "|   mean|466189.4170218444|\n",
      "| stddev|2140451.887582929|\n",
      "|    min|                0|\n",
      "|    max|        137298279|\n",
      "+-------+-----------------+\n",
      "\n"
     ]
    }
   ],
   "source": [
    "dfBronx20032019.describe(\"Sale Price\").show()\n"
   ]
  },
  {
   "cell_type": "code",
   "execution_count": 58,
   "id": "769abe03",
   "metadata": {},
   "outputs": [
    {
     "data": {
      "text/plain": [
       "[('Borough', 'string'),\n",
       " ('Neighborhood', 'string'),\n",
       " ('Building Class Category', 'string'),\n",
       " ('Tax Class At Present', 'string'),\n",
       " ('Block', 'int'),\n",
       " ('Lot', 'int'),\n",
       " ('Building Class At Present', 'string'),\n",
       " ('Address', 'string'),\n",
       " ('Residential Units', 'int'),\n",
       " ('Commercial Units', 'int'),\n",
       " ('Total Units', 'int'),\n",
       " ('Land Square Feet', 'int'),\n",
       " ('Gross Square Feet', 'int'),\n",
       " ('Year Built', 'int'),\n",
       " ('Sale Price', 'int'),\n",
       " ('Sale Date', 'date')]"
      ]
     },
     "execution_count": 58,
     "metadata": {},
     "output_type": "execute_result"
    }
   ],
   "source": [
    "dfBronx20032019.dtypes"
   ]
  },
  {
   "cell_type": "code",
   "execution_count": 59,
   "id": "91bc1440",
   "metadata": {},
   "outputs": [
    {
     "name": "stdout",
     "output_type": "stream",
     "text": [
      "Shape of DataFrame: (127401, 16)\n"
     ]
    }
   ],
   "source": [
    "print('Shape of DataFrame:', (dfBronx20032019.count(), len(dfBronx20032019.columns)))"
   ]
  },
  {
   "cell_type": "markdown",
   "id": "923025f9",
   "metadata": {},
   "source": [
    "### dfBronx20032019"
   ]
  },
  {
   "cell_type": "markdown",
   "id": "0bf496c0",
   "metadata": {},
   "source": [
    "#### Looking for null values"
   ]
  },
  {
   "cell_type": "code",
   "execution_count": 60,
   "id": "286fd29f",
   "metadata": {},
   "outputs": [],
   "source": [
    "dfBrooklyn20032019null = dfBrooklyn20032019.select('Borough',\n",
    " 'Neighborhood',\n",
    " 'Building Class Category',\n",
    " 'Tax Class At Present',\n",
    " 'Block',\n",
    " 'Lot',\n",
    " 'Building Class At Present',\n",
    " 'Address',\n",
    " 'Residential Units',\n",
    " 'Commercial Units',\n",
    " 'Total Units',\n",
    " 'Land Square Feet',\n",
    " 'Gross Square Feet',\n",
    " 'Year Built',\n",
    " 'Sale Price')"
   ]
  },
  {
   "cell_type": "code",
   "execution_count": 61,
   "id": "01a312ef",
   "metadata": {},
   "outputs": [
    {
     "name": "stdout",
     "output_type": "stream",
     "text": [
      "+-------+------------+-----------------------+--------------------+-----+----+-------------------------+-------+-----------------+----------------+-----------+----------------+-----------------+----------+----------+\n",
      "|Borough|Neighborhood|Building Class Category|Tax Class At Present|Block| Lot|Building Class At Present|Address|Residential Units|Commercial Units|Total Units|Land Square Feet|Gross Square Feet|Year Built|Sale Price|\n",
      "+-------+------------+-----------------------+--------------------+-----+----+-------------------------+-------+-----------------+----------------+-----------+----------------+-----------------+----------+----------+\n",
      "|   4279|        4279|                   4279|                4620| 4279|4279|                     4620|   4279|            33429|           33429|      33429|           33429|            33429|     21901|      4279|\n",
      "+-------+------------+-----------------------+--------------------+-----+----+-------------------------+-------+-----------------+----------------+-----------+----------------+-----------------+----------+----------+\n",
      "\n"
     ]
    }
   ],
   "source": [
    "dfBrooklyn20032019null.select([count(when(isnan(c) | col(c).isNull(), c)).alias(c) for c in dfBrooklyn20032019null.columns]).show()"
   ]
  },
  {
   "cell_type": "markdown",
   "id": "5056ef73",
   "metadata": {},
   "source": [
    "#### Dropping null values"
   ]
  },
  {
   "cell_type": "code",
   "execution_count": 62,
   "id": "328dfd71",
   "metadata": {},
   "outputs": [],
   "source": [
    "dfBrooklyn20032019 = dfBrooklyn20032019.na.drop()"
   ]
  },
  {
   "cell_type": "markdown",
   "id": "cc1c9a58",
   "metadata": {},
   "source": [
    "#### Checking once again"
   ]
  },
  {
   "cell_type": "code",
   "execution_count": 63,
   "id": "d3a8c69b",
   "metadata": {},
   "outputs": [],
   "source": [
    "dfBrooklyn20032019null = dfBrooklyn20032019.select('Borough',\n",
    " 'Neighborhood',\n",
    " 'Building Class Category',\n",
    " 'Tax Class At Present',\n",
    " 'Block',\n",
    " 'Lot',\n",
    " 'Building Class At Present',\n",
    " 'Address',\n",
    " 'Residential Units',\n",
    " 'Commercial Units',\n",
    " 'Total Units',\n",
    " 'Land Square Feet',\n",
    " 'Gross Square Feet',\n",
    " 'Year Built',\n",
    " 'Sale Price')"
   ]
  },
  {
   "cell_type": "code",
   "execution_count": 64,
   "id": "369e252d",
   "metadata": {},
   "outputs": [
    {
     "name": "stdout",
     "output_type": "stream",
     "text": [
      "+-------+------------+-----------------------+--------------------+-----+---+-------------------------+-------+-----------------+----------------+-----------+----------------+-----------------+----------+----------+\n",
      "|Borough|Neighborhood|Building Class Category|Tax Class At Present|Block|Lot|Building Class At Present|Address|Residential Units|Commercial Units|Total Units|Land Square Feet|Gross Square Feet|Year Built|Sale Price|\n",
      "+-------+------------+-----------------------+--------------------+-----+---+-------------------------+-------+-----------------+----------------+-----------+----------------+-----------------+----------+----------+\n",
      "|      0|           0|                      0|                   0|    0|  0|                        0|      0|                0|               0|          0|               0|                0|         0|         0|\n",
      "+-------+------------+-----------------------+--------------------+-----+---+-------------------------+-------+-----------------+----------------+-----------+----------------+-----------------+----------+----------+\n",
      "\n"
     ]
    }
   ],
   "source": [
    "dfBrooklyn20032019null.select([count(when(isnan(c) | col(c).isNull(), c)).alias(c) for c in dfBrooklyn20032019null.columns]).show()"
   ]
  },
  {
   "cell_type": "markdown",
   "id": "d1b3e785",
   "metadata": {},
   "source": [
    "#### Dealing with duplicates"
   ]
  },
  {
   "cell_type": "code",
   "execution_count": 65,
   "id": "4e282d1a",
   "metadata": {},
   "outputs": [
    {
     "name": "stdout",
     "output_type": "stream",
     "text": [
      "Counting rows 4840044\n"
     ]
    }
   ],
   "source": [
    "print(\"Counting rows {}\".format(dfBrooklyn20032019.count()))"
   ]
  },
  {
   "cell_type": "code",
   "execution_count": 66,
   "id": "f2ef9365",
   "metadata": {},
   "outputs": [
    {
     "name": "stdout",
     "output_type": "stream",
     "text": [
      "Counting distinct row 433925\n"
     ]
    }
   ],
   "source": [
    "print(\"Counting distinct row {}\".format(dfBrooklyn20032019.distinct().count()))"
   ]
  },
  {
   "cell_type": "code",
   "execution_count": 67,
   "id": "f4a0703b",
   "metadata": {},
   "outputs": [],
   "source": [
    "dfBrooklyn20032019 = dfBrooklyn20032019.dropDuplicates()"
   ]
  },
  {
   "cell_type": "code",
   "execution_count": 68,
   "id": "5c048a52",
   "metadata": {},
   "outputs": [
    {
     "name": "stdout",
     "output_type": "stream",
     "text": [
      "There are 433925 rows after removing duplicates\n"
     ]
    }
   ],
   "source": [
    "print(\"There are {} rows after removing duplicates\".format(dfBrooklyn20032019.count()))"
   ]
  },
  {
   "cell_type": "markdown",
   "id": "024820f3",
   "metadata": {},
   "source": [
    "#### Columns"
   ]
  },
  {
   "cell_type": "code",
   "execution_count": 69,
   "id": "fc57433b",
   "metadata": {},
   "outputs": [
    {
     "name": "stdout",
     "output_type": "stream",
     "text": [
      "There are 16 columns in the DataFrame and their names are\n",
      " ['Borough', 'Neighborhood', 'Building Class Category', 'Tax Class At Present', 'Block', 'Lot', 'Building Class At Present', 'Address', 'Residential Units', 'Commercial Units', 'Total Units', 'Land Square Feet', 'Gross Square Feet', 'Year Built', 'Sale Price', 'Sale Date']\n"
     ]
    }
   ],
   "source": [
    "print(\"There are {} columns in the DataFrame and their names are\\n {}\".format(len(dfBrooklyn20032019.columns),\n",
    "                                                                             dfBrooklyn20032019.columns))"
   ]
  },
  {
   "cell_type": "markdown",
   "id": "86615410",
   "metadata": {},
   "source": [
    "#### Changing datatypes"
   ]
  },
  {
   "cell_type": "code",
   "execution_count": 70,
   "id": "a1b5758b",
   "metadata": {},
   "outputs": [
    {
     "name": "stdout",
     "output_type": "stream",
     "text": [
      "root\n",
      " |-- Borough: double (nullable = true)\n",
      " |-- Neighborhood: string (nullable = true)\n",
      " |-- Building Class Category: string (nullable = true)\n",
      " |-- Tax Class At Present: string (nullable = true)\n",
      " |-- Block: double (nullable = true)\n",
      " |-- Lot: double (nullable = true)\n",
      " |-- Building Class At Present: string (nullable = true)\n",
      " |-- Address: string (nullable = true)\n",
      " |-- Residential Units: double (nullable = true)\n",
      " |-- Commercial Units: double (nullable = true)\n",
      " |-- Total Units: double (nullable = true)\n",
      " |-- Land Square Feet: double (nullable = true)\n",
      " |-- Gross Square Feet: double (nullable = true)\n",
      " |-- Year Built: double (nullable = true)\n",
      " |-- Sale Price: double (nullable = true)\n",
      " |-- Sale Date: timestamp (nullable = true)\n",
      "\n"
     ]
    }
   ],
   "source": [
    "dfBrooklyn20032019.printSchema()"
   ]
  },
  {
   "cell_type": "code",
   "execution_count": 71,
   "id": "6f47fe5e",
   "metadata": {},
   "outputs": [],
   "source": [
    "dfBrooklyn20032019 = dfBrooklyn20032019.withColumn(\"Borough\", col(\"Borough\").cast(\"int\")) \\\n",
    "                 .withColumn(\"Block\" , col(\"Block\").cast(\"int\")) \\\n",
    "                 .withColumn(\"Lot\" , col(\"Lot\").cast(\"int\")) \\\n",
    "                 .withColumn(\"Lot\" , col(\"Borough\").cast(\"int\")) \\\n",
    "                 .withColumn(\"Residential Units\" , col(\"Residential Units\").cast(\"int\")) \\\n",
    "                 .withColumn(\"Commercial Units\" , col(\"Commercial Units\").cast(\"int\")) \\\n",
    "                 .withColumn(\"Total Units\" , col(\"Total Units\").cast(\"int\")) \\\n",
    "                 .withColumn(\"Land Square Feet\" , col(\"Land Square Feet\").cast(\"int\")) \\\n",
    "                 .withColumn(\"Gross Square Feet\" , col(\"Gross Square Feet\").cast(\"int\")) \\\n",
    "                 .withColumn(\"Year Built\" , col(\"Year Built\").cast(\"int\")) \\\n",
    "                 .withColumn(\"Sale Price\" , col(\"Sale Price\").cast(\"int\")) \\\n",
    "                 .withColumn(\"Sale Date\" , col(\"Sale Date\").cast(DateType()))"
   ]
  },
  {
   "cell_type": "code",
   "execution_count": 72,
   "id": "719ccdc3",
   "metadata": {},
   "outputs": [
    {
     "name": "stdout",
     "output_type": "stream",
     "text": [
      "root\n",
      " |-- Borough: integer (nullable = true)\n",
      " |-- Neighborhood: string (nullable = true)\n",
      " |-- Building Class Category: string (nullable = true)\n",
      " |-- Tax Class At Present: string (nullable = true)\n",
      " |-- Block: integer (nullable = true)\n",
      " |-- Lot: integer (nullable = true)\n",
      " |-- Building Class At Present: string (nullable = true)\n",
      " |-- Address: string (nullable = true)\n",
      " |-- Residential Units: integer (nullable = true)\n",
      " |-- Commercial Units: integer (nullable = true)\n",
      " |-- Total Units: integer (nullable = true)\n",
      " |-- Land Square Feet: integer (nullable = true)\n",
      " |-- Gross Square Feet: integer (nullable = true)\n",
      " |-- Year Built: integer (nullable = true)\n",
      " |-- Sale Price: integer (nullable = true)\n",
      " |-- Sale Date: date (nullable = true)\n",
      "\n"
     ]
    }
   ],
   "source": [
    "dfBrooklyn20032019.printSchema()"
   ]
  },
  {
   "cell_type": "markdown",
   "id": "c07527e2",
   "metadata": {},
   "source": [
    "#### Changing numeric values Borough to a name"
   ]
  },
  {
   "cell_type": "code",
   "execution_count": 73,
   "id": "316c7c06",
   "metadata": {},
   "outputs": [],
   "source": [
    "dfBrooklyn20032019 = dfBrooklyn20032019.withColumn(\"Borough\", when(col(\"Borough\") == 3, \n",
    "                                                                   lit(\"Brooklyn\")).otherwise(lit(\"Brooklyn\")))"
   ]
  },
  {
   "cell_type": "code",
   "execution_count": 74,
   "id": "89037a85",
   "metadata": {},
   "outputs": [
    {
     "name": "stdout",
     "output_type": "stream",
     "text": [
      "+--------+\n",
      "| Borough|\n",
      "+--------+\n",
      "|Brooklyn|\n",
      "+--------+\n",
      "\n"
     ]
    }
   ],
   "source": [
    "dfBrooklyn20032019.select(\"Borough\").distinct().show()"
   ]
  },
  {
   "cell_type": "markdown",
   "id": "ee2c582c",
   "metadata": {},
   "source": [
    "#### Summary"
   ]
  },
  {
   "cell_type": "code",
   "execution_count": 75,
   "id": "7897f319",
   "metadata": {},
   "outputs": [
    {
     "name": "stdout",
     "output_type": "stream",
     "text": [
      "+-------+-----------------+\n",
      "|summary|            Block|\n",
      "+-------+-----------------+\n",
      "|  count|           433925|\n",
      "|   mean|4293.120359509132|\n",
      "| stddev|2642.119312135127|\n",
      "|    min|                1|\n",
      "|    max|             8955|\n",
      "+-------+-----------------+\n",
      "\n"
     ]
    }
   ],
   "source": [
    "dfBrooklyn20032019.describe(\"Block\").show()"
   ]
  },
  {
   "cell_type": "code",
   "execution_count": 76,
   "id": "fe5123b6",
   "metadata": {},
   "outputs": [
    {
     "name": "stdout",
     "output_type": "stream",
     "text": [
      "+-------+--------------------+\n",
      "|summary|                 Lot|\n",
      "+-------+--------------------+\n",
      "|  count|              433925|\n",
      "|   mean|                 3.0|\n",
      "| stddev|3.267599048030162...|\n",
      "|    min|                   3|\n",
      "|    max|                   3|\n",
      "+-------+--------------------+\n",
      "\n"
     ]
    }
   ],
   "source": [
    "dfBrooklyn20032019.describe(\"Lot\").show()"
   ]
  },
  {
   "cell_type": "code",
   "execution_count": 77,
   "id": "cae72f70",
   "metadata": {},
   "outputs": [
    {
     "name": "stdout",
     "output_type": "stream",
     "text": [
      "+-------+-----------------+\n",
      "|summary|Residential Units|\n",
      "+-------+-----------------+\n",
      "|  count|           433925|\n",
      "|   mean| 2.47843982254998|\n",
      "| stddev|46.13016124305789|\n",
      "|    min|                0|\n",
      "|    max|            20811|\n",
      "+-------+-----------------+\n",
      "\n"
     ]
    }
   ],
   "source": [
    "dfBrooklyn20032019.describe(\"Residential Units\").show()"
   ]
  },
  {
   "cell_type": "code",
   "execution_count": 78,
   "id": "38a097f0",
   "metadata": {},
   "outputs": [
    {
     "name": "stdout",
     "output_type": "stream",
     "text": [
      "+-------+------------------+\n",
      "|summary|  Commercial Units|\n",
      "+-------+------------------+\n",
      "|  count|            433925|\n",
      "|   mean|0.1794688022123639|\n",
      "| stddev|1.8504464046685556|\n",
      "|    min|                 0|\n",
      "|    max|               530|\n",
      "+-------+------------------+\n",
      "\n"
     ]
    }
   ],
   "source": [
    "dfBrooklyn20032019.describe(\"Commercial Units\").show()"
   ]
  },
  {
   "cell_type": "code",
   "execution_count": 79,
   "id": "4a792c86",
   "metadata": {},
   "outputs": [
    {
     "name": "stdout",
     "output_type": "stream",
     "text": [
      "+-------+------------------+\n",
      "|summary|       Total Units|\n",
      "+-------+------------------+\n",
      "|  count|            433925|\n",
      "|   mean|2.6718326899809877|\n",
      "| stddev| 46.17509721408366|\n",
      "|    min|                 0|\n",
      "|    max|             20811|\n",
      "+-------+------------------+\n",
      "\n"
     ]
    }
   ],
   "source": [
    "dfBrooklyn20032019.describe(\"Total Units\").show()"
   ]
  },
  {
   "cell_type": "code",
   "execution_count": 80,
   "id": "f8f526fd",
   "metadata": {},
   "outputs": [
    {
     "name": "stdout",
     "output_type": "stream",
     "text": [
      "+-------+-----------------+\n",
      "|summary| Land Square Feet|\n",
      "+-------+-----------------+\n",
      "|  count|           433925|\n",
      "|   mean|2448.894719133491|\n",
      "| stddev| 24367.8574369487|\n",
      "|    min|                0|\n",
      "|    max|          7446955|\n",
      "+-------+-----------------+\n",
      "\n"
     ]
    }
   ],
   "source": [
    "dfBrooklyn20032019.describe(\"Land Square Feet\").show()"
   ]
  },
  {
   "cell_type": "code",
   "execution_count": 81,
   "id": "14797da1",
   "metadata": {},
   "outputs": [
    {
     "name": "stdout",
     "output_type": "stream",
     "text": [
      "+-------+-----------------+\n",
      "|summary|Gross Square Feet|\n",
      "+-------+-----------------+\n",
      "|  count|           433925|\n",
      "|   mean|2982.730299014807|\n",
      "| stddev|15399.32839733914|\n",
      "|    min|                0|\n",
      "|    max|          2548000|\n",
      "+-------+-----------------+\n",
      "\n"
     ]
    }
   ],
   "source": [
    "dfBrooklyn20032019.describe(\"Gross Square Feet\").show()"
   ]
  },
  {
   "cell_type": "code",
   "execution_count": 82,
   "id": "ee8a373d",
   "metadata": {},
   "outputs": [
    {
     "name": "stdout",
     "output_type": "stream",
     "text": [
      "+-------+------------------+\n",
      "|summary|       Total Units|\n",
      "+-------+------------------+\n",
      "|  count|            433925|\n",
      "|   mean|2.6718326899809877|\n",
      "| stddev| 46.17509721408366|\n",
      "|    min|                 0|\n",
      "|    max|             20811|\n",
      "+-------+------------------+\n",
      "\n"
     ]
    }
   ],
   "source": [
    "dfBrooklyn20032019.describe(\"Total Units\").show()"
   ]
  },
  {
   "cell_type": "code",
   "execution_count": 83,
   "id": "4d335115",
   "metadata": {},
   "outputs": [
    {
     "name": "stdout",
     "output_type": "stream",
     "text": [
      "+-------+-----------------+\n",
      "|summary|       Sale Price|\n",
      "+-------+-----------------+\n",
      "|  count|           433925|\n",
      "|   mean|550014.1549599585|\n",
      "| stddev|2895213.247922273|\n",
      "|    min|                0|\n",
      "|    max|        869612895|\n",
      "+-------+-----------------+\n",
      "\n"
     ]
    }
   ],
   "source": [
    "dfBrooklyn20032019.describe(\"Sale Price\").show()"
   ]
  },
  {
   "cell_type": "code",
   "execution_count": 84,
   "id": "a397cb00",
   "metadata": {},
   "outputs": [
    {
     "data": {
      "text/plain": [
       "[('Borough', 'string'),\n",
       " ('Neighborhood', 'string'),\n",
       " ('Building Class Category', 'string'),\n",
       " ('Tax Class At Present', 'string'),\n",
       " ('Block', 'int'),\n",
       " ('Lot', 'int'),\n",
       " ('Building Class At Present', 'string'),\n",
       " ('Address', 'string'),\n",
       " ('Residential Units', 'int'),\n",
       " ('Commercial Units', 'int'),\n",
       " ('Total Units', 'int'),\n",
       " ('Land Square Feet', 'int'),\n",
       " ('Gross Square Feet', 'int'),\n",
       " ('Year Built', 'int'),\n",
       " ('Sale Price', 'int'),\n",
       " ('Sale Date', 'date')]"
      ]
     },
     "execution_count": 84,
     "metadata": {},
     "output_type": "execute_result"
    }
   ],
   "source": [
    "dfBrooklyn20032019.dtypes"
   ]
  },
  {
   "cell_type": "code",
   "execution_count": 85,
   "id": "1fb7e75f",
   "metadata": {},
   "outputs": [
    {
     "name": "stdout",
     "output_type": "stream",
     "text": [
      "Shape of DataFrame:  (433925, 16)\n"
     ]
    }
   ],
   "source": [
    "print('Shape of DataFrame: ', (dfBrooklyn20032019.count(), len(dfBrooklyn20032019.columns)))"
   ]
  },
  {
   "cell_type": "markdown",
   "id": "33d81871",
   "metadata": {},
   "source": [
    "### dfManhattan20032019"
   ]
  },
  {
   "cell_type": "markdown",
   "id": "55b21538",
   "metadata": {},
   "source": [
    "#### Looking for null values"
   ]
  },
  {
   "cell_type": "code",
   "execution_count": 86,
   "id": "758ab8aa",
   "metadata": {},
   "outputs": [],
   "source": [
    "dfManhattan20032019null = dfManhattan20032019.select('Borough',\n",
    " 'Neighborhood',\n",
    " 'Building Class Category',\n",
    " 'Tax Class At Present',\n",
    " 'Block',\n",
    " 'Lot',\n",
    " 'Building Class At Present',\n",
    " 'Address',\n",
    " 'Residential Units',\n",
    " 'Commercial Units',\n",
    " 'Total Units',\n",
    " 'Land Square Feet',\n",
    " 'Gross Square Feet',\n",
    " 'Year Built',\n",
    " 'Sale Price')"
   ]
  },
  {
   "cell_type": "code",
   "execution_count": 87,
   "id": "4a3b5488",
   "metadata": {},
   "outputs": [
    {
     "name": "stdout",
     "output_type": "stream",
     "text": [
      "+-------+------------+-----------------------+--------------------+-----+---+-------------------------+-------+-----------------+----------------+-----------+----------------+-----------------+----------+----------+\n",
      "|Borough|Neighborhood|Building Class Category|Tax Class At Present|Block|Lot|Building Class At Present|Address|Residential Units|Commercial Units|Total Units|Land Square Feet|Gross Square Feet|Year Built|Sale Price|\n",
      "+-------+------------+-----------------------+--------------------+-----+---+-------------------------+-------+-----------------+----------------+-----------+----------------+-----------------+----------+----------+\n",
      "|      0|           0|                      0|                1936|    0|  0|                     1936|      0|            85492|           85492|      85492|           85492|            85492|     22561|         0|\n",
      "+-------+------------+-----------------------+--------------------+-----+---+-------------------------+-------+-----------------+----------------+-----------+----------------+-----------------+----------+----------+\n",
      "\n"
     ]
    }
   ],
   "source": [
    "dfManhattan20032019null.select([count(when(isnan(c) | col(c).isNull(), c)).alias(c) for c in dfManhattan20032019null.columns]).show()"
   ]
  },
  {
   "cell_type": "markdown",
   "id": "ec9ff68c",
   "metadata": {},
   "source": [
    "#### Dropping null values"
   ]
  },
  {
   "cell_type": "code",
   "execution_count": 88,
   "id": "c680650a",
   "metadata": {},
   "outputs": [],
   "source": [
    "dfManhattan20032019 = dfManhattan20032019.na.drop()"
   ]
  },
  {
   "cell_type": "markdown",
   "id": "548e4913",
   "metadata": {},
   "source": [
    "#### Checking once again:"
   ]
  },
  {
   "cell_type": "code",
   "execution_count": 89,
   "id": "827b1d87",
   "metadata": {},
   "outputs": [],
   "source": [
    "dfManhattan20032019null = dfManhattan20032019.select('Borough',\n",
    " 'Neighborhood',\n",
    " 'Building Class Category',\n",
    " 'Tax Class At Present',\n",
    " 'Block',\n",
    " 'Lot',\n",
    " 'Building Class At Present',\n",
    " 'Address',\n",
    " 'Residential Units',\n",
    " 'Commercial Units',\n",
    " 'Total Units',\n",
    " 'Land Square Feet',\n",
    " 'Gross Square Feet',\n",
    " 'Year Built',\n",
    " 'Sale Price')"
   ]
  },
  {
   "cell_type": "code",
   "execution_count": 90,
   "id": "f2bb1900",
   "metadata": {},
   "outputs": [
    {
     "name": "stdout",
     "output_type": "stream",
     "text": [
      "+-------+------------+-----------------------+--------------------+-----+---+-------------------------+-------+-----------------+----------------+-----------+----------------+-----------------+----------+----------+\n",
      "|Borough|Neighborhood|Building Class Category|Tax Class At Present|Block|Lot|Building Class At Present|Address|Residential Units|Commercial Units|Total Units|Land Square Feet|Gross Square Feet|Year Built|Sale Price|\n",
      "+-------+------------+-----------------------+--------------------+-----+---+-------------------------+-------+-----------------+----------------+-----------+----------------+-----------------+----------+----------+\n",
      "|      0|           0|                      0|                   0|    0|  0|                        0|      0|                0|               0|          0|               0|                0|         0|         0|\n",
      "+-------+------------+-----------------------+--------------------+-----+---+-------------------------+-------+-----------------+----------------+-----------+----------------+-----------------+----------+----------+\n",
      "\n"
     ]
    }
   ],
   "source": [
    "dfManhattan20032019null.select([count(when(isnan(c) | col(c).isNull(), c)).alias(c) for c in dfManhattan20032019null.columns]).show()"
   ]
  },
  {
   "cell_type": "markdown",
   "id": "f0b7bd63",
   "metadata": {},
   "source": [
    "#### Dealing with duplicates"
   ]
  },
  {
   "cell_type": "code",
   "execution_count": 91,
   "id": "24d955e2",
   "metadata": {},
   "outputs": [
    {
     "name": "stdout",
     "output_type": "stream",
     "text": [
      "Counting rows 4188173\n"
     ]
    }
   ],
   "source": [
    "print(\"Counting rows {}\".format(dfManhattan20032019.count()))"
   ]
  },
  {
   "cell_type": "code",
   "execution_count": 92,
   "id": "77900cec",
   "metadata": {},
   "outputs": [
    {
     "name": "stdout",
     "output_type": "stream",
     "text": [
      "Counting distinct row 364538\n"
     ]
    }
   ],
   "source": [
    "print(\"Counting distinct row {}\".format(dfManhattan20032019.distinct().count()))"
   ]
  },
  {
   "cell_type": "code",
   "execution_count": 93,
   "id": "865ee11c",
   "metadata": {},
   "outputs": [],
   "source": [
    "dfManhattan20032019 = dfManhattan20032019.dropDuplicates()"
   ]
  },
  {
   "cell_type": "code",
   "execution_count": 94,
   "id": "dfe8b594",
   "metadata": {},
   "outputs": [
    {
     "name": "stdout",
     "output_type": "stream",
     "text": [
      "There are 364538 rows after removing duplicates\n"
     ]
    }
   ],
   "source": [
    "print(\"There are {} rows after removing duplicates\".format(dfManhattan20032019.count()))"
   ]
  },
  {
   "cell_type": "markdown",
   "id": "825574d4",
   "metadata": {},
   "source": [
    "#### Columns"
   ]
  },
  {
   "cell_type": "code",
   "execution_count": 95,
   "id": "fac9ab54",
   "metadata": {},
   "outputs": [
    {
     "name": "stdout",
     "output_type": "stream",
     "text": [
      "There are 16 columns in the DataFrame and their names\n",
      " ['Borough', 'Neighborhood', 'Building Class Category', 'Block', 'Lot', 'Building Class At Present', 'Tax Class At Present', 'Address', 'Residential Units', 'Commercial Units', 'Total Units', 'Land Square Feet', 'Gross Square Feet', 'Year Built', 'Sale Price', 'Sale Date']\n"
     ]
    }
   ],
   "source": [
    "print(\"There are {} columns in the DataFrame and their names\\n {}\".format(len(dfManhattan20032019.columns),\n",
    "                                                                         dfManhattan20032019.columns))"
   ]
  },
  {
   "cell_type": "markdown",
   "id": "626dfdd9",
   "metadata": {},
   "source": [
    "#### Changing datatypes"
   ]
  },
  {
   "cell_type": "code",
   "execution_count": 96,
   "id": "9a4efa1b",
   "metadata": {},
   "outputs": [
    {
     "name": "stdout",
     "output_type": "stream",
     "text": [
      "root\n",
      " |-- Borough: integer (nullable = true)\n",
      " |-- Neighborhood: string (nullable = true)\n",
      " |-- Building Class Category: string (nullable = true)\n",
      " |-- Block: integer (nullable = true)\n",
      " |-- Lot: integer (nullable = true)\n",
      " |-- Building Class At Present: string (nullable = true)\n",
      " |-- Tax Class At Present: string (nullable = true)\n",
      " |-- Address: string (nullable = true)\n",
      " |-- Residential Units: double (nullable = true)\n",
      " |-- Commercial Units: double (nullable = true)\n",
      " |-- Total Units: double (nullable = true)\n",
      " |-- Land Square Feet: double (nullable = true)\n",
      " |-- Gross Square Feet: double (nullable = true)\n",
      " |-- Year Built: double (nullable = true)\n",
      " |-- Sale Price: long (nullable = true)\n",
      " |-- Sale Date: timestamp (nullable = true)\n",
      "\n"
     ]
    }
   ],
   "source": [
    "dfManhattan20032019.printSchema()"
   ]
  },
  {
   "cell_type": "code",
   "execution_count": 97,
   "id": "9bc3cd84",
   "metadata": {},
   "outputs": [],
   "source": [
    "dfManhattan20032019 = dfManhattan20032019.withColumn(\"Borough\", col(\"Borough\").cast(\"int\")) \\\n",
    "                 .withColumn(\"Block\" , col(\"Block\").cast(\"int\")) \\\n",
    "                 .withColumn(\"Lot\" , col(\"Lot\").cast(\"int\")) \\\n",
    "                 .withColumn(\"Lot\" , col(\"Borough\").cast(\"int\")) \\\n",
    "                 .withColumn(\"Residential Units\" , col(\"Residential Units\").cast(\"int\")) \\\n",
    "                 .withColumn(\"Commercial Units\" , col(\"Commercial Units\").cast(\"int\")) \\\n",
    "                 .withColumn(\"Total Units\" , col(\"Total Units\").cast(\"int\")) \\\n",
    "                 .withColumn(\"Land Square Feet\" , col(\"Land Square Feet\").cast(\"int\")) \\\n",
    "                 .withColumn(\"Gross Square Feet\" , col(\"Gross Square Feet\").cast(\"int\")) \\\n",
    "                 .withColumn(\"Year Built\" , col(\"Year Built\").cast(\"int\")) \\\n",
    "                 .withColumn(\"Sale Price\" , col(\"Sale Price\").cast(\"int\")) \\\n",
    "                 .withColumn(\"Sale Date\" , col(\"Sale Date\").cast(DateType()))"
   ]
  },
  {
   "cell_type": "code",
   "execution_count": 98,
   "id": "7da471b0",
   "metadata": {},
   "outputs": [
    {
     "name": "stdout",
     "output_type": "stream",
     "text": [
      "root\n",
      " |-- Borough: integer (nullable = true)\n",
      " |-- Neighborhood: string (nullable = true)\n",
      " |-- Building Class Category: string (nullable = true)\n",
      " |-- Block: integer (nullable = true)\n",
      " |-- Lot: integer (nullable = true)\n",
      " |-- Building Class At Present: string (nullable = true)\n",
      " |-- Tax Class At Present: string (nullable = true)\n",
      " |-- Address: string (nullable = true)\n",
      " |-- Residential Units: integer (nullable = true)\n",
      " |-- Commercial Units: integer (nullable = true)\n",
      " |-- Total Units: integer (nullable = true)\n",
      " |-- Land Square Feet: integer (nullable = true)\n",
      " |-- Gross Square Feet: integer (nullable = true)\n",
      " |-- Year Built: integer (nullable = true)\n",
      " |-- Sale Price: integer (nullable = true)\n",
      " |-- Sale Date: date (nullable = true)\n",
      "\n"
     ]
    }
   ],
   "source": [
    "dfManhattan20032019.printSchema()"
   ]
  },
  {
   "cell_type": "markdown",
   "id": "9dde7a68",
   "metadata": {},
   "source": [
    "#### Changing numeric values Borough to a name"
   ]
  },
  {
   "cell_type": "code",
   "execution_count": 99,
   "id": "498c9377",
   "metadata": {},
   "outputs": [],
   "source": [
    "dfManhattan20032019 = dfManhattan20032019.withColumn(\"Borough\", when(col(\"Borough\") == 1, \n",
    "                                                                     lit(\"Manhattan\")).otherwise(lit(\"Manhattan\")))"
   ]
  },
  {
   "cell_type": "code",
   "execution_count": 100,
   "id": "060e3b49",
   "metadata": {},
   "outputs": [
    {
     "name": "stdout",
     "output_type": "stream",
     "text": [
      "+---------+\n",
      "|  Borough|\n",
      "+---------+\n",
      "|Manhattan|\n",
      "+---------+\n",
      "\n"
     ]
    }
   ],
   "source": [
    "dfManhattan20032019.select(\"Borough\").distinct().show()"
   ]
  },
  {
   "cell_type": "markdown",
   "id": "22bcd048",
   "metadata": {},
   "source": [
    "#### Summary"
   ]
  },
  {
   "cell_type": "code",
   "execution_count": 101,
   "id": "c0c0e942",
   "metadata": {},
   "outputs": [
    {
     "name": "stdout",
     "output_type": "stream",
     "text": [
      "+-------+-----------------+\n",
      "|summary|            Block|\n",
      "+-------+-----------------+\n",
      "|  count|           364538|\n",
      "|   mean|1118.187308319023|\n",
      "| stddev|496.5726571797891|\n",
      "|    min|                1|\n",
      "|    max|             2255|\n",
      "+-------+-----------------+\n",
      "\n"
     ]
    }
   ],
   "source": [
    "dfManhattan20032019.describe(\"Block\").show()"
   ]
  },
  {
   "cell_type": "code",
   "execution_count": 102,
   "id": "f5135b1b",
   "metadata": {},
   "outputs": [
    {
     "name": "stdout",
     "output_type": "stream",
     "text": [
      "+-------+------+\n",
      "|summary|   Lot|\n",
      "+-------+------+\n",
      "|  count|364538|\n",
      "|   mean|   1.0|\n",
      "| stddev|   0.0|\n",
      "|    min|     1|\n",
      "|    max|     1|\n",
      "+-------+------+\n",
      "\n"
     ]
    }
   ],
   "source": [
    "dfManhattan20032019.describe(\"Lot\").show()"
   ]
  },
  {
   "cell_type": "code",
   "execution_count": 103,
   "id": "7447b054",
   "metadata": {},
   "outputs": [
    {
     "name": "stdout",
     "output_type": "stream",
     "text": [
      "+-------+------------------+\n",
      "|summary| Residential Units|\n",
      "+-------+------------------+\n",
      "|  count|            364538|\n",
      "|   mean|2.2704628872710115|\n",
      "| stddev|35.837399603578106|\n",
      "|    min|                 0|\n",
      "|    max|              8759|\n",
      "+-------+------------------+\n",
      "\n"
     ]
    }
   ],
   "source": [
    "dfManhattan20032019.describe(\"Residential Units\").show()"
   ]
  },
  {
   "cell_type": "code",
   "execution_count": 104,
   "id": "00593b83",
   "metadata": {},
   "outputs": [
    {
     "name": "stdout",
     "output_type": "stream",
     "text": [
      "+-------+------------------+\n",
      "|summary|  Commercial Units|\n",
      "+-------+------------------+\n",
      "|  count|            364538|\n",
      "|   mean|0.4465899302679007|\n",
      "| stddev| 8.310559364113793|\n",
      "|    min|                 0|\n",
      "|    max|              2000|\n",
      "+-------+------------------+\n",
      "\n"
     ]
    }
   ],
   "source": [
    "dfManhattan20032019.describe(\"Commercial Units\").show()"
   ]
  },
  {
   "cell_type": "code",
   "execution_count": 105,
   "id": "49608601",
   "metadata": {},
   "outputs": [
    {
     "name": "stdout",
     "output_type": "stream",
     "text": [
      "+-------+-----------------+\n",
      "|summary|      Total Units|\n",
      "+-------+-----------------+\n",
      "|  count|           364538|\n",
      "|   mean|2.763382692613664|\n",
      "| stddev|37.08288740241902|\n",
      "|    min|                0|\n",
      "|    max|             8805|\n",
      "+-------+-----------------+\n",
      "\n"
     ]
    }
   ],
   "source": [
    "dfManhattan20032019.describe(\"Total Units\").show()"
   ]
  },
  {
   "cell_type": "code",
   "execution_count": 106,
   "id": "f8d3df8e",
   "metadata": {},
   "outputs": [
    {
     "name": "stdout",
     "output_type": "stream",
     "text": [
      "+-------+-----------------+\n",
      "|summary| Land Square Feet|\n",
      "+-------+-----------------+\n",
      "|  count|           364538|\n",
      "|   mean|1120.182598247645|\n",
      "| stddev|34416.66129646303|\n",
      "|    min|                0|\n",
      "|    max|         11320000|\n",
      "+-------+-----------------+\n",
      "\n"
     ]
    }
   ],
   "source": [
    "dfManhattan20032019.describe(\"Land Square Feet\").show()"
   ]
  },
  {
   "cell_type": "code",
   "execution_count": 107,
   "id": "f357c7f4",
   "metadata": {},
   "outputs": [
    {
     "name": "stdout",
     "output_type": "stream",
     "text": [
      "+-------+------------------+\n",
      "|summary| Gross Square Feet|\n",
      "+-------+------------------+\n",
      "|  count|            364538|\n",
      "|   mean| 7074.273540755697|\n",
      "| stddev|64440.184172441186|\n",
      "|    min|                 0|\n",
      "|    max|           8942176|\n",
      "+-------+------------------+\n",
      "\n"
     ]
    }
   ],
   "source": [
    "dfManhattan20032019.describe(\"Gross Square Feet\").show()"
   ]
  },
  {
   "cell_type": "code",
   "execution_count": 108,
   "id": "9a060e22",
   "metadata": {},
   "outputs": [
    {
     "name": "stdout",
     "output_type": "stream",
     "text": [
      "+-------+-----------------+\n",
      "|summary|      Total Units|\n",
      "+-------+-----------------+\n",
      "|  count|           364538|\n",
      "|   mean|2.763382692613664|\n",
      "| stddev|37.08288740241902|\n",
      "|    min|                0|\n",
      "|    max|             8805|\n",
      "+-------+-----------------+\n",
      "\n"
     ]
    }
   ],
   "source": [
    "dfManhattan20032019.describe(\"Total Units\").show()"
   ]
  },
  {
   "cell_type": "code",
   "execution_count": 109,
   "id": "90f1e325",
   "metadata": {},
   "outputs": [
    {
     "name": "stdout",
     "output_type": "stream",
     "text": [
      "+-------+--------------------+\n",
      "|summary|          Sale Price|\n",
      "+-------+--------------------+\n",
      "|  count|              364538|\n",
      "|   mean|  2078114.6258579353|\n",
      "| stddev|2.0466949339807667E7|\n",
      "|    min|         -2139967296|\n",
      "|    max|          2100000000|\n",
      "+-------+--------------------+\n",
      "\n"
     ]
    }
   ],
   "source": [
    "dfManhattan20032019.describe(\"Sale Price\").show()"
   ]
  },
  {
   "cell_type": "code",
   "execution_count": 110,
   "id": "c285c109",
   "metadata": {},
   "outputs": [
    {
     "data": {
      "text/plain": [
       "[('Borough', 'string'),\n",
       " ('Neighborhood', 'string'),\n",
       " ('Building Class Category', 'string'),\n",
       " ('Block', 'int'),\n",
       " ('Lot', 'int'),\n",
       " ('Building Class At Present', 'string'),\n",
       " ('Tax Class At Present', 'string'),\n",
       " ('Address', 'string'),\n",
       " ('Residential Units', 'int'),\n",
       " ('Commercial Units', 'int'),\n",
       " ('Total Units', 'int'),\n",
       " ('Land Square Feet', 'int'),\n",
       " ('Gross Square Feet', 'int'),\n",
       " ('Year Built', 'int'),\n",
       " ('Sale Price', 'int'),\n",
       " ('Sale Date', 'date')]"
      ]
     },
     "execution_count": 110,
     "metadata": {},
     "output_type": "execute_result"
    }
   ],
   "source": [
    "dfManhattan20032019.dtypes"
   ]
  },
  {
   "cell_type": "code",
   "execution_count": 111,
   "id": "ac8b66b7",
   "metadata": {},
   "outputs": [
    {
     "name": "stdout",
     "output_type": "stream",
     "text": [
      "Shape of DataFrame:  (364538, 16)\n"
     ]
    }
   ],
   "source": [
    "print(\"Shape of DataFrame: \", (dfManhattan20032019.count(), len(dfManhattan20032019.columns)))"
   ]
  },
  {
   "cell_type": "markdown",
   "id": "3b434bd9",
   "metadata": {},
   "source": [
    "### dfQueens20032019"
   ]
  },
  {
   "cell_type": "markdown",
   "id": "32c483fa",
   "metadata": {},
   "source": [
    "#### Looking for null values"
   ]
  },
  {
   "cell_type": "code",
   "execution_count": 117,
   "id": "349e40d3",
   "metadata": {},
   "outputs": [],
   "source": [
    "dfQueens20032019null = dfQueens20032019.select('Borough',\n",
    " 'Neighborhood',\n",
    " 'Building Class Category',\n",
    " 'Tax Class At Present',\n",
    " 'Block',\n",
    " 'Lot',\n",
    " 'Building Class At Present',\n",
    " 'Address',\n",
    " 'Residential Units',\n",
    " 'Commercial Units',\n",
    " 'Total Units',\n",
    " 'Land Square Feet',\n",
    " 'Gross Square Feet',\n",
    " 'Year Built',\n",
    " 'Sale Price')"
   ]
  },
  {
   "cell_type": "code",
   "execution_count": 118,
   "id": "0ec0c170",
   "metadata": {},
   "outputs": [
    {
     "name": "stdout",
     "output_type": "stream",
     "text": [
      "+-------+------------+-----------------------+--------------------+-----+---+-------------------------+-------+-----------------+----------------+-----------+----------------+-----------------+----------+----------+\n",
      "|Borough|Neighborhood|Building Class Category|Tax Class At Present|Block|Lot|Building Class At Present|Address|Residential Units|Commercial Units|Total Units|Land Square Feet|Gross Square Feet|Year Built|Sale Price|\n",
      "+-------+------------+-----------------------+--------------------+-----+---+-------------------------+-------+-----------------+----------------+-----------+----------------+-----------------+----------+----------+\n",
      "|    187|         187|                    187|                 583|  187|187|                      583|    187|            55077|           55077|      55077|           55077|            55077|     12232|       187|\n",
      "+-------+------------+-----------------------+--------------------+-----+---+-------------------------+-------+-----------------+----------------+-----------+----------------+-----------------+----------+----------+\n",
      "\n"
     ]
    }
   ],
   "source": [
    "dfQueens20032019null.select([count(when(isnan(c) | col(c).isNull(), c)).alias(c) for c in dfQueens20032019null.columns]).show()"
   ]
  },
  {
   "cell_type": "markdown",
   "id": "c3efe6e7",
   "metadata": {},
   "source": [
    "#### Dropping null values"
   ]
  },
  {
   "cell_type": "code",
   "execution_count": 120,
   "id": "0d75321a",
   "metadata": {},
   "outputs": [],
   "source": [
    "dfQueens20032019 = dfQueens20032019.na.drop()"
   ]
  },
  {
   "cell_type": "markdown",
   "id": "3a9de9a1",
   "metadata": {},
   "source": [
    "#### Checking once again"
   ]
  },
  {
   "cell_type": "code",
   "execution_count": 121,
   "id": "2f590020",
   "metadata": {},
   "outputs": [],
   "source": [
    "dfQueens20032019null = dfQueens20032019.select('Borough',\n",
    " 'Neighborhood',\n",
    " 'Building Class Category',\n",
    " 'Tax Class At Present',\n",
    " 'Block',\n",
    " 'Lot',\n",
    " 'Building Class At Present',\n",
    " 'Address',\n",
    " 'Residential Units',\n",
    " 'Commercial Units',\n",
    " 'Total Units',\n",
    " 'Land Square Feet',\n",
    " 'Gross Square Feet',\n",
    " 'Year Built',\n",
    " 'Sale Price')"
   ]
  },
  {
   "cell_type": "code",
   "execution_count": 122,
   "id": "90b57318",
   "metadata": {},
   "outputs": [
    {
     "name": "stdout",
     "output_type": "stream",
     "text": [
      "+-------+------------+-----------------------+--------------------+-----+---+-------------------------+-------+-----------------+----------------+-----------+----------------+-----------------+----------+----------+\n",
      "|Borough|Neighborhood|Building Class Category|Tax Class At Present|Block|Lot|Building Class At Present|Address|Residential Units|Commercial Units|Total Units|Land Square Feet|Gross Square Feet|Year Built|Sale Price|\n",
      "+-------+------------+-----------------------+--------------------+-----+---+-------------------------+-------+-----------------+----------------+-----------+----------------+-----------------+----------+----------+\n",
      "|      0|           0|                      0|                   0|    0|  0|                        0|      0|                0|               0|          0|               0|                0|         0|         0|\n",
      "+-------+------------+-----------------------+--------------------+-----+---+-------------------------+-------+-----------------+----------------+-----------+----------------+-----------------+----------+----------+\n",
      "\n"
     ]
    }
   ],
   "source": [
    "dfQueens20032019null.select([count(when(isnan(c) | col(c).isNull(), c)).alias(c) for c in dfQueens20032019null.columns]).show()"
   ]
  },
  {
   "cell_type": "markdown",
   "id": "88a7bfaf",
   "metadata": {},
   "source": [
    "#### Dealing with duplicates"
   ]
  },
  {
   "cell_type": "code",
   "execution_count": 123,
   "id": "ba0b083b",
   "metadata": {},
   "outputs": [
    {
     "name": "stdout",
     "output_type": "stream",
     "text": [
      "Counting rows 5329984\n"
     ]
    }
   ],
   "source": [
    "print(\"Counting rows {}\".format(dfQueens20032019.count()))"
   ]
  },
  {
   "cell_type": "code",
   "execution_count": 124,
   "id": "acf2784d",
   "metadata": {},
   "outputs": [
    {
     "name": "stdout",
     "output_type": "stream",
     "text": [
      "Counting distinct rows 481002\n"
     ]
    }
   ],
   "source": [
    "print(\"Counting distinct rows {}\".format(dfQueens20032019.distinct().count()))"
   ]
  },
  {
   "cell_type": "code",
   "execution_count": 125,
   "id": "5190f670",
   "metadata": {},
   "outputs": [],
   "source": [
    "dfQueens20032019 = dfQueens20032019.dropDuplicates()"
   ]
  },
  {
   "cell_type": "code",
   "execution_count": 126,
   "id": "f3ab1f6f",
   "metadata": {},
   "outputs": [
    {
     "name": "stdout",
     "output_type": "stream",
     "text": [
      "There are 481002 rows after removing duplicates\n"
     ]
    }
   ],
   "source": [
    "print(\"There are {} rows after removing duplicates\".format(dfQueens20032019.count()))"
   ]
  },
  {
   "cell_type": "markdown",
   "id": "b52a7313",
   "metadata": {},
   "source": [
    "#### Columns"
   ]
  },
  {
   "cell_type": "code",
   "execution_count": 127,
   "id": "4497c1a5",
   "metadata": {},
   "outputs": [
    {
     "name": "stdout",
     "output_type": "stream",
     "text": [
      "There are 16 columns in the DataFrame and their names\n",
      " ['Borough', 'Neighborhood', 'Building Class Category', 'Tax Class At Present', 'Block', 'Lot', 'Building Class At Present', 'Address', 'Residential Units', 'Commercial Units', 'Total Units', 'Land Square Feet', 'Gross Square Feet', 'Year Built', 'Sale Price', 'Sale Date']\n"
     ]
    }
   ],
   "source": [
    "print(\"There are {} columns in the DataFrame and their names\\n {}\".format(len(dfQueens20032019.columns),\n",
    "                                                                         dfQueens20032019.columns))"
   ]
  },
  {
   "cell_type": "markdown",
   "id": "7b4ca5cf",
   "metadata": {},
   "source": [
    "#### Changing datatypes"
   ]
  },
  {
   "cell_type": "code",
   "execution_count": 128,
   "id": "749f2d0e",
   "metadata": {},
   "outputs": [
    {
     "name": "stdout",
     "output_type": "stream",
     "text": [
      "root\n",
      " |-- Borough: double (nullable = true)\n",
      " |-- Neighborhood: string (nullable = true)\n",
      " |-- Building Class Category: string (nullable = true)\n",
      " |-- Tax Class At Present: string (nullable = true)\n",
      " |-- Block: double (nullable = true)\n",
      " |-- Lot: double (nullable = true)\n",
      " |-- Building Class At Present: string (nullable = true)\n",
      " |-- Address: string (nullable = true)\n",
      " |-- Residential Units: double (nullable = true)\n",
      " |-- Commercial Units: double (nullable = true)\n",
      " |-- Total Units: double (nullable = true)\n",
      " |-- Land Square Feet: double (nullable = true)\n",
      " |-- Gross Square Feet: double (nullable = true)\n",
      " |-- Year Built: double (nullable = true)\n",
      " |-- Sale Price: double (nullable = true)\n",
      " |-- Sale Date: timestamp (nullable = true)\n",
      "\n"
     ]
    }
   ],
   "source": [
    "dfQueens20032019.printSchema()"
   ]
  },
  {
   "cell_type": "code",
   "execution_count": 129,
   "id": "35be9fe5",
   "metadata": {},
   "outputs": [],
   "source": [
    "dfQueens20032019 = dfQueens20032019.withColumn(\"Borough\", col(\"Borough\").cast(\"int\")) \\\n",
    "                 .withColumn(\"Block\" , col(\"Block\").cast(\"int\")) \\\n",
    "                 .withColumn(\"Lot\" , col(\"Lot\").cast(\"int\")) \\\n",
    "                 .withColumn(\"Lot\" , col(\"Borough\").cast(\"int\")) \\\n",
    "                 .withColumn(\"Residential Units\" , col(\"Residential Units\").cast(\"int\")) \\\n",
    "                 .withColumn(\"Commercial Units\" , col(\"Commercial Units\").cast(\"int\")) \\\n",
    "                 .withColumn(\"Total Units\" , col(\"Total Units\").cast(\"int\")) \\\n",
    "                 .withColumn(\"Land Square Feet\" , col(\"Land Square Feet\").cast(\"int\")) \\\n",
    "                 .withColumn(\"Gross Square Feet\" , col(\"Gross Square Feet\").cast(\"int\")) \\\n",
    "                 .withColumn(\"Year Built\" , col(\"Year Built\").cast(\"int\")) \\\n",
    "                 .withColumn(\"Sale Price\" , col(\"Sale Price\").cast(\"int\")) \\\n",
    "                 .withColumn(\"Sale Date\" , col(\"Sale Date\").cast(DateType()))"
   ]
  },
  {
   "cell_type": "markdown",
   "id": "d5e5585e",
   "metadata": {},
   "source": [
    "#### Changing numeric values Borough to a name"
   ]
  },
  {
   "cell_type": "code",
   "execution_count": 130,
   "id": "d85e0fb4",
   "metadata": {},
   "outputs": [],
   "source": [
    "dfQueens20032019 = dfQueens20032019.withColumn(\"Borough\", when(col(\"Borough\") == 4,\n",
    "                                                              lit(\"Queens\")).otherwise(lit(\"Queens\")))"
   ]
  },
  {
   "cell_type": "code",
   "execution_count": 131,
   "id": "faecd196",
   "metadata": {},
   "outputs": [
    {
     "name": "stdout",
     "output_type": "stream",
     "text": [
      "+-------+\n",
      "|Borough|\n",
      "+-------+\n",
      "| Queens|\n",
      "+-------+\n",
      "\n"
     ]
    }
   ],
   "source": [
    "dfQueens20032019.select(\"Borough\").distinct().show()"
   ]
  },
  {
   "cell_type": "markdown",
   "id": "d6ee892f",
   "metadata": {},
   "source": [
    "#### Summary"
   ]
  },
  {
   "cell_type": "code",
   "execution_count": 132,
   "id": "c9bf9aa8",
   "metadata": {},
   "outputs": [
    {
     "name": "stdout",
     "output_type": "stream",
     "text": [
      "+-------+-----------------+\n",
      "|summary|            Block|\n",
      "+-------+-----------------+\n",
      "|  count|           481002|\n",
      "|   mean| 6836.67719468942|\n",
      "| stddev|4451.430980746505|\n",
      "|    min|                1|\n",
      "|    max|            16350|\n",
      "+-------+-----------------+\n",
      "\n"
     ]
    }
   ],
   "source": [
    "dfQueens20032019.describe(\"Block\").show()"
   ]
  },
  {
   "cell_type": "code",
   "execution_count": 133,
   "id": "dba1816b",
   "metadata": {},
   "outputs": [
    {
     "name": "stdout",
     "output_type": "stream",
     "text": [
      "+-------+------+\n",
      "|summary|   Lot|\n",
      "+-------+------+\n",
      "|  count|481002|\n",
      "|   mean|   4.0|\n",
      "| stddev|   0.0|\n",
      "|    min|     4|\n",
      "|    max|     4|\n",
      "+-------+------+\n",
      "\n"
     ]
    }
   ],
   "source": [
    "dfQueens20032019.describe(\"Lot\").show()"
   ]
  },
  {
   "cell_type": "code",
   "execution_count": 134,
   "id": "93fbf14e",
   "metadata": {},
   "outputs": [
    {
     "name": "stdout",
     "output_type": "stream",
     "text": [
      "+-------+------------------+\n",
      "|summary| Residential Units|\n",
      "+-------+------------------+\n",
      "|  count|            481002|\n",
      "|   mean| 1.776928162460863|\n",
      "| stddev|13.658818956641662|\n",
      "|    min|                 0|\n",
      "|    max|              1885|\n",
      "+-------+------------------+\n",
      "\n"
     ]
    }
   ],
   "source": [
    "dfQueens20032019.describe(\"Residential Units\").show()"
   ]
  },
  {
   "cell_type": "code",
   "execution_count": 135,
   "id": "13004772",
   "metadata": {},
   "outputs": [
    {
     "name": "stdout",
     "output_type": "stream",
     "text": [
      "+-------+-------------------+\n",
      "|summary|   Commercial Units|\n",
      "+-------+-------------------+\n",
      "|  count|             481002|\n",
      "|   mean|0.15417191612508888|\n",
      "| stddev|  7.100237713779974|\n",
      "|    min|                  0|\n",
      "|    max|               2261|\n",
      "+-------+-------------------+\n",
      "\n"
     ]
    }
   ],
   "source": [
    "dfQueens20032019.describe(\"Commercial Units\").show()"
   ]
  },
  {
   "cell_type": "code",
   "execution_count": 136,
   "id": "a9b4ad40",
   "metadata": {},
   "outputs": [
    {
     "name": "stdout",
     "output_type": "stream",
     "text": [
      "+-------+------------------+\n",
      "|summary|       Total Units|\n",
      "+-------+------------------+\n",
      "|  count|            481002|\n",
      "|   mean| 1.945869247944915|\n",
      "| stddev|15.479591955534879|\n",
      "|    min|                 0|\n",
      "|    max|              2261|\n",
      "+-------+------------------+\n",
      "\n"
     ]
    }
   ],
   "source": [
    "dfQueens20032019.describe(\"Total Units\").show()"
   ]
  },
  {
   "cell_type": "code",
   "execution_count": 137,
   "id": "868c0522",
   "metadata": {},
   "outputs": [
    {
     "name": "stdout",
     "output_type": "stream",
     "text": [
      "+-------+-----------------+\n",
      "|summary| Land Square Feet|\n",
      "+-------+-----------------+\n",
      "|  count|           481002|\n",
      "|   mean|4811.879536883423|\n",
      "| stddev| 541989.675849114|\n",
      "|    min|                0|\n",
      "|    max|        214755710|\n",
      "+-------+-----------------+\n",
      "\n"
     ]
    }
   ],
   "source": [
    "dfQueens20032019.describe(\"Land Square Feet\").show()"
   ]
  },
  {
   "cell_type": "code",
   "execution_count": 138,
   "id": "559df857",
   "metadata": {},
   "outputs": [
    {
     "name": "stdout",
     "output_type": "stream",
     "text": [
      "+-------+-----------------+\n",
      "|summary|Gross Square Feet|\n",
      "+-------+-----------------+\n",
      "|  count|           481002|\n",
      "|   mean|2376.891455752783|\n",
      "| stddev|41921.97236592279|\n",
      "|    min|                0|\n",
      "|    max|         14962152|\n",
      "+-------+-----------------+\n",
      "\n"
     ]
    }
   ],
   "source": [
    "dfQueens20032019.describe(\"Gross Square Feet\").show()"
   ]
  },
  {
   "cell_type": "code",
   "execution_count": 139,
   "id": "40f049e8",
   "metadata": {},
   "outputs": [
    {
     "name": "stdout",
     "output_type": "stream",
     "text": [
      "+-------+------------------+\n",
      "|summary|       Total Units|\n",
      "+-------+------------------+\n",
      "|  count|            481002|\n",
      "|   mean| 1.945869247944915|\n",
      "| stddev|15.479591955534879|\n",
      "|    min|                 0|\n",
      "|    max|              2261|\n",
      "+-------+------------------+\n",
      "\n"
     ]
    }
   ],
   "source": [
    "dfQueens20032019.describe(\"Total Units\").show()"
   ]
  },
  {
   "cell_type": "code",
   "execution_count": 140,
   "id": "58c8b6cc",
   "metadata": {},
   "outputs": [
    {
     "name": "stdout",
     "output_type": "stream",
     "text": [
      "+-------+------------------+\n",
      "|summary|        Sale Price|\n",
      "+-------+------------------+\n",
      "|  count|            481002|\n",
      "|   mean|411387.60475216317|\n",
      "| stddev|2796254.8545693187|\n",
      "|    min|                 0|\n",
      "|    max|         524915655|\n",
      "+-------+------------------+\n",
      "\n"
     ]
    }
   ],
   "source": [
    "dfQueens20032019.describe(\"Sale Price\").show()"
   ]
  },
  {
   "cell_type": "code",
   "execution_count": 141,
   "id": "0c4fe11b",
   "metadata": {},
   "outputs": [
    {
     "data": {
      "text/plain": [
       "[('Borough', 'string'),\n",
       " ('Neighborhood', 'string'),\n",
       " ('Building Class Category', 'string'),\n",
       " ('Tax Class At Present', 'string'),\n",
       " ('Block', 'int'),\n",
       " ('Lot', 'int'),\n",
       " ('Building Class At Present', 'string'),\n",
       " ('Address', 'string'),\n",
       " ('Residential Units', 'int'),\n",
       " ('Commercial Units', 'int'),\n",
       " ('Total Units', 'int'),\n",
       " ('Land Square Feet', 'int'),\n",
       " ('Gross Square Feet', 'int'),\n",
       " ('Year Built', 'int'),\n",
       " ('Sale Price', 'int'),\n",
       " ('Sale Date', 'date')]"
      ]
     },
     "execution_count": 141,
     "metadata": {},
     "output_type": "execute_result"
    }
   ],
   "source": [
    "dfQueens20032019.dtypes"
   ]
  },
  {
   "cell_type": "code",
   "execution_count": 142,
   "id": "97c4291b",
   "metadata": {},
   "outputs": [
    {
     "name": "stdout",
     "output_type": "stream",
     "text": [
      "Shape of DataFrame:  (481002, 16)\n"
     ]
    }
   ],
   "source": [
    "print(\"Shape of DataFrame: \", (dfQueens20032019.count(), len(dfQueens20032019.columns)))"
   ]
  },
  {
   "cell_type": "markdown",
   "id": "ecbbe2cf",
   "metadata": {},
   "source": [
    "### dfStatenIsland20032019"
   ]
  },
  {
   "cell_type": "markdown",
   "id": "e01bf9ff",
   "metadata": {},
   "source": [
    "#### Looking for null values"
   ]
  },
  {
   "cell_type": "code",
   "execution_count": 143,
   "id": "41af88b8",
   "metadata": {},
   "outputs": [],
   "source": [
    "dfStatenIsland20032019null = dfStatenIsland20032019.select('Borough',\n",
    " 'Neighborhood',\n",
    " 'Building Class Category',\n",
    " 'Tax Class At Present',\n",
    " 'Block',\n",
    " 'Lot',\n",
    " 'Building Class At Present',\n",
    " 'Address',\n",
    " 'Residential Units',\n",
    " 'Commercial Units',\n",
    " 'Total Units',\n",
    " 'Land Square Feet',\n",
    " 'Gross Square Feet',\n",
    " 'Year Built',\n",
    " 'Sale Price')"
   ]
  },
  {
   "cell_type": "code",
   "execution_count": 144,
   "id": "0143523f",
   "metadata": {},
   "outputs": [
    {
     "name": "stdout",
     "output_type": "stream",
     "text": [
      "+-------+------------+-----------------------+--------------------+------+------+-------------------------+-------+-----------------+----------------+-----------+----------------+-----------------+----------+----------+\n",
      "|Borough|Neighborhood|Building Class Category|Tax Class At Present| Block|   Lot|Building Class At Present|Address|Residential Units|Commercial Units|Total Units|Land Square Feet|Gross Square Feet|Year Built|Sale Price|\n",
      "+-------+------------+-----------------------+--------------------+------+------+-------------------------+-------+-----------------+----------------+-----------+----------------+-----------------+----------+----------+\n",
      "| 138215|      138215|                 138215|              138226|138215|138215|                   138226| 138215|           139227|          139227|     139227|          139227|           139227|    143891|    138215|\n",
      "+-------+------------+-----------------------+--------------------+------+------+-------------------------+-------+-----------------+----------------+-----------+----------------+-----------------+----------+----------+\n",
      "\n"
     ]
    }
   ],
   "source": [
    "dfStatenIsland20032019null.select([count(when(isnan(c) | col(c).isNull(), c)).alias(c) for c in dfStatenIsland20032019null.columns]).show()"
   ]
  },
  {
   "cell_type": "markdown",
   "id": "36e20072",
   "metadata": {},
   "source": [
    "#### Dropping null values"
   ]
  },
  {
   "cell_type": "code",
   "execution_count": 145,
   "id": "e99e0454",
   "metadata": {},
   "outputs": [],
   "source": [
    "dfStatenIsland20032019 = dfStatenIsland20032019.na.drop()"
   ]
  },
  {
   "cell_type": "markdown",
   "id": "e11608ab",
   "metadata": {},
   "source": [
    "#### Checking once again"
   ]
  },
  {
   "cell_type": "code",
   "execution_count": 146,
   "id": "78c21bd9",
   "metadata": {},
   "outputs": [],
   "source": [
    "dfStatenIsland20032019null = dfStatenIsland20032019.select('Borough',\n",
    " 'Neighborhood',\n",
    " 'Building Class Category',\n",
    " 'Tax Class At Present',\n",
    " 'Block',\n",
    " 'Lot',\n",
    " 'Building Class At Present',\n",
    " 'Address',\n",
    " 'Residential Units',\n",
    " 'Commercial Units',\n",
    " 'Total Units',\n",
    " 'Land Square Feet',\n",
    " 'Gross Square Feet',\n",
    " 'Year Built',\n",
    " 'Sale Price')"
   ]
  },
  {
   "cell_type": "code",
   "execution_count": 147,
   "id": "3027be37",
   "metadata": {},
   "outputs": [
    {
     "name": "stdout",
     "output_type": "stream",
     "text": [
      "+-------+------------+-----------------------+--------------------+-----+---+-------------------------+-------+-----------------+----------------+-----------+----------------+-----------------+----------+----------+\n",
      "|Borough|Neighborhood|Building Class Category|Tax Class At Present|Block|Lot|Building Class At Present|Address|Residential Units|Commercial Units|Total Units|Land Square Feet|Gross Square Feet|Year Built|Sale Price|\n",
      "+-------+------------+-----------------------+--------------------+-----+---+-------------------------+-------+-----------------+----------------+-----------+----------------+-----------------+----------+----------+\n",
      "|      0|           0|                      0|                   0|    0|  0|                        0|      0|                0|               0|          0|               0|                0|         0|         0|\n",
      "+-------+------------+-----------------------+--------------------+-----+---+-------------------------+-------+-----------------+----------------+-----------+----------------+-----------------+----------+----------+\n",
      "\n"
     ]
    }
   ],
   "source": [
    "dfStatenIsland20032019null.select([count(when(isnan(c) | col(c).isNull(), c)).alias(c) for c in dfStatenIsland20032019null.columns]).show()"
   ]
  },
  {
   "cell_type": "markdown",
   "id": "53aac489",
   "metadata": {},
   "source": [
    "#### Dealing with duplicates"
   ]
  },
  {
   "cell_type": "code",
   "execution_count": 148,
   "id": "cfccfd4e",
   "metadata": {},
   "outputs": [
    {
     "name": "stdout",
     "output_type": "stream",
     "text": [
      "Counting rows 1574694\n"
     ]
    }
   ],
   "source": [
    "print(\"Counting rows {}\".format(dfStatenIsland20032019.count()))"
   ]
  },
  {
   "cell_type": "code",
   "execution_count": 149,
   "id": "15a70716",
   "metadata": {},
   "outputs": [
    {
     "name": "stdout",
     "output_type": "stream",
     "text": [
      "Counting distinct rows 141817\n"
     ]
    }
   ],
   "source": [
    "print(\"Counting distinct rows {}\".format(dfStatenIsland20032019.distinct().count()))"
   ]
  },
  {
   "cell_type": "code",
   "execution_count": 150,
   "id": "d0dfdc09",
   "metadata": {},
   "outputs": [],
   "source": [
    "dfStatenIsland20032019 = dfStatenIsland20032019.dropDuplicates()"
   ]
  },
  {
   "cell_type": "code",
   "execution_count": 151,
   "id": "428aeea5",
   "metadata": {},
   "outputs": [
    {
     "name": "stdout",
     "output_type": "stream",
     "text": [
      "There are 141817 rows after removing duplicates\n"
     ]
    }
   ],
   "source": [
    "print(\"There are {} rows after removing duplicates\".format(dfStatenIsland20032019.count()))"
   ]
  },
  {
   "cell_type": "markdown",
   "id": "a25783e6",
   "metadata": {},
   "source": [
    "#### Columns"
   ]
  },
  {
   "cell_type": "code",
   "execution_count": 152,
   "id": "42816714",
   "metadata": {},
   "outputs": [
    {
     "name": "stdout",
     "output_type": "stream",
     "text": [
      "There are 16 columns in the DataFrame and their names\n",
      " ['Borough', 'Neighborhood', 'Building Class Category', 'Tax Class At Present', 'Block', 'Lot', 'Building Class At Present', 'Address', 'Residential Units', 'Commercial Units', 'Total Units', 'Land Square Feet', 'Gross Square Feet', 'Year Built', 'Sale Price', 'Sale Date']\n"
     ]
    }
   ],
   "source": [
    "print(\"There are {} columns in the DataFrame and their names\\n {}\".format(len(dfStatenIsland20032019.columns),\n",
    "                                                                         dfStatenIsland20032019.columns))"
   ]
  },
  {
   "cell_type": "markdown",
   "id": "374f7a0a",
   "metadata": {},
   "source": [
    "#### Changing datatypes"
   ]
  },
  {
   "cell_type": "code",
   "execution_count": 153,
   "id": "bd17bf52",
   "metadata": {},
   "outputs": [
    {
     "name": "stdout",
     "output_type": "stream",
     "text": [
      "root\n",
      " |-- Borough: double (nullable = true)\n",
      " |-- Neighborhood: string (nullable = true)\n",
      " |-- Building Class Category: string (nullable = true)\n",
      " |-- Tax Class At Present: string (nullable = true)\n",
      " |-- Block: double (nullable = true)\n",
      " |-- Lot: double (nullable = true)\n",
      " |-- Building Class At Present: string (nullable = true)\n",
      " |-- Address: string (nullable = true)\n",
      " |-- Residential Units: double (nullable = true)\n",
      " |-- Commercial Units: double (nullable = true)\n",
      " |-- Total Units: double (nullable = true)\n",
      " |-- Land Square Feet: double (nullable = true)\n",
      " |-- Gross Square Feet: double (nullable = true)\n",
      " |-- Year Built: double (nullable = true)\n",
      " |-- Sale Price: double (nullable = true)\n",
      " |-- Sale Date: timestamp (nullable = true)\n",
      "\n"
     ]
    }
   ],
   "source": [
    "dfStatenIsland20032019.printSchema()"
   ]
  },
  {
   "cell_type": "code",
   "execution_count": 154,
   "id": "a777253b",
   "metadata": {},
   "outputs": [],
   "source": [
    "dfStatenIsland20032019 = dfStatenIsland20032019.withColumn(\"Borough\", col(\"Borough\").cast(\"int\")) \\\n",
    "                 .withColumn(\"Block\" , col(\"Block\").cast(\"int\")) \\\n",
    "                 .withColumn(\"Lot\" , col(\"Lot\").cast(\"int\")) \\\n",
    "                 .withColumn(\"Lot\" , col(\"Borough\").cast(\"int\")) \\\n",
    "                 .withColumn(\"Residential Units\" , col(\"Residential Units\").cast(\"int\")) \\\n",
    "                 .withColumn(\"Commercial Units\" , col(\"Commercial Units\").cast(\"int\")) \\\n",
    "                 .withColumn(\"Total Units\" , col(\"Total Units\").cast(\"int\")) \\\n",
    "                 .withColumn(\"Land Square Feet\" , col(\"Land Square Feet\").cast(\"int\")) \\\n",
    "                 .withColumn(\"Gross Square Feet\" , col(\"Gross Square Feet\").cast(\"int\")) \\\n",
    "                 .withColumn(\"Year Built\" , col(\"Year Built\").cast(\"int\")) \\\n",
    "                 .withColumn(\"Sale Price\" , col(\"Sale Price\").cast(\"int\")) \\\n",
    "                 .withColumn(\"Sale Date\" , col(\"Sale Date\").cast(DateType()))"
   ]
  },
  {
   "cell_type": "code",
   "execution_count": 155,
   "id": "26e640eb",
   "metadata": {},
   "outputs": [
    {
     "name": "stdout",
     "output_type": "stream",
     "text": [
      "root\n",
      " |-- Borough: integer (nullable = true)\n",
      " |-- Neighborhood: string (nullable = true)\n",
      " |-- Building Class Category: string (nullable = true)\n",
      " |-- Tax Class At Present: string (nullable = true)\n",
      " |-- Block: integer (nullable = true)\n",
      " |-- Lot: integer (nullable = true)\n",
      " |-- Building Class At Present: string (nullable = true)\n",
      " |-- Address: string (nullable = true)\n",
      " |-- Residential Units: integer (nullable = true)\n",
      " |-- Commercial Units: integer (nullable = true)\n",
      " |-- Total Units: integer (nullable = true)\n",
      " |-- Land Square Feet: integer (nullable = true)\n",
      " |-- Gross Square Feet: integer (nullable = true)\n",
      " |-- Year Built: integer (nullable = true)\n",
      " |-- Sale Price: integer (nullable = true)\n",
      " |-- Sale Date: date (nullable = true)\n",
      "\n"
     ]
    }
   ],
   "source": [
    "dfStatenIsland20032019.printSchema()"
   ]
  },
  {
   "cell_type": "markdown",
   "id": "43028964",
   "metadata": {},
   "source": [
    "#### Changing numeric values Borough to a name"
   ]
  },
  {
   "cell_type": "code",
   "execution_count": 156,
   "id": "25c629e5",
   "metadata": {},
   "outputs": [
    {
     "data": {
      "text/plain": [
       "DataFrame[Borough: string, Neighborhood: string, Building Class Category: string, Tax Class At Present: string, Block: int, Lot: int, Building Class At Present: string, Address: string, Residential Units: int, Commercial Units: int, Total Units: int, Land Square Feet: int, Gross Square Feet: int, Year Built: int, Sale Price: int, Sale Date: date]"
      ]
     },
     "execution_count": 156,
     "metadata": {},
     "output_type": "execute_result"
    }
   ],
   "source": [
    "dfStatenIsland20032019.withColumn(\"Borough\", when(col(\"Borough\") == 5,\n",
    "                                                 lit(\"StatenIsland\")).otherwise(lit(\"StatenIsland\")))"
   ]
  },
  {
   "cell_type": "code",
   "execution_count": 157,
   "id": "f8ba6625",
   "metadata": {},
   "outputs": [
    {
     "name": "stdout",
     "output_type": "stream",
     "text": [
      "+-------+\n",
      "|Borough|\n",
      "+-------+\n",
      "|      5|\n",
      "+-------+\n",
      "\n"
     ]
    }
   ],
   "source": [
    "dfStatenIsland20032019.select(\"Borough\").distinct().show()"
   ]
  },
  {
   "cell_type": "markdown",
   "id": "f390b037",
   "metadata": {},
   "source": [
    "#### Summary"
   ]
  },
  {
   "cell_type": "code",
   "execution_count": 158,
   "id": "28fa8e6a",
   "metadata": {},
   "outputs": [
    {
     "name": "stdout",
     "output_type": "stream",
     "text": [
      "+-------+-----------------+\n",
      "|summary|            Block|\n",
      "+-------+-----------------+\n",
      "|  count|           141817|\n",
      "|   mean|3282.924875014984|\n",
      "| stddev|2358.560344803393|\n",
      "|    min|                1|\n",
      "|    max|             8050|\n",
      "+-------+-----------------+\n",
      "\n"
     ]
    }
   ],
   "source": [
    "dfStatenIsland20032019.describe(\"Block\").show()"
   ]
  },
  {
   "cell_type": "code",
   "execution_count": 159,
   "id": "9400a097",
   "metadata": {},
   "outputs": [
    {
     "name": "stdout",
     "output_type": "stream",
     "text": [
      "+-------+------+\n",
      "|summary|   Lot|\n",
      "+-------+------+\n",
      "|  count|141817|\n",
      "|   mean|   5.0|\n",
      "| stddev|   0.0|\n",
      "|    min|     5|\n",
      "|    max|     5|\n",
      "+-------+------+\n",
      "\n"
     ]
    }
   ],
   "source": [
    "dfStatenIsland20032019.describe(\"Lot\").show()"
   ]
  },
  {
   "cell_type": "code",
   "execution_count": 160,
   "id": "135f19a1",
   "metadata": {},
   "outputs": [
    {
     "name": "stdout",
     "output_type": "stream",
     "text": [
      "+-------+-----------------+\n",
      "|summary|Residential Units|\n",
      "+-------+-----------------+\n",
      "|  count|           141817|\n",
      "|   mean|1.348843932673798|\n",
      "| stddev|6.192245987484058|\n",
      "|    min|                0|\n",
      "|    max|              693|\n",
      "+-------+-----------------+\n",
      "\n"
     ]
    }
   ],
   "source": [
    "dfStatenIsland20032019.describe(\"Residential Units\").show()"
   ]
  },
  {
   "cell_type": "code",
   "execution_count": 161,
   "id": "7bcd5fe0",
   "metadata": {},
   "outputs": [
    {
     "name": "stdout",
     "output_type": "stream",
     "text": [
      "+-------+------------------+\n",
      "|summary|  Commercial Units|\n",
      "+-------+------------------+\n",
      "|  count|            141817|\n",
      "|   mean|0.1604885168914869|\n",
      "| stddev| 15.69709056952263|\n",
      "|    min|                 0|\n",
      "|    max|              4964|\n",
      "+-------+------------------+\n",
      "\n"
     ]
    }
   ],
   "source": [
    "dfStatenIsland20032019.describe(\"Commercial Units\").show()"
   ]
  },
  {
   "cell_type": "code",
   "execution_count": 162,
   "id": "6df0d233",
   "metadata": {},
   "outputs": [
    {
     "name": "stdout",
     "output_type": "stream",
     "text": [
      "+-------+------------------+\n",
      "|summary|       Total Units|\n",
      "+-------+------------------+\n",
      "|  count|            141817|\n",
      "|   mean|1.5096638625834702|\n",
      "| stddev|16.864337254330138|\n",
      "|    min|                 0|\n",
      "|    max|              4964|\n",
      "+-------+------------------+\n",
      "\n"
     ]
    }
   ],
   "source": [
    "dfStatenIsland20032019.describe(\"Total Units\").show()"
   ]
  },
  {
   "cell_type": "code",
   "execution_count": 163,
   "id": "b93c56a9",
   "metadata": {},
   "outputs": [
    {
     "name": "stdout",
     "output_type": "stream",
     "text": [
      "+-------+-----------------+\n",
      "|summary| Land Square Feet|\n",
      "+-------+-----------------+\n",
      "|  count|           141817|\n",
      "|   mean|6471.141238356474|\n",
      "| stddev|76092.62175183729|\n",
      "|    min|                0|\n",
      "|    max|         11076557|\n",
      "+-------+-----------------+\n",
      "\n"
     ]
    }
   ],
   "source": [
    "dfStatenIsland20032019.describe(\"Land Square Feet\").show()"
   ]
  },
  {
   "cell_type": "code",
   "execution_count": 164,
   "id": "b130ac9a",
   "metadata": {},
   "outputs": [
    {
     "name": "stdout",
     "output_type": "stream",
     "text": [
      "+-------+------------------+\n",
      "|summary| Gross Square Feet|\n",
      "+-------+------------------+\n",
      "|  count|            141817|\n",
      "|   mean|2022.5784214868456|\n",
      "| stddev| 9061.274894152346|\n",
      "|    min|                 0|\n",
      "|    max|            881000|\n",
      "+-------+------------------+\n",
      "\n"
     ]
    }
   ],
   "source": [
    "dfStatenIsland20032019.describe(\"Gross Square Feet\").show()"
   ]
  },
  {
   "cell_type": "code",
   "execution_count": 165,
   "id": "cd3fac56",
   "metadata": {},
   "outputs": [
    {
     "name": "stdout",
     "output_type": "stream",
     "text": [
      "+-------+------------------+\n",
      "|summary|       Total Units|\n",
      "+-------+------------------+\n",
      "|  count|            141817|\n",
      "|   mean|1.5096638625834702|\n",
      "| stddev|16.864337254330138|\n",
      "|    min|                 0|\n",
      "|    max|              4964|\n",
      "+-------+------------------+\n",
      "\n"
     ]
    }
   ],
   "source": [
    "dfStatenIsland20032019.describe(\"Total Units\").show()"
   ]
  },
  {
   "cell_type": "code",
   "execution_count": 166,
   "id": "fdafda03",
   "metadata": {},
   "outputs": [
    {
     "name": "stdout",
     "output_type": "stream",
     "text": [
      "+-------+------------------+\n",
      "|summary|        Sale Price|\n",
      "+-------+------------------+\n",
      "|  count|            141817|\n",
      "|   mean|311856.20149911504|\n",
      "| stddev| 933098.6010291488|\n",
      "|    min|                 0|\n",
      "|    max|         189442300|\n",
      "+-------+------------------+\n",
      "\n"
     ]
    }
   ],
   "source": [
    "dfStatenIsland20032019.describe(\"Sale Price\").show()"
   ]
  },
  {
   "cell_type": "code",
   "execution_count": 167,
   "id": "0843a9a2",
   "metadata": {},
   "outputs": [
    {
     "data": {
      "text/plain": [
       "[('Borough', 'int'),\n",
       " ('Neighborhood', 'string'),\n",
       " ('Building Class Category', 'string'),\n",
       " ('Tax Class At Present', 'string'),\n",
       " ('Block', 'int'),\n",
       " ('Lot', 'int'),\n",
       " ('Building Class At Present', 'string'),\n",
       " ('Address', 'string'),\n",
       " ('Residential Units', 'int'),\n",
       " ('Commercial Units', 'int'),\n",
       " ('Total Units', 'int'),\n",
       " ('Land Square Feet', 'int'),\n",
       " ('Gross Square Feet', 'int'),\n",
       " ('Year Built', 'int'),\n",
       " ('Sale Price', 'int'),\n",
       " ('Sale Date', 'date')]"
      ]
     },
     "execution_count": 167,
     "metadata": {},
     "output_type": "execute_result"
    }
   ],
   "source": [
    "dfStatenIsland20032019.dtypes"
   ]
  },
  {
   "cell_type": "code",
   "execution_count": 168,
   "id": "3773f9e1",
   "metadata": {},
   "outputs": [
    {
     "name": "stdout",
     "output_type": "stream",
     "text": [
      "Shape of DataFrame:  (141817, 16)\n"
     ]
    }
   ],
   "source": [
    "print(\"Shape of DataFrame: \", (dfStatenIsland20032019.count(), len(dfStatenIsland20032019.columns)))"
   ]
  },
  {
   "cell_type": "markdown",
   "id": "1f02cf41",
   "metadata": {},
   "source": [
    "# Analysis"
   ]
  },
  {
   "cell_type": "code",
   "execution_count": null,
   "id": "ac51cbd3",
   "metadata": {},
   "outputs": [],
   "source": []
  },
  {
   "cell_type": "code",
   "execution_count": 112,
   "id": "6396dd84",
   "metadata": {},
   "outputs": [],
   "source": [
    "# using inspirations to run this project from .doc files \n",
    "# https://pub.towardsai.net/exploratory-data-analysis-eda-using-pyspark-b43e71fcec9f\n",
    "#https://dev.to/kinyungu_denis/apache-pyspark-for-data-engineering-3phi"
   ]
  }
 ],
 "metadata": {
  "kernelspec": {
   "display_name": "Python 3 (ipykernel)",
   "language": "python",
   "name": "python3"
  },
  "language_info": {
   "codemirror_mode": {
    "name": "ipython",
    "version": 3
   },
   "file_extension": ".py",
   "mimetype": "text/x-python",
   "name": "python",
   "nbconvert_exporter": "python",
   "pygments_lexer": "ipython3",
   "version": "3.9.7"
  }
 },
 "nbformat": 4,
 "nbformat_minor": 5
}
