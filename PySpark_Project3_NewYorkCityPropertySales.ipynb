{
 "cells": [
  {
   "cell_type": "markdown",
   "id": "c751952c",
   "metadata": {},
   "source": [
    "# Starting Spark Session"
   ]
  },
  {
   "cell_type": "code",
   "execution_count": 1,
   "id": "ed3b5b1f",
   "metadata": {},
   "outputs": [],
   "source": [
    "import os\n",
    "import sys\n",
    "import glob\n",
    "os.environ[\"PYARROW_IGNORE_TIMEZONE\"] = \"1\"\n",
    "os.environ['PYSPARK_PYTHON'] = sys.executable\n",
    "os.environ['PYSPARK_DRIVER_PYTHON'] = sys.executable"
   ]
  },
  {
   "cell_type": "code",
   "execution_count": 2,
   "id": "a575de01",
   "metadata": {},
   "outputs": [],
   "source": [
    "from pyspark.sql import SparkSession,functions, Window\n",
    "from pyspark.sql.functions import *\n",
    "from pyspark.sql.types import IntegerType,BooleanType,DateType, LongType,  DoubleType, StringType\n",
    "import pyspark.pandas as ps"
   ]
  },
  {
   "cell_type": "markdown",
   "id": "7c88c2cf",
   "metadata": {},
   "source": [
    "# Creating a Spark Session called NewYorkCitySalesProperty"
   ]
  },
  {
   "cell_type": "code",
   "execution_count": 3,
   "id": "9e1fea67",
   "metadata": {},
   "outputs": [],
   "source": [
    "spark = SparkSession.builder \\\n",
    "      .master(\"local[1]\") \\\n",
    "      .appName(\"NewYorkCitySalesProperty\") \\\n",
    "      .config(\"spark.some.config.option\", \"config-value\") \\\n",
    "      .enableHiveSupport() \\\n",
    "      .getOrCreate()\n",
    "  "
   ]
  },
  {
   "cell_type": "code",
   "execution_count": 4,
   "id": "32e9460c",
   "metadata": {},
   "outputs": [
    {
     "data": {
      "text/html": [
       "\n",
       "            <div>\n",
       "                <p><b>SparkSession - hive</b></p>\n",
       "                \n",
       "        <div>\n",
       "            <p><b>SparkContext</b></p>\n",
       "\n",
       "            <p><a href=\"http://192.168.0.13:4040\">Spark UI</a></p>\n",
       "\n",
       "            <dl>\n",
       "              <dt>Version</dt>\n",
       "                <dd><code>v3.4.0</code></dd>\n",
       "              <dt>Master</dt>\n",
       "                <dd><code>local[1]</code></dd>\n",
       "              <dt>AppName</dt>\n",
       "                <dd><code>NewYorkCitySalesProperty</code></dd>\n",
       "            </dl>\n",
       "        </div>\n",
       "        \n",
       "            </div>\n",
       "        "
      ],
      "text/plain": [
       "<pyspark.sql.session.SparkSession at 0x24a912a98a0>"
      ]
     },
     "execution_count": 4,
     "metadata": {},
     "output_type": "execute_result"
    }
   ],
   "source": [
    "spark"
   ]
  },
  {
   "cell_type": "markdown",
   "id": "cb845eb8",
   "metadata": {},
   "source": [
    "# Browsing .csv Bronx files "
   ]
  },
  {
   "cell_type": "code",
   "execution_count": 5,
   "id": "b43c896c",
   "metadata": {},
   "outputs": [
    {
     "name": "stdout",
     "output_type": "stream",
     "text": [
      "\n",
      "File names: C:\\My commercial projects\\PySpark\\Project 3 PySpark\\New York City Property Sales\\Bronx\\Bronx\\03_Bronx.csv\n",
      "\n",
      "File names: C:\\My commercial projects\\PySpark\\Project 3 PySpark\\New York City Property Sales\\Bronx\\Bronx\\04_Bronx.csv\n",
      "\n",
      "File names: C:\\My commercial projects\\PySpark\\Project 3 PySpark\\New York City Property Sales\\Bronx\\Bronx\\05_Bronx.csv\n",
      "\n",
      "File names: C:\\My commercial projects\\PySpark\\Project 3 PySpark\\New York City Property Sales\\Bronx\\Bronx\\06_Bronx.csv\n",
      "\n",
      "File names: C:\\My commercial projects\\PySpark\\Project 3 PySpark\\New York City Property Sales\\Bronx\\Bronx\\2007_Bronx.csv\n",
      "\n",
      "File names: C:\\My commercial projects\\PySpark\\Project 3 PySpark\\New York City Property Sales\\Bronx\\Bronx\\2008_Bronx.csv\n",
      "\n",
      "File names: C:\\My commercial projects\\PySpark\\Project 3 PySpark\\New York City Property Sales\\Bronx\\Bronx\\2009_Bronx.csv\n",
      "\n",
      "File names: C:\\My commercial projects\\PySpark\\Project 3 PySpark\\New York City Property Sales\\Bronx\\Bronx\\2010_Bronx.csv\n",
      "\n",
      "File names: C:\\My commercial projects\\PySpark\\Project 3 PySpark\\New York City Property Sales\\Bronx\\Bronx\\2011_Bronx.csv\n",
      "\n",
      "File names: C:\\My commercial projects\\PySpark\\Project 3 PySpark\\New York City Property Sales\\Bronx\\Bronx\\2012_Bronx.csv\n",
      "\n",
      "File names: C:\\My commercial projects\\PySpark\\Project 3 PySpark\\New York City Property Sales\\Bronx\\Bronx\\2013_Bronx.csv\n",
      "\n",
      "File names: C:\\My commercial projects\\PySpark\\Project 3 PySpark\\New York City Property Sales\\Bronx\\Bronx\\2014_Bronx.csv\n",
      "\n",
      "File names: C:\\My commercial projects\\PySpark\\Project 3 PySpark\\New York City Property Sales\\Bronx\\Bronx\\2015_Bronx.csv\n",
      "\n",
      "File names: C:\\My commercial projects\\PySpark\\Project 3 PySpark\\New York City Property Sales\\Bronx\\Bronx\\2016_Bronx.csv\n",
      "\n",
      "File names: C:\\My commercial projects\\PySpark\\Project 3 PySpark\\New York City Property Sales\\Bronx\\Bronx\\2017_Bronx.csv\n",
      "\n",
      "File names: C:\\My commercial projects\\PySpark\\Project 3 PySpark\\New York City Property Sales\\Bronx\\Bronx\\2018_Bronx.csv\n",
      "\n",
      "File names: C:\\My commercial projects\\PySpark\\Project 3 PySpark\\New York City Property Sales\\Bronx\\Bronx\\2019_Bronx.csv\n"
     ]
    }
   ],
   "source": [
    "path = r'C:\\My commercial projects\\PySpark\\Project 3 PySpark\\New York City Property Sales\\Bronx\\Bronx'\n",
    "\n",
    "filenames = glob.glob(path + '\\*.csv')\n",
    "\n",
    "for file in filenames:\n",
    "    print('\\nFile names:', file)"
   ]
  },
  {
   "cell_type": "markdown",
   "id": "617dd301",
   "metadata": {},
   "source": [
    "# Browsing .csv Brooklyn files "
   ]
  },
  {
   "cell_type": "code",
   "execution_count": 6,
   "id": "13d274f4",
   "metadata": {},
   "outputs": [
    {
     "name": "stdout",
     "output_type": "stream",
     "text": [
      "\n",
      "File names: C:\\My commercial projects\\PySpark\\Project 3 PySpark\\New York City Property Sales\\Brooklyn\\Brooklyn\\03_Brooklyn.csv\n",
      "\n",
      "File names: C:\\My commercial projects\\PySpark\\Project 3 PySpark\\New York City Property Sales\\Brooklyn\\Brooklyn\\04_Brooklyn.csv\n",
      "\n",
      "File names: C:\\My commercial projects\\PySpark\\Project 3 PySpark\\New York City Property Sales\\Brooklyn\\Brooklyn\\05_Brooklyn.csv\n",
      "\n",
      "File names: C:\\My commercial projects\\PySpark\\Project 3 PySpark\\New York City Property Sales\\Brooklyn\\Brooklyn\\06_Brooklyn.csv\n",
      "\n",
      "File names: C:\\My commercial projects\\PySpark\\Project 3 PySpark\\New York City Property Sales\\Brooklyn\\Brooklyn\\2007_Brooklyn.csv\n",
      "\n",
      "File names: C:\\My commercial projects\\PySpark\\Project 3 PySpark\\New York City Property Sales\\Brooklyn\\Brooklyn\\2008_Brooklyn.csv\n",
      "\n",
      "File names: C:\\My commercial projects\\PySpark\\Project 3 PySpark\\New York City Property Sales\\Brooklyn\\Brooklyn\\2009_Brooklyn.csv\n",
      "\n",
      "File names: C:\\My commercial projects\\PySpark\\Project 3 PySpark\\New York City Property Sales\\Brooklyn\\Brooklyn\\2010_Brooklyn.csv\n",
      "\n",
      "File names: C:\\My commercial projects\\PySpark\\Project 3 PySpark\\New York City Property Sales\\Brooklyn\\Brooklyn\\2011_Brooklyn.csv\n",
      "\n",
      "File names: C:\\My commercial projects\\PySpark\\Project 3 PySpark\\New York City Property Sales\\Brooklyn\\Brooklyn\\2012_Brooklyn.csv\n",
      "\n",
      "File names: C:\\My commercial projects\\PySpark\\Project 3 PySpark\\New York City Property Sales\\Brooklyn\\Brooklyn\\2013_Brooklyn.csv\n",
      "\n",
      "File names: C:\\My commercial projects\\PySpark\\Project 3 PySpark\\New York City Property Sales\\Brooklyn\\Brooklyn\\2014_Brooklyn.csv\n",
      "\n",
      "File names: C:\\My commercial projects\\PySpark\\Project 3 PySpark\\New York City Property Sales\\Brooklyn\\Brooklyn\\2015_Brooklyn.csv\n",
      "\n",
      "File names: C:\\My commercial projects\\PySpark\\Project 3 PySpark\\New York City Property Sales\\Brooklyn\\Brooklyn\\2016_Brooklyn.csv\n",
      "\n",
      "File names: C:\\My commercial projects\\PySpark\\Project 3 PySpark\\New York City Property Sales\\Brooklyn\\Brooklyn\\2017_Brooklyn.csv\n",
      "\n",
      "File names: C:\\My commercial projects\\PySpark\\Project 3 PySpark\\New York City Property Sales\\Brooklyn\\Brooklyn\\2018_Brooklyn.csv\n",
      "\n",
      "File names: C:\\My commercial projects\\PySpark\\Project 3 PySpark\\New York City Property Sales\\Brooklyn\\Brooklyn\\2019_Brooklyn.csv\n"
     ]
    }
   ],
   "source": [
    "path = r'C:\\My commercial projects\\PySpark\\Project 3 PySpark\\New York City Property Sales\\Brooklyn\\Brooklyn'\n",
    "\n",
    "filenames = glob.glob(path + '\\*.csv')\n",
    "\n",
    "for file in filenames:\n",
    "    print('\\nFile names:', file)"
   ]
  },
  {
   "cell_type": "markdown",
   "id": "ad119aa7",
   "metadata": {},
   "source": [
    "# Browsing .csv Manhattan files \n"
   ]
  },
  {
   "cell_type": "code",
   "execution_count": 7,
   "id": "ef925463",
   "metadata": {},
   "outputs": [
    {
     "name": "stdout",
     "output_type": "stream",
     "text": [
      "\n",
      "File names: C:\\My commercial projects\\PySpark\\Project 3 PySpark\\New York City Property Sales\\Manhattan\\Manhattan\\03_Manhattan.csv\n",
      "\n",
      "File names: C:\\My commercial projects\\PySpark\\Project 3 PySpark\\New York City Property Sales\\Manhattan\\Manhattan\\04_Manhattan.csv\n",
      "\n",
      "File names: C:\\My commercial projects\\PySpark\\Project 3 PySpark\\New York City Property Sales\\Manhattan\\Manhattan\\05_Manhattan.csv\n",
      "\n",
      "File names: C:\\My commercial projects\\PySpark\\Project 3 PySpark\\New York City Property Sales\\Manhattan\\Manhattan\\06_Manhattan.csv\n",
      "\n",
      "File names: C:\\My commercial projects\\PySpark\\Project 3 PySpark\\New York City Property Sales\\Manhattan\\Manhattan\\2007_Manhattan.csv\n",
      "\n",
      "File names: C:\\My commercial projects\\PySpark\\Project 3 PySpark\\New York City Property Sales\\Manhattan\\Manhattan\\2008_Manhattan.csv\n",
      "\n",
      "File names: C:\\My commercial projects\\PySpark\\Project 3 PySpark\\New York City Property Sales\\Manhattan\\Manhattan\\2009_Manhattan.csv\n",
      "\n",
      "File names: C:\\My commercial projects\\PySpark\\Project 3 PySpark\\New York City Property Sales\\Manhattan\\Manhattan\\2010_Manhattan.csv\n",
      "\n",
      "File names: C:\\My commercial projects\\PySpark\\Project 3 PySpark\\New York City Property Sales\\Manhattan\\Manhattan\\2011_Manhattan.csv\n",
      "\n",
      "File names: C:\\My commercial projects\\PySpark\\Project 3 PySpark\\New York City Property Sales\\Manhattan\\Manhattan\\2012_Manhattan.csv\n",
      "\n",
      "File names: C:\\My commercial projects\\PySpark\\Project 3 PySpark\\New York City Property Sales\\Manhattan\\Manhattan\\2013_Manhattan.csv\n",
      "\n",
      "File names: C:\\My commercial projects\\PySpark\\Project 3 PySpark\\New York City Property Sales\\Manhattan\\Manhattan\\2014_Manhattan.csv\n",
      "\n",
      "File names: C:\\My commercial projects\\PySpark\\Project 3 PySpark\\New York City Property Sales\\Manhattan\\Manhattan\\2015_Manhattan.csv\n",
      "\n",
      "File names: C:\\My commercial projects\\PySpark\\Project 3 PySpark\\New York City Property Sales\\Manhattan\\Manhattan\\2016_Manhattan.csv\n",
      "\n",
      "File names: C:\\My commercial projects\\PySpark\\Project 3 PySpark\\New York City Property Sales\\Manhattan\\Manhattan\\2017_Manhattan.csv\n",
      "\n",
      "File names: C:\\My commercial projects\\PySpark\\Project 3 PySpark\\New York City Property Sales\\Manhattan\\Manhattan\\2018_Manhattan.csv\n",
      "\n",
      "File names: C:\\My commercial projects\\PySpark\\Project 3 PySpark\\New York City Property Sales\\Manhattan\\Manhattan\\2019_Manhattan.csv\n"
     ]
    }
   ],
   "source": [
    "path = r'C:\\My commercial projects\\PySpark\\Project 3 PySpark\\New York City Property Sales\\Manhattan\\Manhattan'\n",
    "\n",
    "filenames = glob.glob(path + '\\*.csv')\n",
    "\n",
    "for file in filenames:\n",
    "    print('\\nFile names:', file)"
   ]
  },
  {
   "cell_type": "markdown",
   "id": "064778c2",
   "metadata": {},
   "source": [
    "# Browsing .csv Queens files \n"
   ]
  },
  {
   "cell_type": "code",
   "execution_count": 8,
   "id": "b609d80e",
   "metadata": {},
   "outputs": [
    {
     "name": "stdout",
     "output_type": "stream",
     "text": [
      "\n",
      "File names: C:\\My commercial projects\\PySpark\\Project 3 PySpark\\New York City Property Sales\\Queens\\Queens\\03_Queens.csv\n",
      "\n",
      "File names: C:\\My commercial projects\\PySpark\\Project 3 PySpark\\New York City Property Sales\\Queens\\Queens\\04_Queens.csv\n",
      "\n",
      "File names: C:\\My commercial projects\\PySpark\\Project 3 PySpark\\New York City Property Sales\\Queens\\Queens\\05_Queens.csv\n",
      "\n",
      "File names: C:\\My commercial projects\\PySpark\\Project 3 PySpark\\New York City Property Sales\\Queens\\Queens\\06_Queens.csv\n",
      "\n",
      "File names: C:\\My commercial projects\\PySpark\\Project 3 PySpark\\New York City Property Sales\\Queens\\Queens\\2007_Queens.csv\n",
      "\n",
      "File names: C:\\My commercial projects\\PySpark\\Project 3 PySpark\\New York City Property Sales\\Queens\\Queens\\2008_Queens.csv\n",
      "\n",
      "File names: C:\\My commercial projects\\PySpark\\Project 3 PySpark\\New York City Property Sales\\Queens\\Queens\\2009_Queens.csv\n",
      "\n",
      "File names: C:\\My commercial projects\\PySpark\\Project 3 PySpark\\New York City Property Sales\\Queens\\Queens\\2010_Queens.csv\n",
      "\n",
      "File names: C:\\My commercial projects\\PySpark\\Project 3 PySpark\\New York City Property Sales\\Queens\\Queens\\2011_Queens.csv\n",
      "\n",
      "File names: C:\\My commercial projects\\PySpark\\Project 3 PySpark\\New York City Property Sales\\Queens\\Queens\\2012_Queens.csv\n",
      "\n",
      "File names: C:\\My commercial projects\\PySpark\\Project 3 PySpark\\New York City Property Sales\\Queens\\Queens\\2013_Queens.csv\n",
      "\n",
      "File names: C:\\My commercial projects\\PySpark\\Project 3 PySpark\\New York City Property Sales\\Queens\\Queens\\2014_Queens.csv\n",
      "\n",
      "File names: C:\\My commercial projects\\PySpark\\Project 3 PySpark\\New York City Property Sales\\Queens\\Queens\\2015_Queens.csv\n",
      "\n",
      "File names: C:\\My commercial projects\\PySpark\\Project 3 PySpark\\New York City Property Sales\\Queens\\Queens\\2016_Queens.csv\n",
      "\n",
      "File names: C:\\My commercial projects\\PySpark\\Project 3 PySpark\\New York City Property Sales\\Queens\\Queens\\2017_Queens.csv\n",
      "\n",
      "File names: C:\\My commercial projects\\PySpark\\Project 3 PySpark\\New York City Property Sales\\Queens\\Queens\\2018_Queens.csv\n",
      "\n",
      "File names: C:\\My commercial projects\\PySpark\\Project 3 PySpark\\New York City Property Sales\\Queens\\Queens\\2019_Queens.csv\n"
     ]
    }
   ],
   "source": [
    "path = r'C:\\My commercial projects\\PySpark\\Project 3 PySpark\\New York City Property Sales\\Queens\\Queens'\n",
    "\n",
    "filenames = glob.glob(path + '\\*.csv')\n",
    "\n",
    "for file in filenames:\n",
    "    print('\\nFile names:', file)"
   ]
  },
  {
   "cell_type": "markdown",
   "id": "e71be7ac",
   "metadata": {},
   "source": [
    "# Browsing .csv StatensIsland files \n"
   ]
  },
  {
   "cell_type": "code",
   "execution_count": 9,
   "id": "f743a1dd",
   "metadata": {},
   "outputs": [
    {
     "name": "stdout",
     "output_type": "stream",
     "text": [
      "\n",
      "File names: C:\\My commercial projects\\PySpark\\Project 3 PySpark\\New York City Property Sales\\StatenIsland\\StatenIsland\\03_StatenIsland.csv\n",
      "\n",
      "File names: C:\\My commercial projects\\PySpark\\Project 3 PySpark\\New York City Property Sales\\StatenIsland\\StatenIsland\\04_StatenIsland.csv\n",
      "\n",
      "File names: C:\\My commercial projects\\PySpark\\Project 3 PySpark\\New York City Property Sales\\StatenIsland\\StatenIsland\\05_StatenIsland.csv\n",
      "\n",
      "File names: C:\\My commercial projects\\PySpark\\Project 3 PySpark\\New York City Property Sales\\StatenIsland\\StatenIsland\\06_StatenIsland.csv\n",
      "\n",
      "File names: C:\\My commercial projects\\PySpark\\Project 3 PySpark\\New York City Property Sales\\StatenIsland\\StatenIsland\\2007_StatenIsland.csv\n",
      "\n",
      "File names: C:\\My commercial projects\\PySpark\\Project 3 PySpark\\New York City Property Sales\\StatenIsland\\StatenIsland\\2008_StatenIsland.csv\n",
      "\n",
      "File names: C:\\My commercial projects\\PySpark\\Project 3 PySpark\\New York City Property Sales\\StatenIsland\\StatenIsland\\2009_StatenIsland.csv\n",
      "\n",
      "File names: C:\\My commercial projects\\PySpark\\Project 3 PySpark\\New York City Property Sales\\StatenIsland\\StatenIsland\\2010_StatenIsland.csv\n",
      "\n",
      "File names: C:\\My commercial projects\\PySpark\\Project 3 PySpark\\New York City Property Sales\\StatenIsland\\StatenIsland\\2011_StatenIsland.csv\n",
      "\n",
      "File names: C:\\My commercial projects\\PySpark\\Project 3 PySpark\\New York City Property Sales\\StatenIsland\\StatenIsland\\2012_StatenIsland.csv\n",
      "\n",
      "File names: C:\\My commercial projects\\PySpark\\Project 3 PySpark\\New York City Property Sales\\StatenIsland\\StatenIsland\\2013_StatenIsland.csv\n",
      "\n",
      "File names: C:\\My commercial projects\\PySpark\\Project 3 PySpark\\New York City Property Sales\\StatenIsland\\StatenIsland\\2014_StatenIsland.csv\n",
      "\n",
      "File names: C:\\My commercial projects\\PySpark\\Project 3 PySpark\\New York City Property Sales\\StatenIsland\\StatenIsland\\2015_StatenIsland.csv\n",
      "\n",
      "File names: C:\\My commercial projects\\PySpark\\Project 3 PySpark\\New York City Property Sales\\StatenIsland\\StatenIsland\\2016_StatenIsland.csv\n",
      "\n",
      "File names: C:\\My commercial projects\\PySpark\\Project 3 PySpark\\New York City Property Sales\\StatenIsland\\StatenIsland\\2017_StatenIsland.csv\n",
      "\n",
      "File names: C:\\My commercial projects\\PySpark\\Project 3 PySpark\\New York City Property Sales\\StatenIsland\\StatenIsland\\2018_StatenIsland.csv\n",
      "\n",
      "File names: C:\\My commercial projects\\PySpark\\Project 3 PySpark\\New York City Property Sales\\StatenIsland\\StatenIsland\\2019_StatenIsland.csv\n"
     ]
    }
   ],
   "source": [
    "path = r'C:\\My commercial projects\\PySpark\\Project 3 PySpark\\New York City Property Sales\\StatenIsland\\StatenIsland'\n",
    "\n",
    "filenames = glob.glob(path + '\\*.csv')\n",
    "\n",
    "for file in filenames:\n",
    "    print('\\nFile names:', file)"
   ]
  },
  {
   "cell_type": "code",
   "execution_count": null,
   "id": "1a846b77",
   "metadata": {},
   "outputs": [],
   "source": []
  }
 ],
 "metadata": {
  "kernelspec": {
   "display_name": "Python 3 (ipykernel)",
   "language": "python",
   "name": "python3"
  },
  "language_info": {
   "codemirror_mode": {
    "name": "ipython",
    "version": 3
   },
   "file_extension": ".py",
   "mimetype": "text/x-python",
   "name": "python",
   "nbconvert_exporter": "python",
   "pygments_lexer": "ipython3",
   "version": "3.10.9"
  }
 },
 "nbformat": 4,
 "nbformat_minor": 5
}
